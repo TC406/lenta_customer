{
  "nbformat": 4,
  "nbformat_minor": 0,
  "metadata": {
    "colab": {
      "name": "Copy of Lenta_hack",
      "provenance": [],
      "machine_shape": "hm"
    },
    "kernelspec": {
      "name": "python3",
      "display_name": "Python 3"
    },
    "accelerator": "GPU"
  },
  "cells": [
    {
      "cell_type": "code",
      "metadata": {
        "id": "PX_Jblubuf_U",
        "outputId": "58b02f9c-71b5-48f3-9830-9ccef5ee8224",
        "colab": {
          "base_uri": "https://localhost:8080/",
          "height": 35
        }
      },
      "source": [
        "from google.colab import drive\n",
        "drive.mount('/content/drive')"
      ],
      "execution_count": null,
      "outputs": [
        {
          "output_type": "stream",
          "text": [
            "Drive already mounted at /content/drive; to attempt to forcibly remount, call drive.mount(\"/content/drive\", force_remount=True).\n"
          ],
          "name": "stdout"
        }
      ]
    },
    {
      "cell_type": "code",
      "metadata": {
        "id": "cWRZ5QU3uuJ0",
        "outputId": "da861755-c391-48d2-edca-d1c916fdb3bf",
        "colab": {
          "base_uri": "https://localhost:8080/",
          "height": 109
        }
      },
      "source": [
        "!unzip -P Skoltech '/content/drive/My Drive/hack_data.zip'"
      ],
      "execution_count": null,
      "outputs": [
        {
          "output_type": "stream",
          "text": [
            "Archive:  /content/drive/My Drive/hack_data.zip\n",
            "  inflating: clients.csv             \n",
            "  inflating: materials.csv           \n",
            "  inflating: plants.csv              \n",
            "  inflating: transactions.parquet    \n"
          ],
          "name": "stdout"
        }
      ]
    },
    {
      "cell_type": "code",
      "metadata": {
        "id": "F2lj5FQExy9Y",
        "outputId": "3a3e1735-b224-4067-e2e1-3e41d8928de7",
        "colab": {
          "base_uri": "https://localhost:8080/",
          "height": 1000
        }
      },
      "source": [
        "!python -m pip install \"dask[complete]\" "
      ],
      "execution_count": null,
      "outputs": [
        {
          "output_type": "stream",
          "text": [
            "Requirement already satisfied: dask[complete] in /usr/local/lib/python3.6/dist-packages (2.12.0)\n",
            "Requirement already satisfied: PyYaml; extra == \"complete\" in /usr/local/lib/python3.6/dist-packages (from dask[complete]) (3.13)\n",
            "Collecting fsspec>=0.6.0; extra == \"complete\"\n",
            "\u001b[?25l  Downloading https://files.pythonhosted.org/packages/4c/38/39b83c70ff47192255c15da1b602322cb9918682199d5c1d9cf128bdd531/fsspec-0.8.3-py3-none-any.whl (88kB)\n",
            "\u001b[K     |████████████████████████████████| 92kB 2.4MB/s \n",
            "\u001b[?25hRequirement already satisfied: numpy>=1.13.0; extra == \"complete\" in /usr/local/lib/python3.6/dist-packages (from dask[complete]) (1.18.5)\n",
            "Collecting partd>=0.3.10; extra == \"complete\"\n",
            "  Downloading https://files.pythonhosted.org/packages/44/e1/68dbe731c9c067655bff1eca5b7d40c20ca4b23fd5ec9f3d17e201a6f36b/partd-1.1.0-py3-none-any.whl\n",
            "Requirement already satisfied: pandas>=0.23.0; extra == \"complete\" in /usr/local/lib/python3.6/dist-packages (from dask[complete]) (1.0.5)\n",
            "Requirement already satisfied: bokeh>=1.0.0; extra == \"complete\" in /usr/local/lib/python3.6/dist-packages (from dask[complete]) (2.1.1)\n",
            "Collecting distributed>=2.0; extra == \"complete\"\n",
            "\u001b[?25l  Downloading https://files.pythonhosted.org/packages/bf/e4/ee17c167321d95bc35e7e379eea9257663509c95327a379c927fb5486565/distributed-2.27.0-py3-none-any.whl (652kB)\n",
            "\u001b[K     |████████████████████████████████| 655kB 9.0MB/s \n",
            "\u001b[?25hRequirement already satisfied: toolz>=0.7.3; extra == \"complete\" in /usr/local/lib/python3.6/dist-packages (from dask[complete]) (0.10.0)\n",
            "Requirement already satisfied: cloudpickle>=0.2.1; extra == \"complete\" in /usr/local/lib/python3.6/dist-packages (from dask[complete]) (1.3.0)\n",
            "Collecting locket\n",
            "  Downloading https://files.pythonhosted.org/packages/d0/22/3c0f97614e0be8386542facb3a7dcfc2584f7b83608c02333bced641281c/locket-0.2.0.tar.gz\n",
            "Requirement already satisfied: pytz>=2017.2 in /usr/local/lib/python3.6/dist-packages (from pandas>=0.23.0; extra == \"complete\"->dask[complete]) (2018.9)\n",
            "Requirement already satisfied: python-dateutil>=2.6.1 in /usr/local/lib/python3.6/dist-packages (from pandas>=0.23.0; extra == \"complete\"->dask[complete]) (2.8.1)\n",
            "Requirement already satisfied: tornado>=5.1 in /usr/local/lib/python3.6/dist-packages (from bokeh>=1.0.0; extra == \"complete\"->dask[complete]) (5.1.1)\n",
            "Requirement already satisfied: typing-extensions>=3.7.4 in /usr/local/lib/python3.6/dist-packages (from bokeh>=1.0.0; extra == \"complete\"->dask[complete]) (3.7.4.3)\n",
            "Requirement already satisfied: Jinja2>=2.7 in /usr/local/lib/python3.6/dist-packages (from bokeh>=1.0.0; extra == \"complete\"->dask[complete]) (2.11.2)\n",
            "Requirement already satisfied: pillow>=4.0 in /usr/local/lib/python3.6/dist-packages (from bokeh>=1.0.0; extra == \"complete\"->dask[complete]) (7.0.0)\n",
            "Requirement already satisfied: packaging>=16.8 in /usr/local/lib/python3.6/dist-packages (from bokeh>=1.0.0; extra == \"complete\"->dask[complete]) (20.4)\n",
            "Requirement already satisfied: click>=6.6 in /usr/local/lib/python3.6/dist-packages (from distributed>=2.0; extra == \"complete\"->dask[complete]) (7.1.2)\n",
            "Requirement already satisfied: sortedcontainers!=2.0.0,!=2.0.1 in /usr/local/lib/python3.6/dist-packages (from distributed>=2.0; extra == \"complete\"->dask[complete]) (2.2.2)\n",
            "Collecting contextvars; python_version < \"3.7\"\n",
            "  Downloading https://files.pythonhosted.org/packages/83/96/55b82d9f13763be9d672622e1b8106c85acb83edd7cc2fa5bc67cd9877e9/contextvars-2.4.tar.gz\n",
            "Requirement already satisfied: setuptools in /usr/local/lib/python3.6/dist-packages (from distributed>=2.0; extra == \"complete\"->dask[complete]) (50.3.0)\n",
            "Requirement already satisfied: psutil>=5.0 in /usr/local/lib/python3.6/dist-packages (from distributed>=2.0; extra == \"complete\"->dask[complete]) (5.4.8)\n",
            "Requirement already satisfied: tblib>=1.6.0 in /usr/local/lib/python3.6/dist-packages (from distributed>=2.0; extra == \"complete\"->dask[complete]) (1.7.0)\n",
            "Requirement already satisfied: msgpack>=0.6.0 in /usr/local/lib/python3.6/dist-packages (from distributed>=2.0; extra == \"complete\"->dask[complete]) (1.0.0)\n",
            "Requirement already satisfied: zict>=0.1.3 in /usr/local/lib/python3.6/dist-packages (from distributed>=2.0; extra == \"complete\"->dask[complete]) (2.0.0)\n",
            "Requirement already satisfied: six>=1.5 in /usr/local/lib/python3.6/dist-packages (from python-dateutil>=2.6.1->pandas>=0.23.0; extra == \"complete\"->dask[complete]) (1.15.0)\n",
            "Requirement already satisfied: MarkupSafe>=0.23 in /usr/local/lib/python3.6/dist-packages (from Jinja2>=2.7->bokeh>=1.0.0; extra == \"complete\"->dask[complete]) (1.1.1)\n",
            "Requirement already satisfied: pyparsing>=2.0.2 in /usr/local/lib/python3.6/dist-packages (from packaging>=16.8->bokeh>=1.0.0; extra == \"complete\"->dask[complete]) (2.4.7)\n",
            "Collecting immutables>=0.9\n",
            "\u001b[?25l  Downloading https://files.pythonhosted.org/packages/99/e0/ea6fd4697120327d26773b5a84853f897a68e33d3f9376b00a8ff96e4f63/immutables-0.14-cp36-cp36m-manylinux1_x86_64.whl (98kB)\n",
            "\u001b[K     |████████████████████████████████| 102kB 7.6MB/s \n",
            "\u001b[?25hRequirement already satisfied: heapdict in /usr/local/lib/python3.6/dist-packages (from zict>=0.1.3->distributed>=2.0; extra == \"complete\"->dask[complete]) (1.0.1)\n",
            "Building wheels for collected packages: locket, contextvars\n",
            "  Building wheel for locket (setup.py) ... \u001b[?25l\u001b[?25hdone\n",
            "  Created wheel for locket: filename=locket-0.2.0-cp36-none-any.whl size=4040 sha256=fe0bf940b595e25ecdb817155ce62cab9336f3270c5506ff95a9157137b46c4d\n",
            "  Stored in directory: /root/.cache/pip/wheels/26/1e/e8/4fa236ec931b1a0cdd61578e20d4934d7bf188858723b84698\n",
            "  Building wheel for contextvars (setup.py) ... \u001b[?25l\u001b[?25hdone\n",
            "  Created wheel for contextvars: filename=contextvars-2.4-cp36-none-any.whl size=7666 sha256=38e9f59f88faef79845ae9fd5943e9943c3a9afe9505bcbe494aaf5f3ecfa0bf\n",
            "  Stored in directory: /root/.cache/pip/wheels/a5/7d/68/1ebae2668bda2228686e3c1cf16f2c2384cea6e9334ad5f6de\n",
            "Successfully built locket contextvars\n",
            "\u001b[31mERROR: distributed 2.27.0 has requirement cloudpickle>=1.5.0, but you'll have cloudpickle 1.3.0 which is incompatible.\u001b[0m\n",
            "Installing collected packages: fsspec, locket, partd, immutables, contextvars, distributed\n",
            "  Found existing installation: distributed 1.25.3\n",
            "    Uninstalling distributed-1.25.3:\n",
            "      Successfully uninstalled distributed-1.25.3\n",
            "Successfully installed contextvars-2.4 distributed-2.27.0 fsspec-0.8.3 immutables-0.14 locket-0.2.0 partd-1.1.0\n"
          ],
          "name": "stdout"
        }
      ]
    },
    {
      "cell_type": "code",
      "metadata": {
        "id": "EH1gxcVwvhJY"
      },
      "source": [
        "import dask.dataframe as dd\n",
        "import pandas as pd\n",
        "import pickle\n",
        "from tqdm import tqdm"
      ],
      "execution_count": null,
      "outputs": []
    },
    {
      "cell_type": "code",
      "metadata": {
        "id": "_9sBxGqrwFds",
        "outputId": "3a3d919f-62e1-4ec7-8e31-fee75024ba5f",
        "colab": {
          "base_uri": "https://localhost:8080/",
          "height": 237
        }
      },
      "source": [
        "clients = pd.read_csv('clients.csv', verbose=True)\n",
        "materials = pd.read_csv('materials.csv', verbose=True)\n",
        "plants = pd.read_csv('plants.csv', verbose=True)"
      ],
      "execution_count": null,
      "outputs": [
        {
          "output_type": "stream",
          "text": [
            "Tokenization took: 32.42 ms\n",
            "Type conversion took: 49.64 ms\n",
            "Parser memory cleanup took: 0.01 ms\n",
            "Tokenization took: 61.90 ms\n",
            "Type conversion took: 67.01 ms\n",
            "Parser memory cleanup took: 0.01 ms\n",
            "Tokenization took: 27.93 ms\n",
            "Type conversion took: 39.52 ms\n",
            "Parser memory cleanup took: 0.01 ms\n",
            "Tokenization took: 0.08 ms\n",
            "Type conversion took: 0.80 ms\n",
            "Parser memory cleanup took: 0.00 ms\n"
          ],
          "name": "stdout"
        }
      ]
    },
    {
      "cell_type": "code",
      "metadata": {
        "id": "NVRWL78PyCis"
      },
      "source": [
        "trans = dd.read_parquet('transactions.parquet')"
      ],
      "execution_count": null,
      "outputs": []
    },
    {
      "cell_type": "code",
      "metadata": {
        "id": "8abFjEgEw_dp",
        "outputId": "0db5e704-ca4b-4b52-919a-01ee6b0b5702",
        "colab": {
          "base_uri": "https://localhost:8080/",
          "height": 174
        }
      },
      "source": [
        "trans_by_client = trans.groupby('client_id')"
      ],
      "execution_count": null,
      "outputs": [
        {
          "output_type": "error",
          "ename": "NameError",
          "evalue": "ignored",
          "traceback": [
            "\u001b[0;31m---------------------------------------------------------------------------\u001b[0m",
            "\u001b[0;31mNameError\u001b[0m                                 Traceback (most recent call last)",
            "\u001b[0;32m<ipython-input-8-116b0586f454>\u001b[0m in \u001b[0;36m<module>\u001b[0;34m()\u001b[0m\n\u001b[0;32m----> 1\u001b[0;31m \u001b[0mtrans_by_client\u001b[0m \u001b[0;34m=\u001b[0m \u001b[0mtrans\u001b[0m\u001b[0;34m.\u001b[0m\u001b[0mgroupby\u001b[0m\u001b[0;34m(\u001b[0m\u001b[0;34m'client_id'\u001b[0m\u001b[0;34m)\u001b[0m\u001b[0;34m\u001b[0m\u001b[0;34m\u001b[0m\u001b[0m\n\u001b[0m",
            "\u001b[0;31mNameError\u001b[0m: name 'trans' is not defined"
          ]
        }
      ]
    },
    {
      "cell_type": "code",
      "metadata": {
        "id": "sSnndMtg3g32",
        "outputId": "444fddde-52df-40fc-d986-6edfe0233012",
        "colab": {
          "base_uri": "https://localhost:8080/",
          "height": 182
        }
      },
      "source": [
        "print(trans_by_client.last().head())"
      ],
      "execution_count": null,
      "outputs": [
        {
          "output_type": "stream",
          "text": [
            "                                                            chq_id  ... is_promo\n",
            "client_id                                                           ...         \n",
            "0000d48a8891cd462fdf01ea861ec53e  5e58f7ad4e48291073ee4807d952dd62  ...        1\n",
            "00028a1dcb30863404a386961a69300e  d82790f079a00571d4b0f0fcda3153e7  ...        1\n",
            "0004274683494a9eca5e70ef97299d55  375e0d72b26f5cd483324cc11f6d0f58  ...        0\n",
            "00072f81efcb3481861f7300c5e2a88a  fce88284d1aacdc26f98434ee4975ef4  ...        0\n",
            "00076596eb749cf10c2e984621dffe95  2d28891b29914aedf17f5e0333088545  ...        1\n",
            "\n",
            "[5 rows x 8 columns]\n"
          ],
          "name": "stdout"
        }
      ]
    },
    {
      "cell_type": "code",
      "metadata": {
        "id": "7brKjh9y3m_z"
      },
      "source": [
        "trans2 = pd.read_csv('/content/drive/My Drive/sample.csv')"
      ],
      "execution_count": null,
      "outputs": []
    },
    {
      "cell_type": "code",
      "metadata": {
        "id": "yklA1jg45LMu",
        "outputId": "4eaf866b-8c59-4c47-fc07-6b0612e8b013",
        "colab": {
          "base_uri": "https://localhost:8080/",
          "height": 244
        }
      },
      "source": [
        "trans2.head()"
      ],
      "execution_count": null,
      "outputs": [
        {
          "output_type": "execute_result",
          "data": {
            "text/html": [
              "<div>\n",
              "<style scoped>\n",
              "    .dataframe tbody tr th:only-of-type {\n",
              "        vertical-align: middle;\n",
              "    }\n",
              "\n",
              "    .dataframe tbody tr th {\n",
              "        vertical-align: top;\n",
              "    }\n",
              "\n",
              "    .dataframe thead th {\n",
              "        text-align: right;\n",
              "    }\n",
              "</style>\n",
              "<table border=\"1\" class=\"dataframe\">\n",
              "  <thead>\n",
              "    <tr style=\"text-align: right;\">\n",
              "      <th></th>\n",
              "      <th>Unnamed: 0</th>\n",
              "      <th>chq_id</th>\n",
              "      <th>plant</th>\n",
              "      <th>chq_date</th>\n",
              "      <th>chq_position</th>\n",
              "      <th>client_id</th>\n",
              "      <th>material</th>\n",
              "      <th>sales_count</th>\n",
              "      <th>sales_sum</th>\n",
              "      <th>is_promo</th>\n",
              "    </tr>\n",
              "  </thead>\n",
              "  <tbody>\n",
              "    <tr>\n",
              "      <th>0</th>\n",
              "      <td>26124569</td>\n",
              "      <td>01fb5fa1a778790afd08e8d7ef38e237</td>\n",
              "      <td>cccc8bc3d6630bf84a08f9ba361baea0</td>\n",
              "      <td>2017-08-03</td>\n",
              "      <td>25</td>\n",
              "      <td>6da30a50f81238d9b3e426c6b885d2ec</td>\n",
              "      <td>44ce960aed7d4c21001db08667a95bb0</td>\n",
              "      <td>2.00</td>\n",
              "      <td>23.58</td>\n",
              "      <td>0</td>\n",
              "    </tr>\n",
              "    <tr>\n",
              "      <th>1</th>\n",
              "      <td>25465983</td>\n",
              "      <td>867db9be630079c386bf8a5623482c9f</td>\n",
              "      <td>65b6f89e9041a2a78554f1c3db6c13e9</td>\n",
              "      <td>2017-07-22</td>\n",
              "      <td>44</td>\n",
              "      <td>2494649ed77f876d8bb818e41e65a705</td>\n",
              "      <td>184790d7f3250d7da915e71cf32ad255</td>\n",
              "      <td>1.00</td>\n",
              "      <td>149.99</td>\n",
              "      <td>0</td>\n",
              "    </tr>\n",
              "    <tr>\n",
              "      <th>2</th>\n",
              "      <td>14300781</td>\n",
              "      <td>27dbe224d498e0675aaaf0f0e198926a</td>\n",
              "      <td>2c393e45170ca8e02cc1b670e799da1b</td>\n",
              "      <td>2017-04-20</td>\n",
              "      <td>35</td>\n",
              "      <td>6934eef0d62f7e451fe803543c0d58a7</td>\n",
              "      <td>92c77ef0ad96da2bcf81e5f8d854e40b</td>\n",
              "      <td>4.00</td>\n",
              "      <td>159.56</td>\n",
              "      <td>1</td>\n",
              "    </tr>\n",
              "    <tr>\n",
              "      <th>3</th>\n",
              "      <td>22749195</td>\n",
              "      <td>4f90e9a0ab96ac01804a29e717ddadc8</td>\n",
              "      <td>9423f9da33f4c25382bf9dd96812916d</td>\n",
              "      <td>2017-06-19</td>\n",
              "      <td>9</td>\n",
              "      <td>f7d99bf6d08b1d733c4a38caa7283ef7</td>\n",
              "      <td>c2f210cc3ba0ea02c319eedd17d70a69</td>\n",
              "      <td>1.59</td>\n",
              "      <td>111.28</td>\n",
              "      <td>0</td>\n",
              "    </tr>\n",
              "    <tr>\n",
              "      <th>4</th>\n",
              "      <td>24955029</td>\n",
              "      <td>6bbdab43883e74f727ace712ee586017</td>\n",
              "      <td>66e78b22162c1774129ea149e0171b52</td>\n",
              "      <td>2016-10-09</td>\n",
              "      <td>4</td>\n",
              "      <td>a61459a5239c680fdbabe968df231ef4</td>\n",
              "      <td>ded0f55a75324cefcc53249559331e18</td>\n",
              "      <td>1.00</td>\n",
              "      <td>69.99</td>\n",
              "      <td>1</td>\n",
              "    </tr>\n",
              "  </tbody>\n",
              "</table>\n",
              "</div>"
            ],
            "text/plain": [
              "   Unnamed: 0                            chq_id  ... sales_sum is_promo\n",
              "0    26124569  01fb5fa1a778790afd08e8d7ef38e237  ...     23.58        0\n",
              "1    25465983  867db9be630079c386bf8a5623482c9f  ...    149.99        0\n",
              "2    14300781  27dbe224d498e0675aaaf0f0e198926a  ...    159.56        1\n",
              "3    22749195  4f90e9a0ab96ac01804a29e717ddadc8  ...    111.28        0\n",
              "4    24955029  6bbdab43883e74f727ace712ee586017  ...     69.99        1\n",
              "\n",
              "[5 rows x 10 columns]"
            ]
          },
          "metadata": {
            "tags": []
          },
          "execution_count": 5
        }
      ]
    },
    {
      "cell_type": "code",
      "metadata": {
        "id": "LU-_bQiU5Mpt"
      },
      "source": [
        "trans2_grouped = trans2.groupby('client_id')"
      ],
      "execution_count": null,
      "outputs": []
    },
    {
      "cell_type": "code",
      "metadata": {
        "id": "ZAnAasyk5pSY",
        "outputId": "6de6a61e-caf0-4242-9360-0a4ae569008d",
        "colab": {
          "base_uri": "https://localhost:8080/",
          "height": 1000
        }
      },
      "source": [
        "clients_dict = {}\n",
        "\n",
        "for trans_by_client_id in tqdm(trans2_grouped):\n",
        "  client_id = trans_by_client_id[0]\n",
        "  clients_dict[client_id] = {}\n",
        "  trans_by_client_chq = trans_by_client_id[1].groupby('chq_id')\n",
        "  \n",
        "  for client_chq in trans_by_client_chq:\n",
        "    clients_dict[client_id][client_chq[0]] = {}\n",
        "    for column in ['plant', 'chq_date', 'material', 'sales_count', 'sales_sum', 'is_promo']:\n",
        "      clients_dict[client_id][client_chq[0]][column] = client_chq[1].iloc[0][column]"
      ],
      "execution_count": null,
      "outputs": [
        {
          "output_type": "stream",
          "text": [
            "\n",
            "  0%|          | 0/91423 [00:00<?, ?it/s]\u001b[A\n",
            "  0%|          | 1/91423 [00:00<15:52:03,  1.60it/s]\u001b[A\n",
            "  0%|          | 5/91423 [00:00<11:28:36,  2.21it/s]\u001b[A\n",
            "  0%|          | 13/91423 [00:00<8:08:50,  3.12it/s]\u001b[A\n",
            "  0%|          | 19/91423 [00:01<5:50:35,  4.35it/s]\u001b[A\n",
            "  0%|          | 27/91423 [00:01<4:15:03,  5.97it/s]\u001b[A\n",
            "  0%|          | 35/91423 [00:01<3:05:31,  8.21it/s]\u001b[A\n",
            "  0%|          | 48/91423 [00:01<2:13:49, 11.38it/s]\u001b[A\n",
            "  0%|          | 56/91423 [00:01<1:40:45, 15.11it/s]\u001b[A\n",
            "  0%|          | 65/91423 [00:01<1:15:50, 20.08it/s]\u001b[A\n",
            "  0%|          | 73/91423 [00:01<1:03:17, 24.06it/s]\u001b[A\n",
            "  0%|          | 82/91423 [00:01<50:04, 30.40it/s]  \u001b[A\n",
            "  0%|          | 89/91423 [00:02<42:20, 35.95it/s]\u001b[A\n",
            "  0%|          | 96/91423 [00:02<39:34, 38.46it/s]\u001b[A\n",
            "  0%|          | 103/91423 [00:02<40:22, 37.69it/s]\u001b[A\n",
            "  0%|          | 109/91423 [00:02<44:03, 34.54it/s]\u001b[A\n",
            "  0%|          | 116/91423 [00:02<39:57, 38.09it/s]\u001b[A\n",
            "  0%|          | 122/91423 [00:02<35:50, 42.46it/s]\u001b[A\n",
            "  0%|          | 130/91423 [00:02<31:14, 48.70it/s]\u001b[A\n",
            "  0%|          | 140/91423 [00:03<27:13, 55.87it/s]\u001b[A\n",
            "  0%|          | 147/91423 [00:03<29:31, 51.51it/s]\u001b[A\n",
            "  0%|          | 158/91423 [00:03<26:07, 58.23it/s]\u001b[A\n",
            "  0%|          | 166/91423 [00:03<26:45, 56.84it/s]\u001b[A\n",
            "  0%|          | 174/91423 [00:03<26:13, 57.99it/s]\u001b[A\n",
            "  0%|          | 181/91423 [00:03<28:39, 53.07it/s]\u001b[A\n",
            "  0%|          | 187/91423 [00:03<30:29, 49.86it/s]\u001b[A\n",
            "  0%|          | 193/91423 [00:04<28:57, 52.52it/s]\u001b[A\n",
            "  0%|          | 200/91423 [00:04<32:52, 46.24it/s]\u001b[A\n",
            "  0%|          | 208/91423 [00:04<29:16, 51.92it/s]\u001b[A\n",
            "  0%|          | 217/91423 [00:04<25:46, 58.97it/s]\u001b[A\n",
            "  0%|          | 224/91423 [00:04<26:18, 57.77it/s]\u001b[A\n",
            "  0%|          | 233/91423 [00:04<23:41, 64.15it/s]\u001b[A\n",
            "  0%|          | 240/91423 [00:04<25:11, 60.32it/s]\u001b[A\n",
            "  0%|          | 247/91423 [00:04<26:18, 57.75it/s]\u001b[A\n",
            "  0%|          | 254/91423 [00:05<32:02, 47.42it/s]\u001b[A\n",
            "  0%|          | 264/91423 [00:05<27:32, 55.16it/s]\u001b[A\n",
            "  0%|          | 271/91423 [00:05<27:11, 55.87it/s]\u001b[A\n",
            "  0%|          | 279/91423 [00:05<25:33, 59.45it/s]\u001b[A\n",
            "  0%|          | 286/91423 [00:05<24:32, 61.89it/s]\u001b[A\n",
            "  0%|          | 298/91423 [00:05<21:22, 71.03it/s]\u001b[A\n",
            "  0%|          | 306/91423 [00:05<21:30, 70.59it/s]\u001b[A\n",
            "  0%|          | 314/91423 [00:06<23:22, 64.97it/s]\u001b[A\n",
            "  0%|          | 321/91423 [00:06<24:36, 61.70it/s]\u001b[A\n",
            "  0%|          | 328/91423 [00:06<24:34, 61.76it/s]\u001b[A\n",
            "  0%|          | 338/91423 [00:06<21:46, 69.71it/s]\u001b[A\n",
            "  0%|          | 346/91423 [00:06<23:31, 64.52it/s]\u001b[A\n",
            "  0%|          | 356/91423 [00:06<21:09, 71.74it/s]\u001b[A\n",
            "  0%|          | 364/91423 [00:06<22:47, 66.61it/s]\u001b[A\n",
            "  0%|          | 372/91423 [00:06<23:11, 65.45it/s]\u001b[A\n",
            "  0%|          | 379/91423 [00:06<23:11, 65.43it/s]\u001b[A\n",
            "  0%|          | 386/91423 [00:07<23:52, 63.55it/s]\u001b[A\n",
            "  0%|          | 393/91423 [00:07<23:50, 63.63it/s]\u001b[A\n",
            "  0%|          | 400/91423 [00:07<24:09, 62.80it/s]\u001b[A\n",
            "  0%|          | 408/91423 [00:07<22:57, 66.06it/s]\u001b[A\n",
            "  0%|          | 415/91423 [00:07<24:32, 61.81it/s]\u001b[A\n",
            "  0%|          | 422/91423 [00:07<27:53, 54.38it/s]\u001b[A\n",
            "  0%|          | 428/91423 [00:07<30:24, 49.87it/s]\u001b[A\n",
            "  0%|          | 434/91423 [00:07<29:40, 51.10it/s]\u001b[A\n",
            "  0%|          | 442/91423 [00:08<29:10, 51.98it/s]\u001b[A\n",
            "  0%|          | 448/91423 [00:08<29:20, 51.67it/s]\u001b[A\n",
            "  0%|          | 454/91423 [00:08<30:17, 50.05it/s]\u001b[A\n",
            "  1%|          | 460/91423 [00:08<29:20, 51.66it/s]\u001b[A\n",
            "  1%|          | 471/91423 [00:08<25:19, 59.87it/s]\u001b[A\n",
            "  1%|          | 479/91423 [00:08<23:28, 64.58it/s]\u001b[A\n",
            "  1%|          | 486/91423 [00:08<24:00, 63.12it/s]\u001b[A\n",
            "  1%|          | 493/91423 [00:08<27:33, 54.99it/s]\u001b[A\n",
            "  1%|          | 501/91423 [00:09<26:42, 56.72it/s]\u001b[A\n",
            "  1%|          | 507/91423 [00:09<29:32, 51.28it/s]\u001b[A\n",
            "  1%|          | 513/91423 [00:09<32:16, 46.94it/s]\u001b[A\n",
            "  1%|          | 518/91423 [00:09<32:07, 47.17it/s]\u001b[A\n",
            "  1%|          | 527/91423 [00:09<29:40, 51.04it/s]\u001b[A\n",
            "  1%|          | 537/91423 [00:09<25:41, 58.96it/s]\u001b[A\n",
            "  1%|          | 546/91423 [00:09<24:30, 61.80it/s]\u001b[A\n",
            "  1%|          | 553/91423 [00:10<25:39, 59.04it/s]\u001b[A\n",
            "  1%|          | 560/91423 [00:10<26:27, 57.25it/s]\u001b[A\n",
            "  1%|          | 569/91423 [00:10<23:34, 64.24it/s]\u001b[A\n",
            "  1%|          | 576/91423 [00:10<27:41, 54.69it/s]\u001b[A\n",
            "  1%|          | 583/91423 [00:10<28:29, 53.14it/s]\u001b[A\n",
            "  1%|          | 591/91423 [00:10<25:46, 58.72it/s]\u001b[A\n",
            "  1%|          | 598/91423 [00:10<26:41, 56.71it/s]\u001b[A\n",
            "  1%|          | 610/91423 [00:10<22:45, 66.52it/s]\u001b[A\n",
            "  1%|          | 618/91423 [00:11<27:13, 55.58it/s]\u001b[A\n",
            "  1%|          | 625/91423 [00:11<27:02, 55.97it/s]\u001b[A\n",
            "  1%|          | 632/91423 [00:11<26:00, 58.20it/s]\u001b[A\n",
            "  1%|          | 639/91423 [00:11<27:40, 54.66it/s]\u001b[A\n",
            "  1%|          | 645/91423 [00:11<34:31, 43.83it/s]\u001b[A\n",
            "  1%|          | 650/91423 [00:11<42:32, 35.57it/s]\u001b[A\n",
            "  1%|          | 657/91423 [00:12<37:55, 39.88it/s]\u001b[A\n",
            "  1%|          | 662/91423 [00:12<36:52, 41.01it/s]\u001b[A\n",
            "  1%|          | 671/91423 [00:12<31:39, 47.79it/s]\u001b[A\n",
            "  1%|          | 680/91423 [00:12<27:52, 54.26it/s]\u001b[A\n",
            "  1%|          | 687/91423 [00:12<27:21, 55.29it/s]\u001b[A\n",
            "  1%|          | 694/91423 [00:12<26:16, 57.56it/s]\u001b[A\n",
            "  1%|          | 701/91423 [00:12<26:05, 57.94it/s]\u001b[A\n",
            "  1%|          | 708/91423 [00:12<26:22, 57.32it/s]\u001b[A\n",
            "  1%|          | 714/91423 [00:12<27:15, 55.46it/s]\u001b[A\n",
            "  1%|          | 722/91423 [00:13<29:58, 50.43it/s]\u001b[A\n",
            "  1%|          | 730/91423 [00:13<27:32, 54.87it/s]\u001b[A\n",
            "  1%|          | 737/91423 [00:13<26:08, 57.80it/s]\u001b[A\n",
            "  1%|          | 745/91423 [00:13<25:42, 58.80it/s]\u001b[A\n",
            "  1%|          | 754/91423 [00:13<23:43, 63.67it/s]\u001b[A\n",
            "  1%|          | 761/91423 [00:13<23:29, 64.34it/s]\u001b[A\n",
            "  1%|          | 771/91423 [00:13<22:11, 68.06it/s]\u001b[A\n",
            "  1%|          | 779/91423 [00:13<21:25, 70.51it/s]\u001b[A\n",
            "  1%|          | 787/91423 [00:14<22:25, 67.35it/s]\u001b[A\n",
            "  1%|          | 794/91423 [00:14<25:24, 59.46it/s]\u001b[A\n",
            "  1%|          | 801/91423 [00:14<29:46, 50.73it/s]\u001b[A\n",
            "  1%|          | 811/91423 [00:14<26:05, 57.90it/s]\u001b[A\n",
            "  1%|          | 818/91423 [00:14<28:24, 53.16it/s]\u001b[A\n",
            "  1%|          | 827/91423 [00:14<27:24, 55.09it/s]\u001b[A\n",
            "  1%|          | 833/91423 [00:14<27:30, 54.89it/s]\u001b[A\n",
            "  1%|          | 842/91423 [00:15<24:45, 60.99it/s]\u001b[A\n",
            "  1%|          | 851/91423 [00:15<26:02, 57.96it/s]\u001b[A\n",
            "  1%|          | 858/91423 [00:15<26:09, 57.69it/s]\u001b[A\n",
            "  1%|          | 867/91423 [00:15<24:07, 62.58it/s]\u001b[A\n",
            "  1%|          | 874/91423 [00:15<34:28, 43.78it/s]\u001b[A\n",
            "  1%|          | 880/91423 [00:15<34:05, 44.26it/s]\u001b[A\n",
            "  1%|          | 887/91423 [00:15<31:37, 47.71it/s]\u001b[A\n",
            "  1%|          | 893/91423 [00:16<29:46, 50.66it/s]\u001b[A\n",
            "  1%|          | 899/91423 [00:16<29:18, 51.47it/s]\u001b[A\n",
            "  1%|          | 905/91423 [00:16<31:38, 47.68it/s]\u001b[A\n",
            "  1%|          | 913/91423 [00:16<28:38, 52.68it/s]\u001b[A\n",
            "  1%|          | 920/91423 [00:16<27:22, 55.10it/s]\u001b[A\n",
            "  1%|          | 928/91423 [00:16<26:09, 57.65it/s]\u001b[A\n",
            "  1%|          | 935/91423 [00:16<25:06, 60.08it/s]\u001b[A\n",
            "  1%|          | 946/91423 [00:16<22:09, 68.07it/s]\u001b[A\n",
            "  1%|          | 954/91423 [00:17<22:45, 66.26it/s]\u001b[A\n",
            "  1%|          | 963/91423 [00:17<21:50, 69.05it/s]\u001b[A\n",
            "  1%|          | 973/91423 [00:17<21:04, 71.54it/s]\u001b[A\n",
            "  1%|          | 981/91423 [00:17<25:29, 59.14it/s]\u001b[A\n",
            "  1%|          | 991/91423 [00:17<22:48, 66.07it/s]\u001b[A\n",
            "  1%|          | 999/91423 [00:17<22:20, 67.46it/s]\u001b[A\n",
            "  1%|          | 1007/91423 [00:17<24:53, 60.54it/s]\u001b[A\n",
            "  1%|          | 1014/91423 [00:17<23:53, 63.09it/s]\u001b[A\n",
            "  1%|          | 1021/91423 [00:18<32:24, 46.49it/s]\u001b[A\n",
            "  1%|          | 1030/91423 [00:18<28:13, 53.36it/s]\u001b[A\n",
            "  1%|          | 1037/91423 [00:18<28:33, 52.75it/s]\u001b[A\n",
            "  1%|          | 1048/91423 [00:18<24:20, 61.89it/s]\u001b[A\n",
            "  1%|          | 1057/91423 [00:18<22:42, 66.33it/s]\u001b[A\n",
            "  1%|          | 1065/91423 [00:18<26:22, 57.10it/s]\u001b[A\n",
            "  1%|          | 1072/91423 [00:18<25:31, 58.99it/s]\u001b[A\n",
            "  1%|          | 1083/91423 [00:19<22:14, 67.71it/s]\u001b[A\n",
            "  1%|          | 1091/91423 [00:19<23:13, 64.80it/s]\u001b[A\n",
            "  1%|          | 1100/91423 [00:19<21:49, 69.00it/s]\u001b[A\n",
            "  1%|          | 1108/91423 [00:19<26:04, 57.71it/s]\u001b[A\n",
            "  1%|          | 1115/91423 [00:19<27:37, 54.48it/s]\u001b[A\n",
            "  1%|          | 1123/91423 [00:19<26:13, 57.39it/s]\u001b[A\n",
            "  1%|          | 1130/91423 [00:19<26:32, 56.70it/s]\u001b[A\n",
            "  1%|          | 1141/91423 [00:20<23:05, 65.17it/s]\u001b[A\n",
            "  1%|▏         | 1149/91423 [00:20<24:29, 61.43it/s]\u001b[A\n",
            "  1%|▏         | 1157/91423 [00:20<23:08, 65.00it/s]\u001b[A\n",
            "  1%|▏         | 1164/91423 [00:20<30:22, 49.52it/s]\u001b[A\n",
            "  1%|▏         | 1172/91423 [00:20<28:54, 52.05it/s]\u001b[A\n",
            "  1%|▏         | 1179/91423 [00:20<26:51, 56.01it/s]\u001b[A\n",
            "  1%|▏         | 1186/91423 [00:20<27:12, 55.29it/s]\u001b[A\n",
            "  1%|▏         | 1193/91423 [00:20<26:26, 56.88it/s]\u001b[A\n",
            "  1%|▏         | 1199/91423 [00:21<29:15, 51.39it/s]\u001b[A\n",
            "  1%|▏         | 1205/91423 [00:21<39:55, 37.67it/s]\u001b[A\n",
            "  1%|▏         | 1215/91423 [00:21<32:36, 46.11it/s]\u001b[A\n",
            "  1%|▏         | 1225/91423 [00:21<28:02, 53.62it/s]\u001b[A\n",
            "  1%|▏         | 1233/91423 [00:21<28:20, 53.04it/s]\u001b[A\n",
            "  1%|▏         | 1240/91423 [00:21<27:19, 55.00it/s]\u001b[A\n",
            "  1%|▏         | 1247/91423 [00:21<25:54, 57.99it/s]\u001b[A\n",
            "  1%|▏         | 1255/91423 [00:22<24:05, 62.39it/s]\u001b[A\n",
            "  1%|▏         | 1263/91423 [00:22<25:21, 59.26it/s]\u001b[A\n",
            "  1%|▏         | 1270/91423 [00:22<27:06, 55.42it/s]\u001b[A\n",
            "  1%|▏         | 1282/91423 [00:22<22:49, 65.81it/s]\u001b[A\n",
            "  1%|▏         | 1290/91423 [00:22<22:36, 66.45it/s]\u001b[A\n",
            "  1%|▏         | 1299/91423 [00:22<21:30, 69.84it/s]\u001b[A"
          ],
          "name": "stderr"
        },
        {
          "output_type": "error",
          "ename": "KeyboardInterrupt",
          "evalue": "ignored",
          "traceback": [
            "\u001b[0;31m---------------------------------------------------------------------------\u001b[0m",
            "\u001b[0;31mKeyboardInterrupt\u001b[0m                         Traceback (most recent call last)",
            "\u001b[0;32m<ipython-input-14-d9af183b5282>\u001b[0m in \u001b[0;36m<module>\u001b[0;34m()\u001b[0m\n\u001b[1;32m      6\u001b[0m   \u001b[0mtrans_by_client_chq\u001b[0m \u001b[0;34m=\u001b[0m \u001b[0mtrans_by_client_id\u001b[0m\u001b[0;34m[\u001b[0m\u001b[0;36m1\u001b[0m\u001b[0;34m]\u001b[0m\u001b[0;34m.\u001b[0m\u001b[0mgroupby\u001b[0m\u001b[0;34m(\u001b[0m\u001b[0;34m'chq_id'\u001b[0m\u001b[0;34m)\u001b[0m\u001b[0;34m\u001b[0m\u001b[0;34m\u001b[0m\u001b[0m\n\u001b[1;32m      7\u001b[0m \u001b[0;34m\u001b[0m\u001b[0m\n\u001b[0;32m----> 8\u001b[0;31m   \u001b[0;32mfor\u001b[0m \u001b[0mclient_chq\u001b[0m \u001b[0;32min\u001b[0m \u001b[0mtrans_by_client_chq\u001b[0m\u001b[0;34m:\u001b[0m\u001b[0;34m\u001b[0m\u001b[0;34m\u001b[0m\u001b[0m\n\u001b[0m\u001b[1;32m      9\u001b[0m     \u001b[0mclients_dict\u001b[0m\u001b[0;34m[\u001b[0m\u001b[0mclient_id\u001b[0m\u001b[0;34m]\u001b[0m\u001b[0;34m[\u001b[0m\u001b[0mclient_chq\u001b[0m\u001b[0;34m[\u001b[0m\u001b[0;36m0\u001b[0m\u001b[0;34m]\u001b[0m\u001b[0;34m]\u001b[0m \u001b[0;34m=\u001b[0m \u001b[0;34m{\u001b[0m\u001b[0;34m}\u001b[0m\u001b[0;34m\u001b[0m\u001b[0;34m\u001b[0m\u001b[0m\n\u001b[1;32m     10\u001b[0m     \u001b[0;32mfor\u001b[0m \u001b[0mcolumn\u001b[0m \u001b[0;32min\u001b[0m \u001b[0;34m[\u001b[0m\u001b[0;34m'plant'\u001b[0m\u001b[0;34m,\u001b[0m \u001b[0;34m'chq_date'\u001b[0m\u001b[0;34m,\u001b[0m \u001b[0;34m'material'\u001b[0m\u001b[0;34m,\u001b[0m \u001b[0;34m'sales_count'\u001b[0m\u001b[0;34m,\u001b[0m \u001b[0;34m'sales_sum'\u001b[0m\u001b[0;34m,\u001b[0m \u001b[0;34m'is_promo'\u001b[0m\u001b[0;34m]\u001b[0m\u001b[0;34m:\u001b[0m\u001b[0;34m\u001b[0m\u001b[0;34m\u001b[0m\u001b[0m\n",
            "\u001b[0;32m/usr/local/lib/python3.6/dist-packages/pandas/core/groupby/ops.py\u001b[0m in \u001b[0;36mget_iterator\u001b[0;34m(self, data, axis)\u001b[0m\n\u001b[1;32m    124\u001b[0m         \u001b[0msplitter\u001b[0m \u001b[0;34m=\u001b[0m \u001b[0mself\u001b[0m\u001b[0;34m.\u001b[0m\u001b[0m_get_splitter\u001b[0m\u001b[0;34m(\u001b[0m\u001b[0mdata\u001b[0m\u001b[0;34m,\u001b[0m \u001b[0maxis\u001b[0m\u001b[0;34m=\u001b[0m\u001b[0maxis\u001b[0m\u001b[0;34m)\u001b[0m\u001b[0;34m\u001b[0m\u001b[0;34m\u001b[0m\u001b[0m\n\u001b[1;32m    125\u001b[0m         \u001b[0mkeys\u001b[0m \u001b[0;34m=\u001b[0m \u001b[0mself\u001b[0m\u001b[0;34m.\u001b[0m\u001b[0m_get_group_keys\u001b[0m\u001b[0;34m(\u001b[0m\u001b[0;34m)\u001b[0m\u001b[0;34m\u001b[0m\u001b[0;34m\u001b[0m\u001b[0m\n\u001b[0;32m--> 126\u001b[0;31m         \u001b[0;32mfor\u001b[0m \u001b[0mkey\u001b[0m\u001b[0;34m,\u001b[0m \u001b[0;34m(\u001b[0m\u001b[0mi\u001b[0m\u001b[0;34m,\u001b[0m \u001b[0mgroup\u001b[0m\u001b[0;34m)\u001b[0m \u001b[0;32min\u001b[0m \u001b[0mzip\u001b[0m\u001b[0;34m(\u001b[0m\u001b[0mkeys\u001b[0m\u001b[0;34m,\u001b[0m \u001b[0msplitter\u001b[0m\u001b[0;34m)\u001b[0m\u001b[0;34m:\u001b[0m\u001b[0;34m\u001b[0m\u001b[0;34m\u001b[0m\u001b[0m\n\u001b[0m\u001b[1;32m    127\u001b[0m             \u001b[0;32myield\u001b[0m \u001b[0mkey\u001b[0m\u001b[0;34m,\u001b[0m \u001b[0mgroup\u001b[0m\u001b[0;34m\u001b[0m\u001b[0;34m\u001b[0m\u001b[0m\n\u001b[1;32m    128\u001b[0m \u001b[0;34m\u001b[0m\u001b[0m\n",
            "\u001b[0;32m/usr/local/lib/python3.6/dist-packages/pandas/core/groupby/ops.py\u001b[0m in \u001b[0;36m__iter__\u001b[0;34m(self)\u001b[0m\n\u001b[1;32m    909\u001b[0m \u001b[0;34m\u001b[0m\u001b[0m\n\u001b[1;32m    910\u001b[0m         \u001b[0;32mfor\u001b[0m \u001b[0mi\u001b[0m\u001b[0;34m,\u001b[0m \u001b[0;34m(\u001b[0m\u001b[0mstart\u001b[0m\u001b[0;34m,\u001b[0m \u001b[0mend\u001b[0m\u001b[0;34m)\u001b[0m \u001b[0;32min\u001b[0m \u001b[0menumerate\u001b[0m\u001b[0;34m(\u001b[0m\u001b[0mzip\u001b[0m\u001b[0;34m(\u001b[0m\u001b[0mstarts\u001b[0m\u001b[0;34m,\u001b[0m \u001b[0mends\u001b[0m\u001b[0;34m)\u001b[0m\u001b[0;34m)\u001b[0m\u001b[0;34m:\u001b[0m\u001b[0;34m\u001b[0m\u001b[0;34m\u001b[0m\u001b[0m\n\u001b[0;32m--> 911\u001b[0;31m             \u001b[0;32myield\u001b[0m \u001b[0mi\u001b[0m\u001b[0;34m,\u001b[0m \u001b[0mself\u001b[0m\u001b[0;34m.\u001b[0m\u001b[0m_chop\u001b[0m\u001b[0;34m(\u001b[0m\u001b[0msdata\u001b[0m\u001b[0;34m,\u001b[0m \u001b[0mslice\u001b[0m\u001b[0;34m(\u001b[0m\u001b[0mstart\u001b[0m\u001b[0;34m,\u001b[0m \u001b[0mend\u001b[0m\u001b[0;34m)\u001b[0m\u001b[0;34m)\u001b[0m\u001b[0;34m\u001b[0m\u001b[0;34m\u001b[0m\u001b[0m\n\u001b[0m\u001b[1;32m    912\u001b[0m \u001b[0;34m\u001b[0m\u001b[0m\n\u001b[1;32m    913\u001b[0m     \u001b[0;32mdef\u001b[0m \u001b[0m_get_sorted_data\u001b[0m\u001b[0;34m(\u001b[0m\u001b[0mself\u001b[0m\u001b[0;34m)\u001b[0m \u001b[0;34m->\u001b[0m \u001b[0mFrameOrSeries\u001b[0m\u001b[0;34m:\u001b[0m\u001b[0;34m\u001b[0m\u001b[0;34m\u001b[0m\u001b[0m\n",
            "\u001b[0;32m/usr/local/lib/python3.6/dist-packages/pandas/core/groupby/ops.py\u001b[0m in \u001b[0;36m_chop\u001b[0;34m(self, sdata, slice_obj)\u001b[0m\n\u001b[1;32m    933\u001b[0m     \u001b[0;32mdef\u001b[0m \u001b[0m_chop\u001b[0m\u001b[0;34m(\u001b[0m\u001b[0mself\u001b[0m\u001b[0;34m,\u001b[0m \u001b[0msdata\u001b[0m\u001b[0;34m:\u001b[0m \u001b[0mDataFrame\u001b[0m\u001b[0;34m,\u001b[0m \u001b[0mslice_obj\u001b[0m\u001b[0;34m:\u001b[0m \u001b[0mslice\u001b[0m\u001b[0;34m)\u001b[0m \u001b[0;34m->\u001b[0m \u001b[0mDataFrame\u001b[0m\u001b[0;34m:\u001b[0m\u001b[0;34m\u001b[0m\u001b[0;34m\u001b[0m\u001b[0m\n\u001b[1;32m    934\u001b[0m         \u001b[0;32mif\u001b[0m \u001b[0mself\u001b[0m\u001b[0;34m.\u001b[0m\u001b[0maxis\u001b[0m \u001b[0;34m==\u001b[0m \u001b[0;36m0\u001b[0m\u001b[0;34m:\u001b[0m\u001b[0;34m\u001b[0m\u001b[0;34m\u001b[0m\u001b[0m\n\u001b[0;32m--> 935\u001b[0;31m             \u001b[0;32mreturn\u001b[0m \u001b[0msdata\u001b[0m\u001b[0;34m.\u001b[0m\u001b[0miloc\u001b[0m\u001b[0;34m[\u001b[0m\u001b[0mslice_obj\u001b[0m\u001b[0;34m]\u001b[0m\u001b[0;34m\u001b[0m\u001b[0;34m\u001b[0m\u001b[0m\n\u001b[0m\u001b[1;32m    936\u001b[0m         \u001b[0;32melse\u001b[0m\u001b[0;34m:\u001b[0m\u001b[0;34m\u001b[0m\u001b[0;34m\u001b[0m\u001b[0m\n\u001b[1;32m    937\u001b[0m             \u001b[0;32mreturn\u001b[0m \u001b[0msdata\u001b[0m\u001b[0;34m.\u001b[0m\u001b[0m_slice\u001b[0m\u001b[0;34m(\u001b[0m\u001b[0mslice_obj\u001b[0m\u001b[0;34m,\u001b[0m \u001b[0maxis\u001b[0m\u001b[0;34m=\u001b[0m\u001b[0;36m1\u001b[0m\u001b[0;34m)\u001b[0m\u001b[0;34m\u001b[0m\u001b[0;34m\u001b[0m\u001b[0m\n",
            "\u001b[0;32m/usr/local/lib/python3.6/dist-packages/pandas/core/indexing.py\u001b[0m in \u001b[0;36m__getitem__\u001b[0;34m(self, key)\u001b[0m\n\u001b[1;32m   1766\u001b[0m \u001b[0;34m\u001b[0m\u001b[0m\n\u001b[1;32m   1767\u001b[0m             \u001b[0mmaybe_callable\u001b[0m \u001b[0;34m=\u001b[0m \u001b[0mcom\u001b[0m\u001b[0;34m.\u001b[0m\u001b[0mapply_if_callable\u001b[0m\u001b[0;34m(\u001b[0m\u001b[0mkey\u001b[0m\u001b[0;34m,\u001b[0m \u001b[0mself\u001b[0m\u001b[0;34m.\u001b[0m\u001b[0mobj\u001b[0m\u001b[0;34m)\u001b[0m\u001b[0;34m\u001b[0m\u001b[0;34m\u001b[0m\u001b[0m\n\u001b[0;32m-> 1768\u001b[0;31m             \u001b[0;32mreturn\u001b[0m \u001b[0mself\u001b[0m\u001b[0;34m.\u001b[0m\u001b[0m_getitem_axis\u001b[0m\u001b[0;34m(\u001b[0m\u001b[0mmaybe_callable\u001b[0m\u001b[0;34m,\u001b[0m \u001b[0maxis\u001b[0m\u001b[0;34m=\u001b[0m\u001b[0maxis\u001b[0m\u001b[0;34m)\u001b[0m\u001b[0;34m\u001b[0m\u001b[0;34m\u001b[0m\u001b[0m\n\u001b[0m\u001b[1;32m   1769\u001b[0m \u001b[0;34m\u001b[0m\u001b[0m\n\u001b[1;32m   1770\u001b[0m     \u001b[0;32mdef\u001b[0m \u001b[0m_is_scalar_access\u001b[0m\u001b[0;34m(\u001b[0m\u001b[0mself\u001b[0m\u001b[0;34m,\u001b[0m \u001b[0mkey\u001b[0m\u001b[0;34m:\u001b[0m \u001b[0mTuple\u001b[0m\u001b[0;34m)\u001b[0m\u001b[0;34m:\u001b[0m\u001b[0;34m\u001b[0m\u001b[0;34m\u001b[0m\u001b[0m\n",
            "\u001b[0;32m/usr/local/lib/python3.6/dist-packages/pandas/core/indexing.py\u001b[0m in \u001b[0;36m_getitem_axis\u001b[0;34m(self, key, axis)\u001b[0m\n\u001b[1;32m   2116\u001b[0m     \u001b[0;32mdef\u001b[0m \u001b[0m_getitem_axis\u001b[0m\u001b[0;34m(\u001b[0m\u001b[0mself\u001b[0m\u001b[0;34m,\u001b[0m \u001b[0mkey\u001b[0m\u001b[0;34m,\u001b[0m \u001b[0maxis\u001b[0m\u001b[0;34m:\u001b[0m \u001b[0mint\u001b[0m\u001b[0;34m)\u001b[0m\u001b[0;34m:\u001b[0m\u001b[0;34m\u001b[0m\u001b[0;34m\u001b[0m\u001b[0m\n\u001b[1;32m   2117\u001b[0m         \u001b[0;32mif\u001b[0m \u001b[0misinstance\u001b[0m\u001b[0;34m(\u001b[0m\u001b[0mkey\u001b[0m\u001b[0;34m,\u001b[0m \u001b[0mslice\u001b[0m\u001b[0;34m)\u001b[0m\u001b[0;34m:\u001b[0m\u001b[0;34m\u001b[0m\u001b[0;34m\u001b[0m\u001b[0m\n\u001b[0;32m-> 2118\u001b[0;31m             \u001b[0;32mreturn\u001b[0m \u001b[0mself\u001b[0m\u001b[0;34m.\u001b[0m\u001b[0m_get_slice_axis\u001b[0m\u001b[0;34m(\u001b[0m\u001b[0mkey\u001b[0m\u001b[0;34m,\u001b[0m \u001b[0maxis\u001b[0m\u001b[0;34m=\u001b[0m\u001b[0maxis\u001b[0m\u001b[0;34m)\u001b[0m\u001b[0;34m\u001b[0m\u001b[0;34m\u001b[0m\u001b[0m\n\u001b[0m\u001b[1;32m   2119\u001b[0m \u001b[0;34m\u001b[0m\u001b[0m\n\u001b[1;32m   2120\u001b[0m         \u001b[0;32mif\u001b[0m \u001b[0misinstance\u001b[0m\u001b[0;34m(\u001b[0m\u001b[0mkey\u001b[0m\u001b[0;34m,\u001b[0m \u001b[0mlist\u001b[0m\u001b[0;34m)\u001b[0m\u001b[0;34m:\u001b[0m\u001b[0;34m\u001b[0m\u001b[0;34m\u001b[0m\u001b[0m\n",
            "\u001b[0;32m/usr/local/lib/python3.6/dist-packages/pandas/core/indexing.py\u001b[0m in \u001b[0;36m_get_slice_axis\u001b[0;34m(self, slice_obj, axis)\u001b[0m\n\u001b[1;32m   1748\u001b[0m \u001b[0;34m\u001b[0m\u001b[0m\n\u001b[1;32m   1749\u001b[0m         \u001b[0mindexer\u001b[0m \u001b[0;34m=\u001b[0m \u001b[0mself\u001b[0m\u001b[0;34m.\u001b[0m\u001b[0m_convert_slice_indexer\u001b[0m\u001b[0;34m(\u001b[0m\u001b[0mslice_obj\u001b[0m\u001b[0;34m,\u001b[0m \u001b[0maxis\u001b[0m\u001b[0;34m)\u001b[0m\u001b[0;34m\u001b[0m\u001b[0;34m\u001b[0m\u001b[0m\n\u001b[0;32m-> 1750\u001b[0;31m         \u001b[0;32mreturn\u001b[0m \u001b[0mself\u001b[0m\u001b[0;34m.\u001b[0m\u001b[0m_slice\u001b[0m\u001b[0;34m(\u001b[0m\u001b[0mindexer\u001b[0m\u001b[0;34m,\u001b[0m \u001b[0maxis\u001b[0m\u001b[0;34m=\u001b[0m\u001b[0maxis\u001b[0m\u001b[0;34m,\u001b[0m \u001b[0mkind\u001b[0m\u001b[0;34m=\u001b[0m\u001b[0;34m\"iloc\"\u001b[0m\u001b[0;34m)\u001b[0m\u001b[0;34m\u001b[0m\u001b[0;34m\u001b[0m\u001b[0m\n\u001b[0m\u001b[1;32m   1751\u001b[0m \u001b[0;34m\u001b[0m\u001b[0m\n\u001b[1;32m   1752\u001b[0m \u001b[0;34m\u001b[0m\u001b[0m\n",
            "\u001b[0;32m/usr/local/lib/python3.6/dist-packages/pandas/core/indexing.py\u001b[0m in \u001b[0;36m_slice\u001b[0;34m(self, obj, axis, kind)\u001b[0m\n\u001b[1;32m    629\u001b[0m \u001b[0;34m\u001b[0m\u001b[0m\n\u001b[1;32m    630\u001b[0m     \u001b[0;32mdef\u001b[0m \u001b[0m_slice\u001b[0m\u001b[0;34m(\u001b[0m\u001b[0mself\u001b[0m\u001b[0;34m,\u001b[0m \u001b[0mobj\u001b[0m\u001b[0;34m,\u001b[0m \u001b[0maxis\u001b[0m\u001b[0;34m:\u001b[0m \u001b[0mint\u001b[0m\u001b[0;34m,\u001b[0m \u001b[0mkind\u001b[0m\u001b[0;34m=\u001b[0m\u001b[0;32mNone\u001b[0m\u001b[0;34m)\u001b[0m\u001b[0;34m:\u001b[0m\u001b[0;34m\u001b[0m\u001b[0;34m\u001b[0m\u001b[0m\n\u001b[0;32m--> 631\u001b[0;31m         \u001b[0;32mreturn\u001b[0m \u001b[0mself\u001b[0m\u001b[0;34m.\u001b[0m\u001b[0mobj\u001b[0m\u001b[0;34m.\u001b[0m\u001b[0m_slice\u001b[0m\u001b[0;34m(\u001b[0m\u001b[0mobj\u001b[0m\u001b[0;34m,\u001b[0m \u001b[0maxis\u001b[0m\u001b[0;34m=\u001b[0m\u001b[0maxis\u001b[0m\u001b[0;34m,\u001b[0m \u001b[0mkind\u001b[0m\u001b[0;34m=\u001b[0m\u001b[0mkind\u001b[0m\u001b[0;34m)\u001b[0m\u001b[0;34m\u001b[0m\u001b[0;34m\u001b[0m\u001b[0m\n\u001b[0m\u001b[1;32m    632\u001b[0m \u001b[0;34m\u001b[0m\u001b[0m\n\u001b[1;32m    633\u001b[0m     \u001b[0;32mdef\u001b[0m \u001b[0m_get_setitem_indexer\u001b[0m\u001b[0;34m(\u001b[0m\u001b[0mself\u001b[0m\u001b[0;34m,\u001b[0m \u001b[0mkey\u001b[0m\u001b[0;34m)\u001b[0m\u001b[0;34m:\u001b[0m\u001b[0;34m\u001b[0m\u001b[0;34m\u001b[0m\u001b[0m\n",
            "\u001b[0;32m/usr/local/lib/python3.6/dist-packages/pandas/core/generic.py\u001b[0m in \u001b[0;36m_slice\u001b[0;34m(self, slobj, axis, kind)\u001b[0m\n\u001b[1;32m   3612\u001b[0m         \"\"\"\n\u001b[1;32m   3613\u001b[0m         \u001b[0maxis\u001b[0m \u001b[0;34m=\u001b[0m \u001b[0mself\u001b[0m\u001b[0;34m.\u001b[0m\u001b[0m_get_block_manager_axis\u001b[0m\u001b[0;34m(\u001b[0m\u001b[0maxis\u001b[0m\u001b[0;34m)\u001b[0m\u001b[0;34m\u001b[0m\u001b[0;34m\u001b[0m\u001b[0m\n\u001b[0;32m-> 3614\u001b[0;31m         \u001b[0mresult\u001b[0m \u001b[0;34m=\u001b[0m \u001b[0mself\u001b[0m\u001b[0;34m.\u001b[0m\u001b[0m_constructor\u001b[0m\u001b[0;34m(\u001b[0m\u001b[0mself\u001b[0m\u001b[0;34m.\u001b[0m\u001b[0m_data\u001b[0m\u001b[0;34m.\u001b[0m\u001b[0mget_slice\u001b[0m\u001b[0;34m(\u001b[0m\u001b[0mslobj\u001b[0m\u001b[0;34m,\u001b[0m \u001b[0maxis\u001b[0m\u001b[0;34m=\u001b[0m\u001b[0maxis\u001b[0m\u001b[0;34m)\u001b[0m\u001b[0;34m)\u001b[0m\u001b[0;34m\u001b[0m\u001b[0;34m\u001b[0m\u001b[0m\n\u001b[0m\u001b[1;32m   3615\u001b[0m         \u001b[0mresult\u001b[0m \u001b[0;34m=\u001b[0m \u001b[0mresult\u001b[0m\u001b[0;34m.\u001b[0m\u001b[0m__finalize__\u001b[0m\u001b[0;34m(\u001b[0m\u001b[0mself\u001b[0m\u001b[0;34m)\u001b[0m\u001b[0;34m\u001b[0m\u001b[0;34m\u001b[0m\u001b[0m\n\u001b[1;32m   3616\u001b[0m \u001b[0;34m\u001b[0m\u001b[0m\n",
            "\u001b[0;32m/usr/local/lib/python3.6/dist-packages/pandas/core/internals/managers.py\u001b[0m in \u001b[0;36mget_slice\u001b[0;34m(self, slobj, axis)\u001b[0m\n\u001b[1;32m    748\u001b[0m             \u001b[0m_slicer\u001b[0m\u001b[0;34m[\u001b[0m\u001b[0maxis\u001b[0m\u001b[0;34m]\u001b[0m \u001b[0;34m=\u001b[0m \u001b[0mslobj\u001b[0m\u001b[0;34m\u001b[0m\u001b[0;34m\u001b[0m\u001b[0m\n\u001b[1;32m    749\u001b[0m             \u001b[0mslicer\u001b[0m \u001b[0;34m=\u001b[0m \u001b[0mtuple\u001b[0m\u001b[0;34m(\u001b[0m\u001b[0m_slicer\u001b[0m\u001b[0;34m)\u001b[0m\u001b[0;34m\u001b[0m\u001b[0;34m\u001b[0m\u001b[0m\n\u001b[0;32m--> 750\u001b[0;31m             \u001b[0mnew_blocks\u001b[0m \u001b[0;34m=\u001b[0m \u001b[0;34m[\u001b[0m\u001b[0mblk\u001b[0m\u001b[0;34m.\u001b[0m\u001b[0mgetitem_block\u001b[0m\u001b[0;34m(\u001b[0m\u001b[0mslicer\u001b[0m\u001b[0;34m)\u001b[0m \u001b[0;32mfor\u001b[0m \u001b[0mblk\u001b[0m \u001b[0;32min\u001b[0m \u001b[0mself\u001b[0m\u001b[0;34m.\u001b[0m\u001b[0mblocks\u001b[0m\u001b[0;34m]\u001b[0m\u001b[0;34m\u001b[0m\u001b[0;34m\u001b[0m\u001b[0m\n\u001b[0m\u001b[1;32m    751\u001b[0m \u001b[0;34m\u001b[0m\u001b[0m\n\u001b[1;32m    752\u001b[0m         \u001b[0mnew_axes\u001b[0m \u001b[0;34m=\u001b[0m \u001b[0mlist\u001b[0m\u001b[0;34m(\u001b[0m\u001b[0mself\u001b[0m\u001b[0;34m.\u001b[0m\u001b[0maxes\u001b[0m\u001b[0;34m)\u001b[0m\u001b[0;34m\u001b[0m\u001b[0;34m\u001b[0m\u001b[0m\n",
            "\u001b[0;32m/usr/local/lib/python3.6/dist-packages/pandas/core/internals/managers.py\u001b[0m in \u001b[0;36m<listcomp>\u001b[0;34m(.0)\u001b[0m\n\u001b[1;32m    748\u001b[0m             \u001b[0m_slicer\u001b[0m\u001b[0;34m[\u001b[0m\u001b[0maxis\u001b[0m\u001b[0;34m]\u001b[0m \u001b[0;34m=\u001b[0m \u001b[0mslobj\u001b[0m\u001b[0;34m\u001b[0m\u001b[0;34m\u001b[0m\u001b[0m\n\u001b[1;32m    749\u001b[0m             \u001b[0mslicer\u001b[0m \u001b[0;34m=\u001b[0m \u001b[0mtuple\u001b[0m\u001b[0;34m(\u001b[0m\u001b[0m_slicer\u001b[0m\u001b[0;34m)\u001b[0m\u001b[0;34m\u001b[0m\u001b[0;34m\u001b[0m\u001b[0m\n\u001b[0;32m--> 750\u001b[0;31m             \u001b[0mnew_blocks\u001b[0m \u001b[0;34m=\u001b[0m \u001b[0;34m[\u001b[0m\u001b[0mblk\u001b[0m\u001b[0;34m.\u001b[0m\u001b[0mgetitem_block\u001b[0m\u001b[0;34m(\u001b[0m\u001b[0mslicer\u001b[0m\u001b[0;34m)\u001b[0m \u001b[0;32mfor\u001b[0m \u001b[0mblk\u001b[0m \u001b[0;32min\u001b[0m \u001b[0mself\u001b[0m\u001b[0;34m.\u001b[0m\u001b[0mblocks\u001b[0m\u001b[0;34m]\u001b[0m\u001b[0;34m\u001b[0m\u001b[0;34m\u001b[0m\u001b[0m\n\u001b[0m\u001b[1;32m    751\u001b[0m \u001b[0;34m\u001b[0m\u001b[0m\n\u001b[1;32m    752\u001b[0m         \u001b[0mnew_axes\u001b[0m \u001b[0;34m=\u001b[0m \u001b[0mlist\u001b[0m\u001b[0;34m(\u001b[0m\u001b[0mself\u001b[0m\u001b[0;34m.\u001b[0m\u001b[0maxes\u001b[0m\u001b[0;34m)\u001b[0m\u001b[0;34m\u001b[0m\u001b[0;34m\u001b[0m\u001b[0m\n",
            "\u001b[0;32m/usr/local/lib/python3.6/dist-packages/pandas/core/internals/blocks.py\u001b[0m in \u001b[0;36mgetitem_block\u001b[0;34m(self, slicer, new_mgr_locs)\u001b[0m\n\u001b[1;32m    331\u001b[0m             \u001b[0;32mraise\u001b[0m \u001b[0mValueError\u001b[0m\u001b[0;34m(\u001b[0m\u001b[0;34m\"Only same dim slicing is allowed\"\u001b[0m\u001b[0;34m)\u001b[0m\u001b[0;34m\u001b[0m\u001b[0;34m\u001b[0m\u001b[0m\n\u001b[1;32m    332\u001b[0m \u001b[0;34m\u001b[0m\u001b[0m\n\u001b[0;32m--> 333\u001b[0;31m         \u001b[0;32mreturn\u001b[0m \u001b[0mself\u001b[0m\u001b[0;34m.\u001b[0m\u001b[0mmake_block_same_class\u001b[0m\u001b[0;34m(\u001b[0m\u001b[0mnew_values\u001b[0m\u001b[0;34m,\u001b[0m \u001b[0mnew_mgr_locs\u001b[0m\u001b[0;34m)\u001b[0m\u001b[0;34m\u001b[0m\u001b[0;34m\u001b[0m\u001b[0m\n\u001b[0m\u001b[1;32m    334\u001b[0m \u001b[0;34m\u001b[0m\u001b[0m\n\u001b[1;32m    335\u001b[0m     \u001b[0;34m@\u001b[0m\u001b[0mproperty\u001b[0m\u001b[0;34m\u001b[0m\u001b[0;34m\u001b[0m\u001b[0m\n",
            "\u001b[0;32m/usr/local/lib/python3.6/dist-packages/pandas/core/internals/blocks.py\u001b[0m in \u001b[0;36mmake_block_same_class\u001b[0;34m(self, values, placement, ndim)\u001b[0m\n\u001b[1;32m    279\u001b[0m         \u001b[0;32mif\u001b[0m \u001b[0mndim\u001b[0m \u001b[0;32mis\u001b[0m \u001b[0;32mNone\u001b[0m\u001b[0;34m:\u001b[0m\u001b[0;34m\u001b[0m\u001b[0;34m\u001b[0m\u001b[0m\n\u001b[1;32m    280\u001b[0m             \u001b[0mndim\u001b[0m \u001b[0;34m=\u001b[0m \u001b[0mself\u001b[0m\u001b[0;34m.\u001b[0m\u001b[0mndim\u001b[0m\u001b[0;34m\u001b[0m\u001b[0;34m\u001b[0m\u001b[0m\n\u001b[0;32m--> 281\u001b[0;31m         \u001b[0;32mreturn\u001b[0m \u001b[0mmake_block\u001b[0m\u001b[0;34m(\u001b[0m\u001b[0mvalues\u001b[0m\u001b[0;34m,\u001b[0m \u001b[0mplacement\u001b[0m\u001b[0;34m=\u001b[0m\u001b[0mplacement\u001b[0m\u001b[0;34m,\u001b[0m \u001b[0mndim\u001b[0m\u001b[0;34m=\u001b[0m\u001b[0mndim\u001b[0m\u001b[0;34m,\u001b[0m \u001b[0mklass\u001b[0m\u001b[0;34m=\u001b[0m\u001b[0mtype\u001b[0m\u001b[0;34m(\u001b[0m\u001b[0mself\u001b[0m\u001b[0;34m)\u001b[0m\u001b[0;34m)\u001b[0m\u001b[0;34m\u001b[0m\u001b[0;34m\u001b[0m\u001b[0m\n\u001b[0m\u001b[1;32m    282\u001b[0m \u001b[0;34m\u001b[0m\u001b[0m\n\u001b[1;32m    283\u001b[0m     \u001b[0;32mdef\u001b[0m \u001b[0m__repr__\u001b[0m\u001b[0;34m(\u001b[0m\u001b[0mself\u001b[0m\u001b[0;34m)\u001b[0m \u001b[0;34m->\u001b[0m \u001b[0mstr\u001b[0m\u001b[0;34m:\u001b[0m\u001b[0;34m\u001b[0m\u001b[0;34m\u001b[0m\u001b[0m\n",
            "\u001b[0;32m/usr/local/lib/python3.6/dist-packages/pandas/core/internals/blocks.py\u001b[0m in \u001b[0;36mmake_block\u001b[0;34m(values, placement, klass, ndim, dtype)\u001b[0m\n\u001b[1;32m   3051\u001b[0m         \u001b[0mvalues\u001b[0m \u001b[0;34m=\u001b[0m \u001b[0mDatetimeArray\u001b[0m\u001b[0;34m.\u001b[0m\u001b[0m_simple_new\u001b[0m\u001b[0;34m(\u001b[0m\u001b[0mvalues\u001b[0m\u001b[0;34m,\u001b[0m \u001b[0mdtype\u001b[0m\u001b[0;34m=\u001b[0m\u001b[0mdtype\u001b[0m\u001b[0;34m)\u001b[0m\u001b[0;34m\u001b[0m\u001b[0;34m\u001b[0m\u001b[0m\n\u001b[1;32m   3052\u001b[0m \u001b[0;34m\u001b[0m\u001b[0m\n\u001b[0;32m-> 3053\u001b[0;31m     \u001b[0;32mreturn\u001b[0m \u001b[0mklass\u001b[0m\u001b[0;34m(\u001b[0m\u001b[0mvalues\u001b[0m\u001b[0;34m,\u001b[0m \u001b[0mndim\u001b[0m\u001b[0;34m=\u001b[0m\u001b[0mndim\u001b[0m\u001b[0;34m,\u001b[0m \u001b[0mplacement\u001b[0m\u001b[0;34m=\u001b[0m\u001b[0mplacement\u001b[0m\u001b[0;34m)\u001b[0m\u001b[0;34m\u001b[0m\u001b[0;34m\u001b[0m\u001b[0m\n\u001b[0m\u001b[1;32m   3054\u001b[0m \u001b[0;34m\u001b[0m\u001b[0m\n\u001b[1;32m   3055\u001b[0m \u001b[0;34m\u001b[0m\u001b[0m\n",
            "\u001b[0;32m/usr/local/lib/python3.6/dist-packages/pandas/core/internals/blocks.py\u001b[0m in \u001b[0;36m__init__\u001b[0;34m(self, values, placement, ndim)\u001b[0m\n\u001b[1;32m    121\u001b[0m         \u001b[0mself\u001b[0m\u001b[0;34m.\u001b[0m\u001b[0mvalues\u001b[0m \u001b[0;34m=\u001b[0m \u001b[0mvalues\u001b[0m\u001b[0;34m\u001b[0m\u001b[0;34m\u001b[0m\u001b[0m\n\u001b[1;32m    122\u001b[0m \u001b[0;34m\u001b[0m\u001b[0m\n\u001b[0;32m--> 123\u001b[0;31m         \u001b[0;32mif\u001b[0m \u001b[0mself\u001b[0m\u001b[0;34m.\u001b[0m\u001b[0m_validate_ndim\u001b[0m \u001b[0;32mand\u001b[0m \u001b[0mself\u001b[0m\u001b[0;34m.\u001b[0m\u001b[0mndim\u001b[0m \u001b[0;32mand\u001b[0m \u001b[0mlen\u001b[0m\u001b[0;34m(\u001b[0m\u001b[0mself\u001b[0m\u001b[0;34m.\u001b[0m\u001b[0mmgr_locs\u001b[0m\u001b[0;34m)\u001b[0m \u001b[0;34m!=\u001b[0m \u001b[0mlen\u001b[0m\u001b[0;34m(\u001b[0m\u001b[0mself\u001b[0m\u001b[0;34m.\u001b[0m\u001b[0mvalues\u001b[0m\u001b[0;34m)\u001b[0m\u001b[0;34m:\u001b[0m\u001b[0;34m\u001b[0m\u001b[0;34m\u001b[0m\u001b[0m\n\u001b[0m\u001b[1;32m    124\u001b[0m             raise ValueError(\n\u001b[1;32m    125\u001b[0m                 \u001b[0;34mf\"Wrong number of items passed {len(self.values)}, \"\u001b[0m\u001b[0;34m\u001b[0m\u001b[0;34m\u001b[0m\u001b[0m\n",
            "\u001b[0;31mKeyboardInterrupt\u001b[0m: "
          ]
        }
      ]
    },
    {
      "cell_type": "code",
      "metadata": {
        "id": "wZcwJV3D5y3D",
        "outputId": "0e59a8e3-d636-4d94-a750-aaf2d7ff120b",
        "colab": {
          "base_uri": "https://localhost:8080/",
          "height": 55
        }
      },
      "source": [
        "print(clients_dict.keys())"
      ],
      "execution_count": null,
      "outputs": [
        {
          "output_type": "stream",
          "text": [
            "dict_keys(['0000d48a8891cd462fdf01ea861ec53e', '00028a1dcb30863404a386961a69300e', '0004274683494a9eca5e70ef97299d55', '00072f81efcb3481861f7300c5e2a88a', '00076596eb749cf10c2e984621dffe95', '00076dd9aa78642b7254fef37a1cdb3e', '0008322584b6781d656d7299e80c47f8', '00084b0b8d2649ed19e7a4df5062349b', '0008755f60606b6f8f8ea75ab98a9570', '0008cb44b4f40b04132d6dad44ea0d2c', '0008d7ebeb88886c8da5df07ac2d075f', '0009dae8ad7e1989054a19df18375134', '000a16b7265576e37c076f1423fa45fb', '000ac33e8990a55ba1ddd33b6300e4d3', '000b3314b6b5b91bc91a13ee9a87da25', '000bd6b9beffa9a3fca11224fe36cf2d', '000dab8b2c08ebd7f60d3782d9a4a500', '000df145bc1b56b3c028932d6173e9e6', '000e77c27e3910bdb783165635a05fdd', '000eb74fd036f9bd8b87a1d94e8b9e1b', '000f4f8196b582e33bd0aa594b59fb53', '000ff71a020b2e94076c4883341fc3dd', '001129b9d9e02f30510f6596033d2b99', '0012e4f89351ccba136aa25bfa7a9b18', '00135062b7f1c95750a3da3b5f788283', '0013ea6bf0c02f52cc4de45b8431f47e', '0013f409ab5a0a37aa999e6dc335710e', '001446e6bb2cc2e5d235da1635d21677', '001589e4ffaccda07d9395ec5bfe90d5', '001671469281668d1d5f046d3f8e2f78', '0016dbfcf19967752c7038e9d3345831', '0016fd19df546d40debd36eaf0b6b339', '00170751a94af85ce4b6eb24dd6f2bc9', '00170d04003f4126443216f26dcf6b23', '001750c44aa71f3b904a3324828dbdd8', '0017625e34ece8ecb7f8ecaa5a3716a1', '0017b0d73a5e4567db2dc76b2190de63', '0017c075e9a1c4d0afb49d55fb786b53', '0017fc4bd5cd39cdabf1346058878432', '0018de30771b29a80f7fecd47460492a', '0019a23c817521ef7099b074ed04f4c4', '001d542d2b6115762c513b15c48f991d', '001e30d6689fb2fd7e975fceeb2f955c', '001e411fb3b311c604a0cbf862cd03fe', '001edaf0fff8d0ab78525454140373bb', '001f740375fd6c1a2d2743a38ac654a4', '001fe3052eb78fec982d5e97c469750a', '0022d7c1543583f558888f8bce3763d7', '0022e5d190f3bf0f825061658d0f07a9', '0024949c35788a00d9965572bc2a3bea', '0024c939752a4caa815970baeb052707', '0024f25e8f88400e91bbf8564c2483ce', '002580f71f454870b67b714378434ec6', '00266196b75d2fae4c0ab623fba4dacd', '002766ad51ac9d8044deb25159a3ab3f', '0027d083803ad249acaf3aeac8423f7f', '0027d0c2cc3eb17ada4946364e00181c', '00282178dece219fc1f0c59ab4fdfb54', '00282180bbd5a4f737d30e7c5a4531ce', '00284697ac7fac3c44c79bf1c4769d81', '0028806a8900fa2b55da9393c7592038', '0029843160f17ae149fbf7e56c0c4885', '002a1acf0a67d7d9a6f83955b15bc8b5', '002ab5d5b7172630b137c8441f2e36dc', '002ad33e74052c9adf7d162b81b40216', '002afd1757d3c85bd428f091ccaa7f59', '002b24bfbc29cb4c8b8d081a1491b087', '002c2dde436d6e92ac29aadead5daf39', '002c77f47d56382d2a18cf981c88ebe0', '002cf5849878fc4cea1dde5f65c6007d', '002cf7c9673c341750743a0ed04297e3', '002eb4937945b65ecc5607003ada8b2f', '002f2c379de279ac03d849222a40748b', '002f95b66a4d0d0bb85a7b4c6b4d4cda', '00302cda8f429a38844f899a4196b6c6', '00329782bc43d535ec14db31478ba115', '0033e274f11691c7079c5ae81210a468', '0035e41210d1f5c817ee798fa8b96548', '00367004762c44657031e14b1b12fd8b', '0036b2549de690a438994454923f18b7', '0036bebd045da1230731004c14a9a3b9', '0037a3b4f719bc3ccf21a40e500d46fd', '0038bbf52a3dc31ed8fa791aa6865824', '003b758ff8392c4c0e41ec51bc66e2a2', '003c08e22f0ae7e8db9340de0a7ed78b', '003ca86df9b560a6581de2ccaf9870fd', '003cbb6dca1f96550340cac762205c0b', '003d09a9e4ce6a83b2d2edc00b87cadf', '003d0c93fd47243a247e2c8b63831dfa', '003de60a28633ae0a8e59d7e03c651b8', '003e65fdc7431f7ce90a65d8cf6e5918', '003f76148ddcbb92716ca1d56b7a5ba8', '003faabf0a4f7007485bf66ff3d63465', '004132bf430fb49fdcfcdda440ac4e0e', '0042e82362893c1db1b4bc99d0de0e1d', '00432f35c5e84677ee3be7bbb0abaf31', '0043a8604192c405e1382b43992e1cc7', '0043e5fe909aa114def1fe3f8dddeab4', '0044146e47baa3c9be1d6d3e88aa7cd3', '0044380ebcf7d4565f5f4357fe2ffd98', '0044cf973e8a533de3ec474c58f70a7c', '0046119567d0f438091a3aedfef90659', '00469afa9d10e36d425b652eb9382d0a', '00481f1bc01702b9044f2b0baefa7800', '0049305141c0adbb4340a374048f0de5', '004975e307571ff53ecdcd7397cf04bb', '0049b94fc0ed5efc4fc408c2bbb9a738', '004a314a70cb0366a111285dd052feb9', '004a5e467ec1a2f2416e81e0eb4cb5db', '004a8467e2235be08a274fd699c56ea3', '004ac4e97e605ff696374cf8e21c0a7a', '004b8894d577b86f27cf66fa2c0838a8', '004c84c8216cd3a78d3aaa0c7a323f6e', '004d4b4c30ca77236dbc934db7b21471', '004e7c48b0195bf0f42f4390720494ad', '004f10dfda1e699b7a1ce0a417e8ab16', '004f6cc02e33c824424aa1e19d175fc6', '0050fa0c25e170f03cf82c554cff8048', '0051251cc5a9a3723cc40c4c19d1e5e6', '0051537c3831161be77d34e4db164f83', '0051cf635a78cdeb55e653f299500243', '0051e346b4cdf8c1d7a320262f1913d0', '005339c4d509c2891c3e16bab82a59cd', '005383ca39ed5f347d60f4403ce686dd', '0054527d158eb41ee674ed31ffe17735', '0054eb9c742044759da64982ca1ee8c8', '0054f6e864669fab2d6d4b154fa49734', '00558e633c6b614063765b84e5764e24', '0055f48f56b73d92e70aa8e0999af624', '00560387b08f6d3d1d51de686a84ad2b', '0056c352a2d9b47dd5f30e4628028494', '005743b9bc0ece4027a8b60010fea399', '0057f0d0ccfdc0f261b8efcde5f9da8c', '00581b3c6a0e33c78ad89fb19ed612be', '0059a5fc176e5a26990c9927fb703638', '005a2458bac02c76a3bfb2aefa5e5a95', '005ac344eed6d18bd53d299f689545ce', '005ac6a2568588c8c031507c55cb9863', '005d127402382d15f3bc1559f7dd1d0c', '005e14a14b2e451365c61b0b6e39401f', '005e6cf34a299fdafe2d9dfb8ac5de92', '005ebf6542349858d981e17473ce66e1', '005f73bb7d55be21a43a79a6e0c6f9ae', '005f9f9e0a1d04675ed8de78ba2884a8', '00613e6c782f7b581744697a0a1efc19', '0061fe9a93bdd64ac2861101c81327c8', '0062196248b5f36ebc6a946ddbbaebe6', '0063bc049aecf6f654c3312d9ac10fad', '00653e781ddae94ab544dde689c45662', '006579a310f5d94d9e5f34389f217579', '006612f4c88067776a6f4060f72bae44', '006628754b2def9ae61814979a766542', '00681c21a63ee767ec33aa3ab21f9fd2', '00695b267477f85eb5e0bb78b46fdebc', '006998c2576a535248e6934c474ff105', '006a34388552e5198334fb3fb37a850c', '006b071f6a0600a423d7bb67c278ede1', '006b0df007014e34dc1e2c06efe6855f', '006c66c4d7bed1d9e8a98952a423d228', '006ce88de10a5095b7e6c553d3e9cc9d', '006d9197e17b8f6b7f25d0ccc6d2d694', '006e5279ee83765107bafb921f9957b0', '006e8eb082732c85d1afe9666c24589c', '006edffb1721ee835281c61e6837bc90', '006eff7fa057bd841eda0ea32ae1f52b', '00700fb153c79090668e86c719b80e82', '00701c434d3725dac3cb6705bb16eb75', '0070980b2e4fabf7f8d0defb44a87df8', '0072e0ccdb6aa9e1b98035dbed454b24', '00734dde76be32d47c224c668099e79e', '007359d50ac57792350172a4ba6a1c29', '0073cfaa838f7320d79cfc26076e350a', '00754137b3c76fd498a04f66d8b02e9d', '0075d76dbf4235a39bfdca095cc33844', '0078c68d0e35b9036490ef861c991d7d', '00795b63daf785e7732beb887d6dc534', '007ab906107a0c404de5a8f047f1ec58', '007afebb881d802203c181a2eb68ad73', '007b28729db27db1a140763db93b99d5', '007c430c0ac2885b15450537ab4007b9', '007c79176ec855d14b0625974a59485b', '007c89ffcda68b29efda65b11345cdc5', '007d449f88a2afa383344fcffff6c0da', '007d8fd0f225b1ebf907c3cad34cbafa', '007e6a15ead0d855304b6d60cc2f77f8', '007fa89b5a1f5b4a95b9f528ce166661', '007fd319436c521ec44ca52670eedef1', '0080061d39089282510cb8295aa1736b', '0080ad22d89210f29e26f5af536decde', '0083e9d87fb3fad41c30a7d2d57311d0', '0086928c375996d181cc27b3f6887287', '0087f41867ed090cd8cfe55a5e0b625d', '008887254200b8a128e164ea5b69c924', '0088d34360bf88b7852cf81b9f3c556b', '0089389ded3b078f79ee789bd10acf3e', '008bf3c90b5fea940c2174296f96fd2f', '008c943078cd00420a7b8b5742826a5e', '008db1f3ff17ef20b901f5c358880cf8', '008ea51ad394d582fb67671c052f8534', '008ed1432d3cc218726622fedba019a9', '008ee2d6a664810ede4964ad5dcd13f3', '00920f1c281e9ab5bdb31fff8c9d1196', '0092b3813de514e10d8077731ed78e10', '0094381bcc6c1816aee9916ac15996c9', '00946a6f4da52adf1add083901cf7cb1', '0094cd689e15e865f277b3ceb5df984e', '0094fb4d662f6aeb178d9c0247b10db3', '00952beb35d07dc1f5ef1810e2b6d41e', '009549ab7cdb2ccd476a9e708a7f7660', '0096a58cb82e3d2a18db1b60bd25fbba', '0096b0cb10877c766dc70f2d6d6126e9', '0097d5129a27890b36dc5799f5c3492f', '0097dc0a33cca2bfb9324cc3edcf08f5', '0098058925bfc3cde1bc6f9d27a7eb35', '0098127623f5fd2c764b8c4c30599a69', '009816d182d495a1df8e743cead4b1e8', '0098d813ab44d2a0387ea6fced6af6fc', '009990f87bfe25b0c343114282c53b10', '00999a83c376dee09e33d1ad31be9a14', '0099a26e2fa076cd3a8fd891e87bb6fb', '0099e39d791f82863cb06aefed0c1d77', '009aaa8a9202082d23e69325dce3cb20', '009b3817d15d1298ad33868d757e0ac6', '009e3639eaaab49af8847bb3b55a1005', '009f5ec59600e50af3817d5dfb41f873', '009fc76bfdfa600839c74451b0e2ec79', '009fccbce9c4041fad6c79f95a9a1034', '00a0acb60e56b9753975782cdcefb1bc', '00a131cb05543e664e43aac90a90c8cc', '00a16d54571ac59a4c07446d28b81fff', '00a17c88341ad1cc04cee542d91942bf', '00a316facb0a52bd073800a3cc076a4a', '00a37c18dece2f529e3a93414b053214', '00a482453661a63e31274e127cb15ed8', '00a52210e3ef0f0186ccb89007d1e9b8', '00a5e509ed10b07ce08d7bd4058db5e2', '00a69feb80e170b687f0d778e240b9da', '00a88edcb50f10df87a3473c5645b1ef', '00a937c43fbc3a901428c822910e26ad', '00aa26b60f2583d4febb41aedc9d1ccf', '00ab80444a75cd8fe80742bb953bd74c', '00ac09484ccd7f4ca7251af23665becd', '00ae43326e40319f44ff8fbe07d36b26', '00aeb92cfc153bac45aecf9e460e673a', '00afb14b0ba443aadc5cc8844ba48f72', '00b117f1e5bde9507db342a8d9b32d45', '00b1e6c7946b09361a63f7d4e178143e', '00b28449d135326ea43de1a574a8f8d0', '00b2a215059bcf8ea32128e05602ad6c', '00b533324216827d73e957267cb77393', '00b5d99f5ec25173c4d491d351eda693', '00b6427fad5b1a74fbdb1847a3035868', '00b68010a407b1bf424e2e54977e4b94', '00b763eab95f1cd2bbad0849deff3ad6', '00b79c6a35cda090a176702b8d363538', '00b7cb92598d96fede14bf47d2dd3510', '00b83c90a99624a9b6f06810d86d2442', '00b9102ca912c1bbc935d6d548c7ce1f', '00b9390ab1cef42721035d680290e460', '00b96498f87e77c1ac6db16c02a4091c', '00b98f04512ec7815ff16d5d409b0e5c', '00ba8ba2801cef8f3bcc901dad4a1ff7', '00bdd4f8a2029d974aa08caf728a88e4', '00be7c85916d073cd883af69387590ad', '00c04993e5f2d23b81af8c27ee50eac9', '00c31f5b9bc7b2744bec44291442c453', '00c3f4b25362d67e9f99ad5bbf9bca67', '00c4b1e929236f7f0add3df234556d21', '00c4be76daf9c6fbddf334fa6661497f', '00c4d85133086947893e8c05c9249fd9', '00c548356a0a075a3ead809066988416', '00c590f04e1254548fa8b28a2e7ece62', '00c5b2d5eb38cc941d10a539a8fa66cf', '00c720a60dafa540841fe2be16e63e33', '00c8b55c5226a9c0b2716930b1365a99', '00c8c8a5bdce5ac11809f4d21c3d2274', '00c97f4a8c008466d31940c2cf96db47', '00cafd0861a0a41608de56cd4beb0509', '00cb3cc5a220082fd307aa655d953c41', '00cbebba5597e2d1de6f7abf62267e97', '00ccbf339726ed1f60ea1e556c513e87', '00cdb18facd1885aaddfcbf1ccd9fcc0', '00cdb9975ee6f1b2cd7cd2e2f88a0c68', '00cdfb3d5726f89bfed52c1a8591d006', '00ceaccf322f90b32c9292c601a2ab7b', '00cedf1756890919e5007141e64d2805', '00cf5dfc82ad70263ec10f6438d7b2f3', '00cf7ae7867fa3cbc2bb072d2cb6ffcc', '00d047c8c80788f366b684389e5ea6f5', '00d18c5fdb3ba51b76aa7103c0ffe92f', '00d1d656447413b210824723c3be4a6c', '00d31a8c042403d4ede1fb0bda64e008', '00d32c0e2c7273fee5d7983976562979', '00d3e6d090be83138854362df1fd9e13', '00d43e9ea3e21830d1b8e8542c4f05f8', '00d66ce207a423729cdbadade44d2a8d', '00d8381ac97aac45c4c00c16d3013755', '00d8a7813b74a5215c2d20701c6d767f', '00d90df410580dc7b89f35100eae7773', '00d9f2c401564c0d60fde35ed468a394', '00dc796ed8e562e26c8c03c4d1f5436f', '00dca212c8a487b96f7a23a7c172a7f9', '00dcc7a415af3e308024dd1792d9b2e5', '00dd60ac8bf67918e1acc2df95a1e23e', '00de9c2cc06f8d3c591755451dcb16f7', '00df0b238a7cdb822042748f4199b6dc', '00e093bed587ba459742800a6036ce3d', '00e10f3532594bf433f4284eb13acb09', '00e23cfca3cd754e8a033cedcbe21414', '00e24d29710ca1a0a330fbf0ee01d258', '00e296a45a9ff05d71e9b7923ec04b80', '00e32a550fae1685b2e50c01358e5cf8', '00e448b27a58ebdb0a64ea8479fdd379', '00e49245f461e15f32bb888bea497c75', '00e6e86233620b96f4f7afacc998dab2', '00e6ee90d45e35d775348a95be9b9d5d', '00e7169c9728f050d65e0e0600a85255', '00e718a64152fea762db921f7d27c499', '00e7cf1411faedf713d47066b12cf1cd', '00e7f648d912f9a668284aca03c5b097', '00e8495455bf282b2b1b0f0637e22248', '00e9254bcd446fcda18c66dcb355c90c', '00ec2304b9f0c58a4fa5e18e7eea5030', '00ec5dced1dcda800b145e06ce211317', '00f037f60578a07b59bf95bdda2b5ceb', '00f0f5f57a6cedd9f5e8a05af1eeb8d4', '00f152c1b39d4dd1e57093991fcc0234', '00f19c1aa3f69898728ac2b9f8baa323', '00f205a08b0227ccbf5220fb01d46a9e', '00f3e8eeba103e62b8b5eb9c6c15698b', '00f4410e210662b7628217bb8e15ce09', '00f4b741e7d4d4c98b672f08341698fd', '00f5452c33aa52f22478e3f3fcdc7ba4', '00f569656fa2347177642c59d5e71ede', '00f582aeeb1fd9e8566d4b5a2a5c3c87', '00f665838e90b46d4c5bdc33d1558e32', '00f6d3230ee6e3d43bd5c96a593548ba', '00f70c08c8b1b9f3a24be76e080d1f2d', '00f8d06a07c01d9865f2342d09861c88', '00f974cd1ba887bb7b273d30fc9518e7', '00fa0bb463d5799b0306621b9fa7e3eb', '00fbf69b5153186b5fe4b2ff2f48569e', '00fc09c07869c71e347fc64a9ada1bee', '0100a3c8b14c8be7a6be23a4cc7522f1', '0101ea1490df5058d5ff3810709d4001', '01032073e898374dc30d41f1612890bc', '010346fe0c330efc2d6f83ec9063837b', '01044de95b62d1604e0e61212a430949', '0104cb57c5bd5c0a8123be1dad6eeb64', '0106356b51504ca7db4aaeb8f5aa7318', '0106450a5a3dd81188f0b1c7929e00d8', '010787362746b6d0f388434330527595', '01084363ed3df9ad416cc528c8679bc0', '01084c615e6d9272230fb8ea680cbe1f', '0108d9470546e3101d05a8ff852ac95c', '010930a79a47b016cc98f6b4502a1de0', '01095dc1990b41b7c0166de7bc61e745', '010997d4658cf06b73d1fcfe7473ceee', '010a00537df38f328ec3d4d9ab6cb71a', '010b16311147ff450aed350e04ed41c0', '010ba2b39f2cdec4136648ac661e0f54', '010bf373b2a8ef1a78d717e54c77e173', '010cee48fed367345492807568d57528', '010dd7254f9b5198b70c5676f9baa798', '010f34d063a57fdc9868e8c753e3c8cb', '0110d7e28fd08315fafea72eb7668b84', '0111261ed0d91f92b8c11627570a7eed', '0112762f4b5efb9d092556f5ef1194d4', '01183eb7716d8e9f95e8ba1514549867', '0119dbc85d63e01f6dd89ae4368ef8e6', '011ada9146d8355eed4ff056456f8201', '011afb922ac2425ebbc2f14b42af8a50', '011be37c87d450ae4a355d4be5dcf2aa', '011c29c00f10a53fbf5fc408bd6c446f', '011c3d6aca131c7ceb0b94a1ca520f3a', '011cdabcc381d1b4ccc98f7c4ccfb07a', '011d9109531a2121461b32e7bb066d1d', '011dac15853e5c6f3c91bf745dbad9e6', '011dda43f07a5bdcabf3bc3003cbae02', '011df484b833a6c32ff8df7aefd261f6', '011f71ed22470a194ff6cbe67d6ed6cb', '011fcccb65c23af5e40e408f14f9dffa', '012197c2630da96b12bb9ff66674519b', '0125de1ab3e1cd2d38308286a9472d73', '0125f0fbce2a8ce7e379d5110a9bab8a', '0126a3734675b3631efd9e02c6257f19', '0126b39220dd9106609a8c07708e2836', '0128e9ddf83a828a5c0a69c1eca36d32', '01295fc1e00fd77fbe6a8a3984d36ee7', '012979130a3d9931efc0749e58061d8a', '012aa720a6511db36da300536507ed3d', '012b3446072795583b371b723dc079b6', '012bce05efa71c52119271dc09e684e2', '012c069edd7aa11c7315cee135727cfe', '012c6d8a97dd8acc47544f2d2ab69f09', '012dca5c223db61de8dc762f0048bfaa', '012dfc42bf51aab879a2b53da171390e', '012f9c279b5c3323d0c9d4f5a218c5db', '012fd1146906be33cf7fc96d73f3a7d1', '012fed2058f466d5ca5aa477ab5b5b0d', '0130d2a191c4512c5a5d1a162b700e01', '0130f3c34b617389936ebabd47981b4d', '01323ae915c65b29e26a31e478292e58', '0132524a1a746d8efaedc3609e8badd7', '0132a34250d43d9e4ea5bad2860cb7f8', '0133b561e7958f2dd13f937a1a0822fa', '0133ecea9856535d2e3349fc3f318c0b', '0133f2e01c7842812d40b7551a0e1050', '0134bc53e5c4394aa5aecd3312991f3d', '01368454e8310bc70485073048a25a26', '0137048f442f53dfe97303dba61a5ae9', '0138c4ca2c4cfea10a75536cfc25f026', '01391daa651d8c1b911c2d81424f8eee', '01398231b96a86edd1e37ba70fc76bcb', '0139936ed35773c89afd6079dfeace7b', '0139dcd69cb00b00fef2d730a697acb9', '013bc638a6ac238f3291b320c61edf23', '013c79a815f8b4d3f7dfb42371698989', '013cf67cbc0357cb5d7ad8eb0140474b', '013d236cfe3d5cc14a00217d14f045ed', '013df91b423dfa85ea426f115fcac52f', '013e1e427f047cb6496b2d48a191fb86', '013ecf18a2268459014178f4036c84d8', '013f6edb56ca7645097b1a398f5d8219', '01412d79cca2e0bcd2c096447b00a4bf', '0142135793d2a83b2ba4e37206b4b612', '0142a6d28a936c0f19aaf63cbde234df', '01430b6f9aeff51c75ec9e0bd142a6f1', '014499fcb3836e57a43f89165477303b', '0146f55c7fcbbe7140418f8fa42db8d7', '01475e64dad5e8fc38731088af84f045', '01481f651397a1b1a4a88b2986b7974d', '01482ee87cce5345a45e640092b891f4', '01498e78eb246a71d0d5074a79879962', '0149a50ef38eb89cdc2ec0c61aba413a', '0149d40cf85c66c8df87aadfaf9a959e', '0149e74a7ff0a8db38d8023da248934b', '014a1932050ec11ade96e8970a8426e9', '014a2bdcd69105724aeaebe7fedfbd37', '014af2f7a3c0d2bbc891bd1f6936efa6', '014b6f04a372fe8fd4cb8a70cfaa4b55', '014c2cb44ea6925465a48a34636475ea', '014d54732075a2d5979c191ecd38b558', '014d94f66b18e1ffbb346f78a93f7a52', '014d98773bb683ee9cd19f783b707d93', '014fc563e8e63b672ce846f130a08fbb', '0151b3e19903bb0ce5fe7510e017d1fd', '0151b7d9a40915fdfed616ab807157b8', '01525c6efe3bffa5d93c5e649ab889bd', '0152b22d660172286f9931fd82dea9c3', '0152fea95e83b506fbcd1e657754f4e2', '015420e2e68877fa6e5fc2c00b7902d3', '015456364dc49ffc9317658750b45c8c', '0154abe567c46d2968128586b76e77c5', '01550d5f3581c778d66b37b4174f513d', '0155394f8bef23824fd79f4c22705882', '01555936b6ed0c6d3f6148e5753d5c51', '0155e49fd111a7bd7c673fc2921f6c39', '01571395843726fe53675b75700e8f5f', '015823c721292fa0c478b0214ac9dfd8', '015859cc08ecf3563f34efde8b3a8417', '01588b2e0502eb05ae7a4b5657e4c85b', '0159ec8d6e81a89d40ccd2c73cb5c005', '015b29ca1e482799a7555ca7c5bce4ee', '015b95f12dbb503ccfb4ddcd3a000143', '015d68beb257c62b12b99551355e7e90', '015d6ef7700445a989583e35901d8709', '015e4d3531ebf12a3c5cd69e41037f9e', '0161047d274a4e570930612e321af999', '01612354471769c4f9eb210c95550607', '0161e34e53cffa8334e9537be3a1bb72', '0161e4e37ef07bedf2da09f7f28d97e7', '0163187a392b8e2f686e00efb0234ef4', '01636a0dcd83b132602fba80fbe566c8', '01641bf0806de0e9a67c9a5c7757b8e5', '0164a0104f239d1c8dbc71263fe580d5', '01650849734cf23498faebbf767ab23b', '01669c933f7d47fab5d77e51cd8b7520', '0166e09aa1dfaa8c446fd2881f058839', '016777a29516d00036d62924888809c7', '0168046170e8a53eee70228d95fa63fa', '016811f2677b45ae11b534cd2c5e9910', '0168920c7011efe703aa28dc294db511', '0169543f7c1cf045b1c0ae91f463bd5b', '0169fc6c681868b94a313028f3f544aa', '016a0fb54bbcda80caba439e69b1c6f6', '016a77b1bf66913103e44ca8964732ac', '016a98a11dd3835c17a4cd6fca554061', '016c2415b48ac11514059ff355f1d3f0', '016ce065bf687ea7775fa174cc7b9dd2', '016cfcc495491ec2e9ebd8c89e4b94cb', '016d4fd3c0aba8267b39e8454b655a3a', '016e02145ca278d685c8c09fd47f711f', '016eab30f45641da0b950d3fb207dfbf', '016f42474c71da4244c5e7826cca15c2', '016feaddf9f0354c3390e42ef921b413', '0170862d1ca68b0d94204749e658148c', '0171284b094d2bc1053f16a786e59ff9', '017190fb59e228cf0e52ddf35a1cfb48', '0172c6140220e42809476a8637777e6b', '0172ebafc64e16706589e62044285fad', '01733074be0bfc89f995939426e3a940', '01742ebdb1ceea185feceadcd8adcee7', '01745178f85fa6bcfaa6d3faea464f69', '0176568399dcae33899691b2e941304a', '0176914f65f4a1efe7a021a894d1652b', '017928664d014b2f211cd08db8e210dc', '01795a0c0550b2c715d5470d8b497bac', '0179b1dcad23ac0d31f7db685b40aa5b', '017b0b043afbb3fafb6eb2575de08e3a', '017b3a83399ba8c41fccef73537f3fd8', '017be56fc1f2ff895f8f18dcc05df4e0', '017cab46616557c2145e7c0066a79c46', '017cace7af153a4e7744ee59288c346f', '017f41ed5944bfff370cc18387b9869a', '018147cbbc0909ce062f340ffb8ddf2d', '0181ba8dd7984df824a6a30d5ac50a6b', '0181ebc2bc010219e69fdce878ffbe8f', '01830f74e97e98b21e5dac8cf846eb06', '0183b37d756d03150e0cdc81d5794b03', '018465311883d23b386af5b1df54fd04', '0185d28377415ac8659d6867502f0ad0', '018701f3cd141872489c89665db90776', '0187ab82ee2fdbe9a6bb1d9b2fdc2523', '0188a227008573842c7f352324fd4709', '0188e0135f2d3b290389821c0755e128', '018a23c50a89a77050f0841c1d4355e4', '018afb7d3d0b19e879af68c8a61dde2c', '018baa0a310c1e6f48c2d8294b7a7dd7', '018c6d961f8e745980e15716d7813db6', '018da84fef2e95ad110248e080782e14', '018e0000cd76e6ada347f36e6faa01af', '018e5edd1609e0bc7bc37faacf2aa379', '018f5770ee28b0aed8a9168a0e5754bf', '018f63be95feffb9b4ae29827c965d42', '018f6b883072fd7358dee022fe4f79b5', '019046372d23785149df6846b5c80667', '0190e9e1871277bf4208548b98df64d2', '01915da34179d5791d2da7e8540b97ea', '0191e000b91df40faf89530cc1f38ebc', '019278c876472c3082b5907b58f00446', '0192ae00502eae805f5197095d4f97f7', '0192f13a65cbf0f505169419aa9c11d0', '01931eb9e2c3f3f6db7b187315bd6dca', '0193ee4bb5e702d32297d9f37ffddf61', '019594c022a87f0a4491fcf6d7096d52', '01964a460a6b242ef4e54a46136afd91', '01964d55b106e4b09aedbdba3be6d0d6', '01995c9cb12721f462252b4ab06bd20f', '019a58537212d9cd5253217dc394b8db', '019aa3f0aa82ce9012f0bd410dbf4a7d', '019ae4dd8cb4ae31d5897449759b7377', '019cef30ff5a836e0e7dd06b88453a53', '019fbd92d32188f2441f40f6e6ca62b0', '01a007fa287b7181220c101f0ce05b59', '01a0620fec93f632682da2cf50f45d6e', '01a139d8ab898f517208cbd9f25ceaa3', '01a1761c1fbbc9c6bf192c26875faa26', '01a1c9068148c0dc13b282cb904c743a', '01a31f8c12118c5d74a3fc58659f8183', '01a4612baf97b9554b4fde7017ff7202', '01a4d58eac45c1cda6614bfd7bbbbd9b', '01a4fa3a8ea949c76bf43c750046944a', '01a57b2728d6dbfaf85306761b54cd3e', '01a57c107660a3c4ba981d12c2e39db3', '01a5f97711b89f5408538ec83cfba56a', '01a69345c8b3d9dfb64d22c39ae8da52', '01a6a8ec5d35db1a5a67c81c6dc268bf', '01a71175f458cba203d790d43d38dba1', '01a7660f75c52337c48f343b7c67b19a', '01a79eb4b684f00e2104e18d93405ded', '01a7e1cb7ae6c9ea4a93741828e05c28', '01a86474e00df003b8075d056db2c063', '01aa3c8f1875868c2b622f0210f6836b', '01aa5c2ca133d8b232ddee24a506f3bf', '01ab01dee6ec00ce572e10510137c5f6', '01acb8c5a275b0f4f6fbdf3564c6f246', '01ad40b09cfa6adc23cc16424ea76186', '01adb239df73afcc7faca28e76275c7d', '01adb70539c6da5f313a724997a29384', '01adc257e9e98d57f333bba4778c1844', '01ae550333e5074e067e9e0bb7582ea3', '01aef1032db33c9df8fc9caa01dbc25b', '01b02f433752914150c4988a34155fd9', '01b0fcb682086801004ad59227f0c1fa', '01b132bdb56b24f73a5f8cec81c986a4', '01b1d726ca9511ae57aad04c88cb2b2c', '01b29aa7aa7ffd94fb7ac460ba62b64b', '01b366a3b91453706f6f7a18b2556e03', '01b3781a4ff79777fb87be2b81aedcdd', '01b3a15ce7eb246f5d916e7bbc573a31', '01b48d3e703ef15ab4c85b5e20296619', '01b67b2e74bdf81c928cbfe776df0ad1', '01b6d1ba95fcf202adfb99c9f362ae2d', '01b795acdfe40d9a7016f7f279a7c574', '01b8525d1bd9eff8e5f26694322db699', '01b85a89cf2d7a374e86ee72e5386482', '01b998334e433ff38e0975c416002532', '01bb0b8571039f108eddbb748018b2c8', '01bb28ca1b75a832f3742c905a1d6edf', '01bb6dabfea9da9d4ad067154fb460f2', '01bbae6c27c1f755434b7b30995e11b7', '01bc19880fe23adffe0b1e92a2897b1c', '01bcae06e740d0a7b725eb32434ffe4f', '01bcd68d2511600994ef28db62db47e9', '01be48d41d1bf4b9e45c48d86314b522', '01be5cafc1427d89b095803b71af69e8', '01bf36d1273c8b9933bfd059484cb5f1', '01bfe5d19d2759df016de8c94d5e3fe0', '01bfee026ac55594f9d042f3896196ee', '01c16b0637f3b6f07e32bed5ead9e433', '01c2043b0569d463c6e0db34a7103e43', '01c4731e9791e3656d96b3a75104a349', '01c49686509eca0b42f5a78e787d99cd', '01c52e500c947f66351bb79bc43b21d2', '01c540852aaa449e561a1a9afd95d308', '01c6472dcb8231b156856e7d5f18db49', '01c7439fc73f04e92c86a4859a8654ee', '01c75b7bdfe68e3576762c7910588231', '01c790487fb8822ed4c73e3e575404ed', '01c8fb9cf24900a32c43697e2ad72752', '01c97331902fa0bad96922736906f0ac', '01ca043da0add96300000aa0e746432b', '01ca7ee11890300f7f2452609488421a', '01ca9c4e3be7146f0bd189f7a98af5b2', '01cd7855b5cfbcaca658e9f7fca0b201', '01cd7ece82e8c62bb7e93858ca80e1e3', '01ceb8e3dd5d002ab16a3aa842d6cf7f', '01d11dabd68c86827337564a650814e8', '01d12eb67c6932a49c7099e4e8a2fdaf', '01d19696f0383d3f75290bba79a0dfa4', '01d1bca4a9374108780a848b27ecf03a', '01d1cd8e3bd281ea3986214b8f3ec058', '01d1f198c39ffcc5e8d886a2d409a487', '01d34166d8d70df708291ab1886a3fc9', '01d34bb43c6d48459b59b2c5e780fe5c', '01d3bdbfa40f4d5eb987f1fd3ec87163', '01d408cd16c797af472c48cabd841aa1', '01d4b99eb1f81c1d73755f9923c6b0eb', '01d53775afdb787130355374d49d3bf2', '01d5e228cd6c152a258df27e00e990b4', '01d656b45de9e672a7aa026d63395aa7', '01d689fb4aa924cc8d298c062fbe9578', '01d6c75f9a33fbc95702ead0996df41e', '01d77922ed3893ea2258434a02d91682', '01d9b243393ffae03cb17b9d54f6ae03', '01dafc315fb6c4ac3f2c7cfb50ee8424', '01db0ce33faf4f0a7cc635a753b64cef', '01db42d14f1042b1ca5cec9e7848d1f2', '01db542a57451928082dd4c15e0eff6d', '01dd26d99d878846560cd24e462cda95', '01de1417bcca3ad86414fecfd4d37135', '01df157b31760839e788e369cf3e6127', '01df39f1ce8de5c5d7fcbf47dbfd3d73', '01e02cf7cfaf202f685184f2d18b87f5', '01e127ce0c2041fc81e3feed1cd06a9f', '01e3b0d0f75af9b0d2779b22cfb54507', '01e463c19da32737c249ddb1b1ea5036', '01e4c3b760bd2593457ba51dcace4fde', '01e5c4c2dcc757c9c04c2b97dfda0a29', '01e712c2acb82353b8e8002348adba99', '01e7725ccb11f7a8591041d147269add', '01e78269030a4e4c0ce900085100840a', '01e88fb71b4867d898c8ed625fba9f1c', '01e8cd4eb52cdf8937588142c0f80b9e', '01e9291fc360d054d1119b898a9e4c7a', '01e9360506d91f0679a20e51d87024f1', '01e9766af27cfeed7324a074864cff06', '01eb3bbd156a43645f6efba0eb8d5a8e', '01eba410f5bffbc9dd2173ed9aa8d524', '01ebc6bcff896f47f499102dd2b60a6a', '01eceba06064fecc391765f0735642aa', '01eefd510228915effa43712b3d3732c', '01ef067f63c56d7f36c244774d32687f', '01ef1c3a0edafd383f0c0d202c78c51d', '01f02bc2341992fa95bb433e05e80385', '01f0f0b0d515856cc9a6ee743c9558a9', '01f1376d5abcdbb6477177ba6177f02f', '01f17a09bca09f4813e07abecfcd7722', '01f23efb290190a7d7d360f12436c782', '01f4999d44e386f1d37ebb9640fb50df', '01f5f6812b6f295faf8c2954d5b33e8d', '01f6871fdc6ca734938bbff87cdf7c86', '01f688c434e277d2eff14645e48f5f89', '01f8b24dbfa26b911975a13a0df07d7c', '01fa0e888e844df24a86a6a1e624c04f', '01fa923518c9cd9eadbcd0d89d81cf7c', '01fa9b6cd9e033ee5e9dce203a6d47b7', '01fad01305eb23141cfd2f4c5a0aac3e', '01fb2d915069cbe688f5183547d08bcf', '01fba89b013d93a7ce644535807ba95e', '01fc3855fdafcd5df4e72348b98e535f', '01fc4b5324c992a714c9d1fa77daf810', '01fd124710ed81395a8305aee8c4cf89', '01fd43d81a5b80e022e65a419642facb', '01fd7768cad3fbdc0d9079095976c4f6', '01fe21edf110e315a52da5c383126e05', '01ff6f963ed09c3a9c430bac85332808', '02000677ef1c88b56980be0d9c659ea1', '0201ad6a938e66efb5b5b9461744f97d', '02029c6a60fa112e6a1124ceffd9fec6', '0202ab493afe35ff7db66216eb4b97bf', '020331cd4d4ba18dd5ac3f6c69eec7dd', '0203c92fab8bfcf598f9ff1ff078e775', '02041719b7a832bb022c7b37bffaefa3', '0204b0ed09c4fcace152f600ee258c43', '02052a5cc918ceefb2853e8e6e763a1d', '0205483ff52301be48654ab6f29c776e', '0205f8b29a9b32cec79b84ccffab2159', '020643ac065279a57304adb49c3fa649', '02076f26665255e7599d0e54b1ae5d4d', '0209dc03459ac4902b7255b98fb63495', '020b6aed45a3c3aa37849e5cef2df9ae', '020d3a4229af93c77386459f075558c0', '020d677151f23747c3802b4b9ccc6cdb', '020df7c2ed6cf2c0d0a1fbea5ab2dc6d', '020e14e8a464b2b6f47b9cf4691990f7', '020e2554bfa65e9d3526466352bdec8e', '020ecb3314f677091354b8b51d2dd732', '020f08c48a7d5043b2e8cb4e8488ed9a', '020f6130fa526ecc6aa7a5fa23f8541c', '020fc235f3646f7e43552f1ffd26bed5', '0210f7e3e84d31064255cbf12f61f683', '02110f702b61cb8b8347f7e4160bd38a', '02120b252b923e4eb1acb7dbb222d5f6', '02120f071b2cd101ba4220b73bf5157b', '02123adfabd11c64d8517fb066613fe6', '0213191eecc43de883a92c98dab4c638', '021561b77141d8b34145e5591c0fde57', '0215edf2258c04959b6c42d2c46cf165', '0216a42fa45cb0a17c19e98d26bcf14d', '0216dba630ec77737796c5ca2d12e786', '02180c4fc7ad1d2d1749e6fecb6cc4f8', '021ba6043f9d00e240cba5fcf2b96853', '021bc3c16202c3481a797ba474d54bc8', '021bf6a9f5cb874aef34fc682c2cd789', '021c57dc7ed93cca95feb7129fb9bd0d', '021d1d1fb43d16eaeee5b4101c2f2f1f', '021f5f885fb8486ea2007fec51c435bb', '02208acb2c3fd0ae732d9c08b7c0535d', '0222278c792851a030b5094e25fe2b7e', '02224cd46162f41f0b70fc9fe0919fa7', '0222943f22c95b90ab0ea699732dc16f', '0222bf80f9ba2fffbd04bf3ce2eac74c', '0222d4db51e620f3874ec043b5c8f68e', '022459356cae312c1591cd157e457077', '0224e7d145145776f6ec8332cf25650c', '0225e71174a1fb32e85088da221d6b39', '02260b9302f9eb10a3acb467daa82d4e', '022617ede9f91de85b311a122baaf8dd', '0226248d881152e8b3cf4b12076df238', '022693bde3f12c47690f6c7d33c1d065', '022727dac2e857e376d3ef2c818bdfbb', '02274e3666ae11d3e7c4beae82c5fefa', '0227ac48833b5ba6de51d7e2fb7b8167', '0227fb6cd27c8b38bbb974af7867c0cb', '0228773bfb33c6f5c3ff04e451eca84b', '0228c73f563ddd379da3821c443cc8cd', '022a42281b549c5e6dd9ce7096dd6bb4', '022a4e2a08e22ee158398f38348bd96b', '022b1bd18f7c36bf8cafd7b634d0e9b2', '022c447552e86693abf268c010743c8c', '022dfb9d806f6eb7e6b97a09592f7e3f', '022e30211dd325b719e6a797d5577840', '022e9139b79f831f97f3a777b29419c1', '0232037b76b50eba80e10b6359875121', '02324440065c1913e7be16ae2f01aa51', '0232ebe5b38eb2feded3372dc07f4130', '0232f705778e9a26040bc533ac481b58', '02331be3751e3cff7e37cb55757ab6d3', '02339eb0c6214fb507b16ec83541ee43', '0233ad50690281e91ec0405de6cf4b8e', '0233cd407fc0b5d04c4b7d9ed8dc7468', '0233facfb022fba3122060867d6f512e', '0236cda4855bfa24c43979dfda2cca27', '0236eea8c70679c5f8de83da98917a33', '0237930c89d4c0405a510fa45ab19591', '02382f38b0bffff35ee4aae54c9ef057', '02385cf690c8b060b03cbf0fabf3c647', '02391189e98ba468210a27666ef2cb21', '02397f7846b9ffe73356c2552b19130a', '02398a45fbfdeeed6215edaa0ea246a1', '023a92e4654bb7479196ae1dfc1909db', '023dfed3013d239d888c6d1eb6227c31', '023ec496fa0deac83b42a0f2a63b990a', '023f0fda9ac59d9aeb1d19bfc4aa3e72', '02409ce27dd5b63aa0cd47d510685c2c', '02409d605e18215e7c67cdda8534826a', '024240b00b082223a6e61e3e01f104ea', '02424827fdf4e16f10c89e47505ccfc7', '02424ed9cf3f89c3b8289206ba364f06', '0242a915ef0a80fe20deba950ff0f8e3', '0243f153dbe215431f83c6b667ce8d85', '02440c4a1a6722a3f4e73bc8b4ab11fb', '02447c947a632801f5e30d581f8f32ec', '0244a7329df20c6a6070ddadd84eb0f6', '0247029f78aad1913332d621c7ce3aa7', '02470dcb431556c8cb95d313bdfc74c7', '0247164b8d8311430b9aa02e04c04c35', '0247d42b5c9048c1db025c5d11cfcbdd', '02496b8c3f82681d20d3a6f247168a3a', '024a4f41707a651ff44ca2cabc57e9a8', '024c2f9d3d2be5172255b2f2ae8bd3ff', '024c9448b9bb51235e96a74a3a7a2cdd', '024e7a31bc1d4741162fbe569a1ed16c', '024ec33c45d540629dccfa4f3f52d961', '024f03a5ae84dd1ea1cb4b40b2815960', '024f5e81c8a884a700c8ad69642e5c21', '024f96e0e8ec980cc0c9e193e7b13575', '025019773085b29fc1b845b9c0993408', '025141535e043d252ba010d7dfbf88ed', '0251e9b3b3ff84920169c0655652132a', '0253a2e94fd54362a9ec5130b8e215da', '025441c6a3eab890418ae119ad5cc1d4', '02545aab0081b818b604e153179d0933', '0255a8a306b08754246cb8ea5f07727f', '02564771b73fa2b764ac13b05792748f', '02564e6c4483ed667c32004e1c02576f', '0256711e7e8dabcee8ffe18622bef124', '0257520e8c7f5ae0a33fc3779fe098ee', '025a2ea508a5416d4342427bef8ad182', '025a7e49becd56f341a143b4901b8b7b', '025aa533cf758abdee016c91c0d5e9cb', '025d0df662ed8b8c884e87d4c6822b27', '025d79f8b5830f6cbd82807005fa62c5', '025d9eaa4734acde1f76b77994e5feba', '025dec4297ba28db0fb8deb9206d5110', '025f5a43318ac52ac7d160756c309795', '025ff9dc8d1ed624894101bfcce4745c', '0260492fc48216c4a659266dbbe65777', '0260c9cee76cfe4bb5c5b918e98ee342', '0260e6fcb44480cde5aa0e539843786f', '0261050269f52a11cf28a026ae39de1f', '026180c1eecab3bd57c11a421e1c3e6a', '0261b7cf4398ecbd5541c65e376757d7', '026228d06358b54292ca0241ddfaa3eb', '0262587ee0678a37a8f0d40a63757c41', '0262f85f3dae120f38e753b43f510d03', '026323261ce09a162ec27563c3cceac3', '026359a160b8d844c6d7a7d0104dc071', '0264ae1e1fd0789f25ab9ee1fdea30dd', '0264f555b3426b21f6d60a3200e19342', '026649200d12ad7525ba72cbf8870818', '0266f12de63738eaa96b72541d7dec08', '026799862ddd21188234fba4b76165e6', '0267c4ca94da793b6295c803af0152fd', '02689a1028e1dcd39e45753038b5adaa', '026953bffa6d2d9212dceafa3ce9d7cc', '02696cc34c1afa7fac21ea85c3f3ee9e', '026b3f251a0c49aa8f121613705fdaac', '026b683ba6c178e633d43e1806df8219', '026c2881901f9effba8cbe3bb7f0052d', '026d12f0098f9f6c10b1536ba4ba0eed', '026d66bd28ba7fe502263654b703ec5a', '026ddf5a8f0310a1cac6a3e3d45db8e1', '026e3eadccdbd47dc843309b375f9f51', '026ed9d57cbbd74d565e3bb66a345893', '026f0faa5b5da31f7687ec53a1021e49', '0270a6f5ef2c108fc282293863d01053', '02717d66872579cbffd7e24de685222b', '02725489524cad0eaa9b241a0dddb647', '0272a14f05d58ac406636a341ac4f474', '027304bb293b9eb2042cd5d0a8a67953', '02741fba0e7360a45576b0099b753e45', '027480ba7ee1a003f5070aabc14bb986', '0274b2cd182cd549e3c61e56008247ad', '027581fa95d96eafbb080e4f1a6ec582', '0275b5d1b64ceb15b462e1439fa004d2', '0275c09fa2f33c9228e48da8cccab2b4', '0276449a9ed8ff2b3708f4eda4dcccba', '0276df60d0db9aa8632aa38e033ec15a', '027796e52ca5ead08393b7aca3b53451', '0277affb536b31d1c7388c41e23e7780', '027840aedf422ade401832369f5f2687', '027a1a2e7943ea545cbae03dd6ab2ef6', '027abfe42164a8fced59eeb5ab8630be', '027b7b3cd5398ad06d22aff86b13aa0b', '027bf871cd5a4f69f7a90f074f9c7a28', '027c03c95682012e167919bc1f64e7c0', '027c832e3e4f5884e7580d4a1f494f44', '027c901339fd7056ae09a9968999c920', '027cc674028f8403a78801fa83a5eb77', '027d54bec870c104fb226575f5398ee3', '027d8054554aa77a8752e972b23032df', '027d94955fe59831ad62b8fc001714c0', '027ecab6021b157ba870d4ddcd3c415b', '027f5cc2e83bf615d059b4004cf31a62', '027f91b22b9ef921fe57e916232415d3', '02806cf599865a707adc5fb0685be150', '0280aa26f9826d810e06c00bdf61e189', '0280de0c47c286287ecfdf7e48c07abf', '028178bc1977a22c653d390ba9c58f14', '0281e28e1d978061cad9ae136e51b62d', '0282ce4fcd67e4db441407a429d6a26c', '0284755923c1fdc4a85acf2133fb242d', '0284845c553cd1e922c2fadb75d84edf', '0286d116d408f626fda60b42ab6b447e', '02872a527f73510e1f1e6465f01a4030', '02877ad637c71cb0ac5d43be1ff98af9', '02887f677ab8ff7474cba331f438c88b', '0288d90de573653d9771866340f4633c', '02898f9611b52771d5a9a5c7c15e0b73', '0289b8626d521318164faceee70e1a17', '028a01e885c179aa344ab1c186473550', '028a1f4fedf5dc0616270c7f0f1d4794', '028a2e3ae1b415588733324eb43bf4ab', '028a942a5a93a156eabaf08a192e92ac', '028afc21b49e563d84757fc41083c884', '028b1708cc6cb81cdcc3b0a3cc6cf4cd', '028b37cd20fe5afe08d5c279ccb2c445', '028bca33a60281b9c95f521a0156d5a0', '028ee50d530fb102b17fdc51f1fb31da', '028fba7ebdd5bd8cef3e36aa74afe738', '028fd5e9447df2a1ff846cb3c49a6b15', '028ff73bffbcf88b919408e31d161ff0', '029048f1610387eade57de7d324f3bdd', '0290c56cec16fdf4f540c1a7cca52c6a', '0290e6b5c59ae304fbe7bfbdb634f112', '0291042e46f6ceff6414c7b28500cfed', '02922240de0ea119c39b3f163971ed60', '0294f8d157d1ec1e3cc1ce4959f40383', '02963609095940fc358dfd0e6322c34d', '0296e7bd10ed22daa45c4d0e2ceb90bd', '02975213fd63a8a2faae8971c940e664', '0297645680d0f2374e576a8fa0c71b42', '02981611e30ee0799ba4f3ebe5ede8bd', '0298cf0f613c24078197754227aea193', '029978027f7b9e9c271b936abb6de528', '0299e72c1dca6f14655440eea66566eb', '029b6778134b319fa0a7615fe3b65b52', '029d788bbddec01b8f1eecbf1d1c1a0b', '029ed02a40996b2a02584d1220b04283', '029fcb072ab3819ccc59fb42192b8aef', '02a06e235f091083696d80bd8e48b8b8', '02a0fb25ea918e299c99114e6e1356ff', '02a10740dc8df7f5910863a45c8c5bec', '02a125d5822b158af1791a5e80a796f8', '02a266de283517b2a85c6ece63f88a52', '02a2abb492e7ea29400f74bbed90871c', '02a344a12a36864e0f7e8b2b584cef0b', '02a3ab4ca61b2101a6d84ebfa0708787', '02a423eb2729b6d60a48c1bee649fbdd', '02a49a758645551b4cc8cc334e0aa832', '02a4a02cf03dbb571c849ae25a98b175', '02a5209b20ef39730ddc7cdf6ec7c71e', '02a539120e383a85ec9b2e8b71149bdc', '02a5710f4280c99c7474a18cea905e3a', '02a5b48b2a663d98b666d6544871e8e6', '02a67275516fbfb1a707f2c250956381', '02a67cfb6335df924cf22ce4ef0af351', '02a73bbf5af5dbc698c18ca3677ff43c', '02a7b204c708ff2f98bb88e6ff0f68e3', '02a7dddcee3f2c3544589ea289f2f7f6'])\n"
          ],
          "name": "stdout"
        }
      ]
    },
    {
      "cell_type": "code",
      "metadata": {
        "id": "-wdKW0S0PMtf",
        "outputId": "3c7e73d5-b235-4a48-a721-b856e99d2c49",
        "colab": {
          "base_uri": "https://localhost:8080/",
          "height": 55
        }
      },
      "source": [
        "print(0000d48a8891cd462fdf01ea861ec53e.keys())"
      ],
      "execution_count": null,
      "outputs": [
        {
          "output_type": "stream",
          "text": [
            "dict_keys(['0000d48a8891cd462fdf01ea861ec53e', '00028a1dcb30863404a386961a69300e', '0004274683494a9eca5e70ef97299d55', '00072f81efcb3481861f7300c5e2a88a', '00076596eb749cf10c2e984621dffe95', '00076dd9aa78642b7254fef37a1cdb3e', '0008322584b6781d656d7299e80c47f8', '00084b0b8d2649ed19e7a4df5062349b', '0008755f60606b6f8f8ea75ab98a9570', '0008cb44b4f40b04132d6dad44ea0d2c', '0008d7ebeb88886c8da5df07ac2d075f', '0009dae8ad7e1989054a19df18375134', '000a16b7265576e37c076f1423fa45fb', '000ac33e8990a55ba1ddd33b6300e4d3', '000b3314b6b5b91bc91a13ee9a87da25', '000bd6b9beffa9a3fca11224fe36cf2d', '000dab8b2c08ebd7f60d3782d9a4a500', '000df145bc1b56b3c028932d6173e9e6', '000e77c27e3910bdb783165635a05fdd', '000eb74fd036f9bd8b87a1d94e8b9e1b', '000f4f8196b582e33bd0aa594b59fb53', '000ff71a020b2e94076c4883341fc3dd', '001129b9d9e02f30510f6596033d2b99', '0012e4f89351ccba136aa25bfa7a9b18', '00135062b7f1c95750a3da3b5f788283', '0013ea6bf0c02f52cc4de45b8431f47e', '0013f409ab5a0a37aa999e6dc335710e', '001446e6bb2cc2e5d235da1635d21677', '001589e4ffaccda07d9395ec5bfe90d5', '001671469281668d1d5f046d3f8e2f78', '0016dbfcf19967752c7038e9d3345831', '0016fd19df546d40debd36eaf0b6b339', '00170751a94af85ce4b6eb24dd6f2bc9', '00170d04003f4126443216f26dcf6b23', '001750c44aa71f3b904a3324828dbdd8', '0017625e34ece8ecb7f8ecaa5a3716a1', '0017b0d73a5e4567db2dc76b2190de63', '0017c075e9a1c4d0afb49d55fb786b53', '0017fc4bd5cd39cdabf1346058878432', '0018de30771b29a80f7fecd47460492a', '0019a23c817521ef7099b074ed04f4c4', '001d542d2b6115762c513b15c48f991d', '001e30d6689fb2fd7e975fceeb2f955c', '001e411fb3b311c604a0cbf862cd03fe', '001edaf0fff8d0ab78525454140373bb', '001f740375fd6c1a2d2743a38ac654a4', '001fe3052eb78fec982d5e97c469750a', '0022d7c1543583f558888f8bce3763d7', '0022e5d190f3bf0f825061658d0f07a9', '0024949c35788a00d9965572bc2a3bea', '0024c939752a4caa815970baeb052707', '0024f25e8f88400e91bbf8564c2483ce', '002580f71f454870b67b714378434ec6', '00266196b75d2fae4c0ab623fba4dacd', '002766ad51ac9d8044deb25159a3ab3f', '0027d083803ad249acaf3aeac8423f7f', '0027d0c2cc3eb17ada4946364e00181c', '00282178dece219fc1f0c59ab4fdfb54', '00282180bbd5a4f737d30e7c5a4531ce', '00284697ac7fac3c44c79bf1c4769d81', '0028806a8900fa2b55da9393c7592038', '0029843160f17ae149fbf7e56c0c4885', '002a1acf0a67d7d9a6f83955b15bc8b5', '002ab5d5b7172630b137c8441f2e36dc', '002ad33e74052c9adf7d162b81b40216', '002afd1757d3c85bd428f091ccaa7f59', '002b24bfbc29cb4c8b8d081a1491b087', '002c2dde436d6e92ac29aadead5daf39', '002c77f47d56382d2a18cf981c88ebe0', '002cf5849878fc4cea1dde5f65c6007d', '002cf7c9673c341750743a0ed04297e3', '002eb4937945b65ecc5607003ada8b2f', '002f2c379de279ac03d849222a40748b', '002f95b66a4d0d0bb85a7b4c6b4d4cda', '00302cda8f429a38844f899a4196b6c6', '00329782bc43d535ec14db31478ba115', '0033e274f11691c7079c5ae81210a468', '0035e41210d1f5c817ee798fa8b96548', '00367004762c44657031e14b1b12fd8b', '0036b2549de690a438994454923f18b7', '0036bebd045da1230731004c14a9a3b9', '0037a3b4f719bc3ccf21a40e500d46fd', '0038bbf52a3dc31ed8fa791aa6865824', '003b758ff8392c4c0e41ec51bc66e2a2', '003c08e22f0ae7e8db9340de0a7ed78b', '003ca86df9b560a6581de2ccaf9870fd', '003cbb6dca1f96550340cac762205c0b', '003d09a9e4ce6a83b2d2edc00b87cadf', '003d0c93fd47243a247e2c8b63831dfa', '003de60a28633ae0a8e59d7e03c651b8', '003e65fdc7431f7ce90a65d8cf6e5918', '003f76148ddcbb92716ca1d56b7a5ba8', '003faabf0a4f7007485bf66ff3d63465', '004132bf430fb49fdcfcdda440ac4e0e', '0042e82362893c1db1b4bc99d0de0e1d', '00432f35c5e84677ee3be7bbb0abaf31', '0043a8604192c405e1382b43992e1cc7', '0043e5fe909aa114def1fe3f8dddeab4', '0044146e47baa3c9be1d6d3e88aa7cd3', '0044380ebcf7d4565f5f4357fe2ffd98', '0044cf973e8a533de3ec474c58f70a7c', '0046119567d0f438091a3aedfef90659', '00469afa9d10e36d425b652eb9382d0a', '00481f1bc01702b9044f2b0baefa7800', '0049305141c0adbb4340a374048f0de5', '004975e307571ff53ecdcd7397cf04bb', '0049b94fc0ed5efc4fc408c2bbb9a738', '004a314a70cb0366a111285dd052feb9', '004a5e467ec1a2f2416e81e0eb4cb5db', '004a8467e2235be08a274fd699c56ea3', '004ac4e97e605ff696374cf8e21c0a7a', '004b8894d577b86f27cf66fa2c0838a8', '004c84c8216cd3a78d3aaa0c7a323f6e', '004d4b4c30ca77236dbc934db7b21471', '004e7c48b0195bf0f42f4390720494ad', '004f10dfda1e699b7a1ce0a417e8ab16', '004f6cc02e33c824424aa1e19d175fc6', '0050fa0c25e170f03cf82c554cff8048', '0051251cc5a9a3723cc40c4c19d1e5e6', '0051537c3831161be77d34e4db164f83', '0051cf635a78cdeb55e653f299500243', '0051e346b4cdf8c1d7a320262f1913d0', '005339c4d509c2891c3e16bab82a59cd', '005383ca39ed5f347d60f4403ce686dd', '0054527d158eb41ee674ed31ffe17735', '0054eb9c742044759da64982ca1ee8c8', '0054f6e864669fab2d6d4b154fa49734', '00558e633c6b614063765b84e5764e24', '0055f48f56b73d92e70aa8e0999af624', '00560387b08f6d3d1d51de686a84ad2b', '0056c352a2d9b47dd5f30e4628028494', '005743b9bc0ece4027a8b60010fea399', '0057f0d0ccfdc0f261b8efcde5f9da8c', '00581b3c6a0e33c78ad89fb19ed612be', '0059a5fc176e5a26990c9927fb703638', '005a2458bac02c76a3bfb2aefa5e5a95', '005ac344eed6d18bd53d299f689545ce', '005ac6a2568588c8c031507c55cb9863', '005d127402382d15f3bc1559f7dd1d0c', '005e14a14b2e451365c61b0b6e39401f', '005e6cf34a299fdafe2d9dfb8ac5de92', '005ebf6542349858d981e17473ce66e1', '005f73bb7d55be21a43a79a6e0c6f9ae', '005f9f9e0a1d04675ed8de78ba2884a8', '00613e6c782f7b581744697a0a1efc19', '0061fe9a93bdd64ac2861101c81327c8', '0062196248b5f36ebc6a946ddbbaebe6', '0063bc049aecf6f654c3312d9ac10fad', '00653e781ddae94ab544dde689c45662', '006579a310f5d94d9e5f34389f217579', '006612f4c88067776a6f4060f72bae44', '006628754b2def9ae61814979a766542', '00681c21a63ee767ec33aa3ab21f9fd2', '00695b267477f85eb5e0bb78b46fdebc', '006998c2576a535248e6934c474ff105', '006a34388552e5198334fb3fb37a850c', '006b071f6a0600a423d7bb67c278ede1', '006b0df007014e34dc1e2c06efe6855f', '006c66c4d7bed1d9e8a98952a423d228', '006ce88de10a5095b7e6c553d3e9cc9d', '006d9197e17b8f6b7f25d0ccc6d2d694', '006e5279ee83765107bafb921f9957b0', '006e8eb082732c85d1afe9666c24589c', '006edffb1721ee835281c61e6837bc90', '006eff7fa057bd841eda0ea32ae1f52b', '00700fb153c79090668e86c719b80e82', '00701c434d3725dac3cb6705bb16eb75', '0070980b2e4fabf7f8d0defb44a87df8', '0072e0ccdb6aa9e1b98035dbed454b24', '00734dde76be32d47c224c668099e79e', '007359d50ac57792350172a4ba6a1c29', '0073cfaa838f7320d79cfc26076e350a', '00754137b3c76fd498a04f66d8b02e9d', '0075d76dbf4235a39bfdca095cc33844', '0078c68d0e35b9036490ef861c991d7d', '00795b63daf785e7732beb887d6dc534', '007ab906107a0c404de5a8f047f1ec58', '007afebb881d802203c181a2eb68ad73', '007b28729db27db1a140763db93b99d5', '007c430c0ac2885b15450537ab4007b9', '007c79176ec855d14b0625974a59485b', '007c89ffcda68b29efda65b11345cdc5', '007d449f88a2afa383344fcffff6c0da', '007d8fd0f225b1ebf907c3cad34cbafa', '007e6a15ead0d855304b6d60cc2f77f8', '007fa89b5a1f5b4a95b9f528ce166661', '007fd319436c521ec44ca52670eedef1', '0080061d39089282510cb8295aa1736b', '0080ad22d89210f29e26f5af536decde', '0083e9d87fb3fad41c30a7d2d57311d0', '0086928c375996d181cc27b3f6887287', '0087f41867ed090cd8cfe55a5e0b625d', '008887254200b8a128e164ea5b69c924', '0088d34360bf88b7852cf81b9f3c556b', '0089389ded3b078f79ee789bd10acf3e', '008bf3c90b5fea940c2174296f96fd2f', '008c943078cd00420a7b8b5742826a5e', '008db1f3ff17ef20b901f5c358880cf8', '008ea51ad394d582fb67671c052f8534', '008ed1432d3cc218726622fedba019a9', '008ee2d6a664810ede4964ad5dcd13f3', '00920f1c281e9ab5bdb31fff8c9d1196', '0092b3813de514e10d8077731ed78e10', '0094381bcc6c1816aee9916ac15996c9', '00946a6f4da52adf1add083901cf7cb1', '0094cd689e15e865f277b3ceb5df984e', '0094fb4d662f6aeb178d9c0247b10db3', '00952beb35d07dc1f5ef1810e2b6d41e', '009549ab7cdb2ccd476a9e708a7f7660', '0096a58cb82e3d2a18db1b60bd25fbba', '0096b0cb10877c766dc70f2d6d6126e9', '0097d5129a27890b36dc5799f5c3492f', '0097dc0a33cca2bfb9324cc3edcf08f5', '0098058925bfc3cde1bc6f9d27a7eb35', '0098127623f5fd2c764b8c4c30599a69', '009816d182d495a1df8e743cead4b1e8', '0098d813ab44d2a0387ea6fced6af6fc', '009990f87bfe25b0c343114282c53b10', '00999a83c376dee09e33d1ad31be9a14', '0099a26e2fa076cd3a8fd891e87bb6fb', '0099e39d791f82863cb06aefed0c1d77', '009aaa8a9202082d23e69325dce3cb20', '009b3817d15d1298ad33868d757e0ac6', '009e3639eaaab49af8847bb3b55a1005', '009f5ec59600e50af3817d5dfb41f873', '009fc76bfdfa600839c74451b0e2ec79', '009fccbce9c4041fad6c79f95a9a1034', '00a0acb60e56b9753975782cdcefb1bc', '00a131cb05543e664e43aac90a90c8cc', '00a16d54571ac59a4c07446d28b81fff', '00a17c88341ad1cc04cee542d91942bf', '00a316facb0a52bd073800a3cc076a4a', '00a37c18dece2f529e3a93414b053214', '00a482453661a63e31274e127cb15ed8', '00a52210e3ef0f0186ccb89007d1e9b8', '00a5e509ed10b07ce08d7bd4058db5e2', '00a69feb80e170b687f0d778e240b9da', '00a88edcb50f10df87a3473c5645b1ef', '00a937c43fbc3a901428c822910e26ad', '00aa26b60f2583d4febb41aedc9d1ccf', '00ab80444a75cd8fe80742bb953bd74c', '00ac09484ccd7f4ca7251af23665becd', '00ae43326e40319f44ff8fbe07d36b26', '00aeb92cfc153bac45aecf9e460e673a', '00afb14b0ba443aadc5cc8844ba48f72', '00b117f1e5bde9507db342a8d9b32d45', '00b1e6c7946b09361a63f7d4e178143e', '00b28449d135326ea43de1a574a8f8d0', '00b2a215059bcf8ea32128e05602ad6c', '00b533324216827d73e957267cb77393', '00b5d99f5ec25173c4d491d351eda693', '00b6427fad5b1a74fbdb1847a3035868', '00b68010a407b1bf424e2e54977e4b94', '00b763eab95f1cd2bbad0849deff3ad6', '00b79c6a35cda090a176702b8d363538', '00b7cb92598d96fede14bf47d2dd3510', '00b83c90a99624a9b6f06810d86d2442', '00b9102ca912c1bbc935d6d548c7ce1f', '00b9390ab1cef42721035d680290e460', '00b96498f87e77c1ac6db16c02a4091c', '00b98f04512ec7815ff16d5d409b0e5c', '00ba8ba2801cef8f3bcc901dad4a1ff7', '00bdd4f8a2029d974aa08caf728a88e4', '00be7c85916d073cd883af69387590ad', '00c04993e5f2d23b81af8c27ee50eac9', '00c31f5b9bc7b2744bec44291442c453', '00c3f4b25362d67e9f99ad5bbf9bca67', '00c4b1e929236f7f0add3df234556d21', '00c4be76daf9c6fbddf334fa6661497f', '00c4d85133086947893e8c05c9249fd9', '00c548356a0a075a3ead809066988416', '00c590f04e1254548fa8b28a2e7ece62', '00c5b2d5eb38cc941d10a539a8fa66cf', '00c720a60dafa540841fe2be16e63e33', '00c8b55c5226a9c0b2716930b1365a99', '00c8c8a5bdce5ac11809f4d21c3d2274', '00c97f4a8c008466d31940c2cf96db47', '00cafd0861a0a41608de56cd4beb0509', '00cb3cc5a220082fd307aa655d953c41', '00cbebba5597e2d1de6f7abf62267e97', '00ccbf339726ed1f60ea1e556c513e87', '00cdb18facd1885aaddfcbf1ccd9fcc0', '00cdb9975ee6f1b2cd7cd2e2f88a0c68', '00cdfb3d5726f89bfed52c1a8591d006', '00ceaccf322f90b32c9292c601a2ab7b', '00cedf1756890919e5007141e64d2805', '00cf5dfc82ad70263ec10f6438d7b2f3', '00cf7ae7867fa3cbc2bb072d2cb6ffcc', '00d047c8c80788f366b684389e5ea6f5', '00d18c5fdb3ba51b76aa7103c0ffe92f', '00d1d656447413b210824723c3be4a6c', '00d31a8c042403d4ede1fb0bda64e008', '00d32c0e2c7273fee5d7983976562979', '00d3e6d090be83138854362df1fd9e13', '00d43e9ea3e21830d1b8e8542c4f05f8', '00d66ce207a423729cdbadade44d2a8d', '00d8381ac97aac45c4c00c16d3013755', '00d8a7813b74a5215c2d20701c6d767f', '00d90df410580dc7b89f35100eae7773', '00d9f2c401564c0d60fde35ed468a394', '00dc796ed8e562e26c8c03c4d1f5436f', '00dca212c8a487b96f7a23a7c172a7f9', '00dcc7a415af3e308024dd1792d9b2e5', '00dd60ac8bf67918e1acc2df95a1e23e', '00de9c2cc06f8d3c591755451dcb16f7', '00df0b238a7cdb822042748f4199b6dc', '00e093bed587ba459742800a6036ce3d', '00e10f3532594bf433f4284eb13acb09', '00e23cfca3cd754e8a033cedcbe21414', '00e24d29710ca1a0a330fbf0ee01d258', '00e296a45a9ff05d71e9b7923ec04b80', '00e32a550fae1685b2e50c01358e5cf8', '00e448b27a58ebdb0a64ea8479fdd379', '00e49245f461e15f32bb888bea497c75', '00e6e86233620b96f4f7afacc998dab2', '00e6ee90d45e35d775348a95be9b9d5d', '00e7169c9728f050d65e0e0600a85255', '00e718a64152fea762db921f7d27c499', '00e7cf1411faedf713d47066b12cf1cd', '00e7f648d912f9a668284aca03c5b097', '00e8495455bf282b2b1b0f0637e22248', '00e9254bcd446fcda18c66dcb355c90c', '00ec2304b9f0c58a4fa5e18e7eea5030', '00ec5dced1dcda800b145e06ce211317', '00f037f60578a07b59bf95bdda2b5ceb', '00f0f5f57a6cedd9f5e8a05af1eeb8d4', '00f152c1b39d4dd1e57093991fcc0234', '00f19c1aa3f69898728ac2b9f8baa323', '00f205a08b0227ccbf5220fb01d46a9e', '00f3e8eeba103e62b8b5eb9c6c15698b', '00f4410e210662b7628217bb8e15ce09', '00f4b741e7d4d4c98b672f08341698fd', '00f5452c33aa52f22478e3f3fcdc7ba4', '00f569656fa2347177642c59d5e71ede', '00f582aeeb1fd9e8566d4b5a2a5c3c87', '00f665838e90b46d4c5bdc33d1558e32', '00f6d3230ee6e3d43bd5c96a593548ba', '00f70c08c8b1b9f3a24be76e080d1f2d', '00f8d06a07c01d9865f2342d09861c88', '00f974cd1ba887bb7b273d30fc9518e7', '00fa0bb463d5799b0306621b9fa7e3eb', '00fbf69b5153186b5fe4b2ff2f48569e', '00fc09c07869c71e347fc64a9ada1bee', '0100a3c8b14c8be7a6be23a4cc7522f1', '0101ea1490df5058d5ff3810709d4001', '01032073e898374dc30d41f1612890bc', '010346fe0c330efc2d6f83ec9063837b', '01044de95b62d1604e0e61212a430949', '0104cb57c5bd5c0a8123be1dad6eeb64', '0106356b51504ca7db4aaeb8f5aa7318', '0106450a5a3dd81188f0b1c7929e00d8', '010787362746b6d0f388434330527595', '01084363ed3df9ad416cc528c8679bc0', '01084c615e6d9272230fb8ea680cbe1f', '0108d9470546e3101d05a8ff852ac95c', '010930a79a47b016cc98f6b4502a1de0', '01095dc1990b41b7c0166de7bc61e745', '010997d4658cf06b73d1fcfe7473ceee', '010a00537df38f328ec3d4d9ab6cb71a', '010b16311147ff450aed350e04ed41c0', '010ba2b39f2cdec4136648ac661e0f54', '010bf373b2a8ef1a78d717e54c77e173', '010cee48fed367345492807568d57528', '010dd7254f9b5198b70c5676f9baa798', '010f34d063a57fdc9868e8c753e3c8cb', '0110d7e28fd08315fafea72eb7668b84', '0111261ed0d91f92b8c11627570a7eed', '0112762f4b5efb9d092556f5ef1194d4', '01183eb7716d8e9f95e8ba1514549867', '0119dbc85d63e01f6dd89ae4368ef8e6', '011ada9146d8355eed4ff056456f8201', '011afb922ac2425ebbc2f14b42af8a50', '011be37c87d450ae4a355d4be5dcf2aa', '011c29c00f10a53fbf5fc408bd6c446f', '011c3d6aca131c7ceb0b94a1ca520f3a', '011cdabcc381d1b4ccc98f7c4ccfb07a', '011d9109531a2121461b32e7bb066d1d', '011dac15853e5c6f3c91bf745dbad9e6', '011dda43f07a5bdcabf3bc3003cbae02', '011df484b833a6c32ff8df7aefd261f6', '011f71ed22470a194ff6cbe67d6ed6cb', '011fcccb65c23af5e40e408f14f9dffa', '012197c2630da96b12bb9ff66674519b', '0125de1ab3e1cd2d38308286a9472d73', '0125f0fbce2a8ce7e379d5110a9bab8a', '0126a3734675b3631efd9e02c6257f19', '0126b39220dd9106609a8c07708e2836', '0128e9ddf83a828a5c0a69c1eca36d32', '01295fc1e00fd77fbe6a8a3984d36ee7', '012979130a3d9931efc0749e58061d8a', '012aa720a6511db36da300536507ed3d', '012b3446072795583b371b723dc079b6', '012bce05efa71c52119271dc09e684e2', '012c069edd7aa11c7315cee135727cfe', '012c6d8a97dd8acc47544f2d2ab69f09', '012dca5c223db61de8dc762f0048bfaa', '012dfc42bf51aab879a2b53da171390e', '012f9c279b5c3323d0c9d4f5a218c5db', '012fd1146906be33cf7fc96d73f3a7d1', '012fed2058f466d5ca5aa477ab5b5b0d', '0130d2a191c4512c5a5d1a162b700e01', '0130f3c34b617389936ebabd47981b4d', '01323ae915c65b29e26a31e478292e58', '0132524a1a746d8efaedc3609e8badd7', '0132a34250d43d9e4ea5bad2860cb7f8', '0133b561e7958f2dd13f937a1a0822fa', '0133ecea9856535d2e3349fc3f318c0b', '0133f2e01c7842812d40b7551a0e1050', '0134bc53e5c4394aa5aecd3312991f3d', '01368454e8310bc70485073048a25a26', '0137048f442f53dfe97303dba61a5ae9', '0138c4ca2c4cfea10a75536cfc25f026', '01391daa651d8c1b911c2d81424f8eee', '01398231b96a86edd1e37ba70fc76bcb', '0139936ed35773c89afd6079dfeace7b', '0139dcd69cb00b00fef2d730a697acb9', '013bc638a6ac238f3291b320c61edf23', '013c79a815f8b4d3f7dfb42371698989', '013cf67cbc0357cb5d7ad8eb0140474b', '013d236cfe3d5cc14a00217d14f045ed', '013df91b423dfa85ea426f115fcac52f', '013e1e427f047cb6496b2d48a191fb86', '013ecf18a2268459014178f4036c84d8', '013f6edb56ca7645097b1a398f5d8219', '01412d79cca2e0bcd2c096447b00a4bf', '0142135793d2a83b2ba4e37206b4b612', '0142a6d28a936c0f19aaf63cbde234df', '01430b6f9aeff51c75ec9e0bd142a6f1', '014499fcb3836e57a43f89165477303b', '0146f55c7fcbbe7140418f8fa42db8d7', '01475e64dad5e8fc38731088af84f045', '01481f651397a1b1a4a88b2986b7974d', '01482ee87cce5345a45e640092b891f4', '01498e78eb246a71d0d5074a79879962', '0149a50ef38eb89cdc2ec0c61aba413a', '0149d40cf85c66c8df87aadfaf9a959e', '0149e74a7ff0a8db38d8023da248934b', '014a1932050ec11ade96e8970a8426e9', '014a2bdcd69105724aeaebe7fedfbd37', '014af2f7a3c0d2bbc891bd1f6936efa6', '014b6f04a372fe8fd4cb8a70cfaa4b55', '014c2cb44ea6925465a48a34636475ea', '014d54732075a2d5979c191ecd38b558', '014d94f66b18e1ffbb346f78a93f7a52', '014d98773bb683ee9cd19f783b707d93', '014fc563e8e63b672ce846f130a08fbb', '0151b3e19903bb0ce5fe7510e017d1fd', '0151b7d9a40915fdfed616ab807157b8', '01525c6efe3bffa5d93c5e649ab889bd', '0152b22d660172286f9931fd82dea9c3', '0152fea95e83b506fbcd1e657754f4e2', '015420e2e68877fa6e5fc2c00b7902d3', '015456364dc49ffc9317658750b45c8c', '0154abe567c46d2968128586b76e77c5', '01550d5f3581c778d66b37b4174f513d', '0155394f8bef23824fd79f4c22705882', '01555936b6ed0c6d3f6148e5753d5c51', '0155e49fd111a7bd7c673fc2921f6c39', '01571395843726fe53675b75700e8f5f', '015823c721292fa0c478b0214ac9dfd8', '015859cc08ecf3563f34efde8b3a8417', '01588b2e0502eb05ae7a4b5657e4c85b', '0159ec8d6e81a89d40ccd2c73cb5c005', '015b29ca1e482799a7555ca7c5bce4ee', '015b95f12dbb503ccfb4ddcd3a000143', '015d68beb257c62b12b99551355e7e90', '015d6ef7700445a989583e35901d8709', '015e4d3531ebf12a3c5cd69e41037f9e', '0161047d274a4e570930612e321af999', '01612354471769c4f9eb210c95550607', '0161e34e53cffa8334e9537be3a1bb72', '0161e4e37ef07bedf2da09f7f28d97e7', '0163187a392b8e2f686e00efb0234ef4', '01636a0dcd83b132602fba80fbe566c8', '01641bf0806de0e9a67c9a5c7757b8e5', '0164a0104f239d1c8dbc71263fe580d5', '01650849734cf23498faebbf767ab23b', '01669c933f7d47fab5d77e51cd8b7520', '0166e09aa1dfaa8c446fd2881f058839', '016777a29516d00036d62924888809c7', '0168046170e8a53eee70228d95fa63fa', '016811f2677b45ae11b534cd2c5e9910', '0168920c7011efe703aa28dc294db511', '0169543f7c1cf045b1c0ae91f463bd5b', '0169fc6c681868b94a313028f3f544aa', '016a0fb54bbcda80caba439e69b1c6f6', '016a77b1bf66913103e44ca8964732ac', '016a98a11dd3835c17a4cd6fca554061', '016c2415b48ac11514059ff355f1d3f0', '016ce065bf687ea7775fa174cc7b9dd2', '016cfcc495491ec2e9ebd8c89e4b94cb', '016d4fd3c0aba8267b39e8454b655a3a', '016e02145ca278d685c8c09fd47f711f', '016eab30f45641da0b950d3fb207dfbf', '016f42474c71da4244c5e7826cca15c2', '016feaddf9f0354c3390e42ef921b413', '0170862d1ca68b0d94204749e658148c', '0171284b094d2bc1053f16a786e59ff9', '017190fb59e228cf0e52ddf35a1cfb48', '0172c6140220e42809476a8637777e6b', '0172ebafc64e16706589e62044285fad', '01733074be0bfc89f995939426e3a940', '01742ebdb1ceea185feceadcd8adcee7', '01745178f85fa6bcfaa6d3faea464f69', '0176568399dcae33899691b2e941304a', '0176914f65f4a1efe7a021a894d1652b', '017928664d014b2f211cd08db8e210dc', '01795a0c0550b2c715d5470d8b497bac', '0179b1dcad23ac0d31f7db685b40aa5b', '017b0b043afbb3fafb6eb2575de08e3a', '017b3a83399ba8c41fccef73537f3fd8', '017be56fc1f2ff895f8f18dcc05df4e0', '017cab46616557c2145e7c0066a79c46', '017cace7af153a4e7744ee59288c346f', '017f41ed5944bfff370cc18387b9869a', '018147cbbc0909ce062f340ffb8ddf2d', '0181ba8dd7984df824a6a30d5ac50a6b', '0181ebc2bc010219e69fdce878ffbe8f', '01830f74e97e98b21e5dac8cf846eb06', '0183b37d756d03150e0cdc81d5794b03', '018465311883d23b386af5b1df54fd04', '0185d28377415ac8659d6867502f0ad0', '018701f3cd141872489c89665db90776', '0187ab82ee2fdbe9a6bb1d9b2fdc2523', '0188a227008573842c7f352324fd4709', '0188e0135f2d3b290389821c0755e128', '018a23c50a89a77050f0841c1d4355e4', '018afb7d3d0b19e879af68c8a61dde2c', '018baa0a310c1e6f48c2d8294b7a7dd7', '018c6d961f8e745980e15716d7813db6', '018da84fef2e95ad110248e080782e14', '018e0000cd76e6ada347f36e6faa01af', '018e5edd1609e0bc7bc37faacf2aa379', '018f5770ee28b0aed8a9168a0e5754bf', '018f63be95feffb9b4ae29827c965d42', '018f6b883072fd7358dee022fe4f79b5', '019046372d23785149df6846b5c80667', '0190e9e1871277bf4208548b98df64d2', '01915da34179d5791d2da7e8540b97ea', '0191e000b91df40faf89530cc1f38ebc', '019278c876472c3082b5907b58f00446', '0192ae00502eae805f5197095d4f97f7', '0192f13a65cbf0f505169419aa9c11d0', '01931eb9e2c3f3f6db7b187315bd6dca', '0193ee4bb5e702d32297d9f37ffddf61', '019594c022a87f0a4491fcf6d7096d52', '01964a460a6b242ef4e54a46136afd91', '01964d55b106e4b09aedbdba3be6d0d6', '01995c9cb12721f462252b4ab06bd20f', '019a58537212d9cd5253217dc394b8db', '019aa3f0aa82ce9012f0bd410dbf4a7d', '019ae4dd8cb4ae31d5897449759b7377', '019cef30ff5a836e0e7dd06b88453a53', '019fbd92d32188f2441f40f6e6ca62b0', '01a007fa287b7181220c101f0ce05b59', '01a0620fec93f632682da2cf50f45d6e', '01a139d8ab898f517208cbd9f25ceaa3', '01a1761c1fbbc9c6bf192c26875faa26', '01a1c9068148c0dc13b282cb904c743a', '01a31f8c12118c5d74a3fc58659f8183', '01a4612baf97b9554b4fde7017ff7202', '01a4d58eac45c1cda6614bfd7bbbbd9b', '01a4fa3a8ea949c76bf43c750046944a', '01a57b2728d6dbfaf85306761b54cd3e', '01a57c107660a3c4ba981d12c2e39db3', '01a5f97711b89f5408538ec83cfba56a', '01a69345c8b3d9dfb64d22c39ae8da52', '01a6a8ec5d35db1a5a67c81c6dc268bf', '01a71175f458cba203d790d43d38dba1', '01a7660f75c52337c48f343b7c67b19a', '01a79eb4b684f00e2104e18d93405ded', '01a7e1cb7ae6c9ea4a93741828e05c28', '01a86474e00df003b8075d056db2c063', '01aa3c8f1875868c2b622f0210f6836b', '01aa5c2ca133d8b232ddee24a506f3bf', '01ab01dee6ec00ce572e10510137c5f6', '01acb8c5a275b0f4f6fbdf3564c6f246', '01ad40b09cfa6adc23cc16424ea76186', '01adb239df73afcc7faca28e76275c7d', '01adb70539c6da5f313a724997a29384', '01adc257e9e98d57f333bba4778c1844', '01ae550333e5074e067e9e0bb7582ea3', '01aef1032db33c9df8fc9caa01dbc25b', '01b02f433752914150c4988a34155fd9', '01b0fcb682086801004ad59227f0c1fa', '01b132bdb56b24f73a5f8cec81c986a4', '01b1d726ca9511ae57aad04c88cb2b2c', '01b29aa7aa7ffd94fb7ac460ba62b64b', '01b366a3b91453706f6f7a18b2556e03', '01b3781a4ff79777fb87be2b81aedcdd', '01b3a15ce7eb246f5d916e7bbc573a31', '01b48d3e703ef15ab4c85b5e20296619', '01b67b2e74bdf81c928cbfe776df0ad1', '01b6d1ba95fcf202adfb99c9f362ae2d', '01b795acdfe40d9a7016f7f279a7c574', '01b8525d1bd9eff8e5f26694322db699', '01b85a89cf2d7a374e86ee72e5386482', '01b998334e433ff38e0975c416002532', '01bb0b8571039f108eddbb748018b2c8', '01bb28ca1b75a832f3742c905a1d6edf', '01bb6dabfea9da9d4ad067154fb460f2', '01bbae6c27c1f755434b7b30995e11b7', '01bc19880fe23adffe0b1e92a2897b1c', '01bcae06e740d0a7b725eb32434ffe4f', '01bcd68d2511600994ef28db62db47e9', '01be48d41d1bf4b9e45c48d86314b522', '01be5cafc1427d89b095803b71af69e8', '01bf36d1273c8b9933bfd059484cb5f1', '01bfe5d19d2759df016de8c94d5e3fe0', '01bfee026ac55594f9d042f3896196ee', '01c16b0637f3b6f07e32bed5ead9e433', '01c2043b0569d463c6e0db34a7103e43', '01c4731e9791e3656d96b3a75104a349', '01c49686509eca0b42f5a78e787d99cd', '01c52e500c947f66351bb79bc43b21d2', '01c540852aaa449e561a1a9afd95d308', '01c6472dcb8231b156856e7d5f18db49', '01c7439fc73f04e92c86a4859a8654ee', '01c75b7bdfe68e3576762c7910588231', '01c790487fb8822ed4c73e3e575404ed', '01c8fb9cf24900a32c43697e2ad72752', '01c97331902fa0bad96922736906f0ac', '01ca043da0add96300000aa0e746432b', '01ca7ee11890300f7f2452609488421a', '01ca9c4e3be7146f0bd189f7a98af5b2', '01cd7855b5cfbcaca658e9f7fca0b201', '01cd7ece82e8c62bb7e93858ca80e1e3', '01ceb8e3dd5d002ab16a3aa842d6cf7f', '01d11dabd68c86827337564a650814e8', '01d12eb67c6932a49c7099e4e8a2fdaf', '01d19696f0383d3f75290bba79a0dfa4', '01d1bca4a9374108780a848b27ecf03a', '01d1cd8e3bd281ea3986214b8f3ec058', '01d1f198c39ffcc5e8d886a2d409a487', '01d34166d8d70df708291ab1886a3fc9', '01d34bb43c6d48459b59b2c5e780fe5c', '01d3bdbfa40f4d5eb987f1fd3ec87163', '01d408cd16c797af472c48cabd841aa1', '01d4b99eb1f81c1d73755f9923c6b0eb', '01d53775afdb787130355374d49d3bf2', '01d5e228cd6c152a258df27e00e990b4', '01d656b45de9e672a7aa026d63395aa7', '01d689fb4aa924cc8d298c062fbe9578', '01d6c75f9a33fbc95702ead0996df41e', '01d77922ed3893ea2258434a02d91682', '01d9b243393ffae03cb17b9d54f6ae03', '01dafc315fb6c4ac3f2c7cfb50ee8424', '01db0ce33faf4f0a7cc635a753b64cef', '01db42d14f1042b1ca5cec9e7848d1f2', '01db542a57451928082dd4c15e0eff6d', '01dd26d99d878846560cd24e462cda95', '01de1417bcca3ad86414fecfd4d37135', '01df157b31760839e788e369cf3e6127', '01df39f1ce8de5c5d7fcbf47dbfd3d73', '01e02cf7cfaf202f685184f2d18b87f5', '01e127ce0c2041fc81e3feed1cd06a9f', '01e3b0d0f75af9b0d2779b22cfb54507', '01e463c19da32737c249ddb1b1ea5036', '01e4c3b760bd2593457ba51dcace4fde', '01e5c4c2dcc757c9c04c2b97dfda0a29', '01e712c2acb82353b8e8002348adba99', '01e7725ccb11f7a8591041d147269add', '01e78269030a4e4c0ce900085100840a', '01e88fb71b4867d898c8ed625fba9f1c', '01e8cd4eb52cdf8937588142c0f80b9e', '01e9291fc360d054d1119b898a9e4c7a', '01e9360506d91f0679a20e51d87024f1', '01e9766af27cfeed7324a074864cff06', '01eb3bbd156a43645f6efba0eb8d5a8e', '01eba410f5bffbc9dd2173ed9aa8d524', '01ebc6bcff896f47f499102dd2b60a6a', '01eceba06064fecc391765f0735642aa', '01eefd510228915effa43712b3d3732c', '01ef067f63c56d7f36c244774d32687f', '01ef1c3a0edafd383f0c0d202c78c51d', '01f02bc2341992fa95bb433e05e80385', '01f0f0b0d515856cc9a6ee743c9558a9', '01f1376d5abcdbb6477177ba6177f02f', '01f17a09bca09f4813e07abecfcd7722', '01f23efb290190a7d7d360f12436c782', '01f4999d44e386f1d37ebb9640fb50df', '01f5f6812b6f295faf8c2954d5b33e8d', '01f6871fdc6ca734938bbff87cdf7c86', '01f688c434e277d2eff14645e48f5f89', '01f8b24dbfa26b911975a13a0df07d7c', '01fa0e888e844df24a86a6a1e624c04f', '01fa923518c9cd9eadbcd0d89d81cf7c', '01fa9b6cd9e033ee5e9dce203a6d47b7', '01fad01305eb23141cfd2f4c5a0aac3e', '01fb2d915069cbe688f5183547d08bcf', '01fba89b013d93a7ce644535807ba95e', '01fc3855fdafcd5df4e72348b98e535f', '01fc4b5324c992a714c9d1fa77daf810', '01fd124710ed81395a8305aee8c4cf89', '01fd43d81a5b80e022e65a419642facb', '01fd7768cad3fbdc0d9079095976c4f6', '01fe21edf110e315a52da5c383126e05', '01ff6f963ed09c3a9c430bac85332808', '02000677ef1c88b56980be0d9c659ea1', '0201ad6a938e66efb5b5b9461744f97d', '02029c6a60fa112e6a1124ceffd9fec6', '0202ab493afe35ff7db66216eb4b97bf', '020331cd4d4ba18dd5ac3f6c69eec7dd', '0203c92fab8bfcf598f9ff1ff078e775', '02041719b7a832bb022c7b37bffaefa3', '0204b0ed09c4fcace152f600ee258c43', '02052a5cc918ceefb2853e8e6e763a1d', '0205483ff52301be48654ab6f29c776e', '0205f8b29a9b32cec79b84ccffab2159', '020643ac065279a57304adb49c3fa649', '02076f26665255e7599d0e54b1ae5d4d', '0209dc03459ac4902b7255b98fb63495', '020b6aed45a3c3aa37849e5cef2df9ae', '020d3a4229af93c77386459f075558c0', '020d677151f23747c3802b4b9ccc6cdb', '020df7c2ed6cf2c0d0a1fbea5ab2dc6d', '020e14e8a464b2b6f47b9cf4691990f7', '020e2554bfa65e9d3526466352bdec8e', '020ecb3314f677091354b8b51d2dd732', '020f08c48a7d5043b2e8cb4e8488ed9a', '020f6130fa526ecc6aa7a5fa23f8541c', '020fc235f3646f7e43552f1ffd26bed5', '0210f7e3e84d31064255cbf12f61f683', '02110f702b61cb8b8347f7e4160bd38a', '02120b252b923e4eb1acb7dbb222d5f6', '02120f071b2cd101ba4220b73bf5157b', '02123adfabd11c64d8517fb066613fe6', '0213191eecc43de883a92c98dab4c638', '021561b77141d8b34145e5591c0fde57', '0215edf2258c04959b6c42d2c46cf165', '0216a42fa45cb0a17c19e98d26bcf14d', '0216dba630ec77737796c5ca2d12e786', '02180c4fc7ad1d2d1749e6fecb6cc4f8', '021ba6043f9d00e240cba5fcf2b96853', '021bc3c16202c3481a797ba474d54bc8', '021bf6a9f5cb874aef34fc682c2cd789', '021c57dc7ed93cca95feb7129fb9bd0d', '021d1d1fb43d16eaeee5b4101c2f2f1f', '021f5f885fb8486ea2007fec51c435bb', '02208acb2c3fd0ae732d9c08b7c0535d', '0222278c792851a030b5094e25fe2b7e', '02224cd46162f41f0b70fc9fe0919fa7', '0222943f22c95b90ab0ea699732dc16f', '0222bf80f9ba2fffbd04bf3ce2eac74c', '0222d4db51e620f3874ec043b5c8f68e', '022459356cae312c1591cd157e457077', '0224e7d145145776f6ec8332cf25650c', '0225e71174a1fb32e85088da221d6b39', '02260b9302f9eb10a3acb467daa82d4e', '022617ede9f91de85b311a122baaf8dd', '0226248d881152e8b3cf4b12076df238', '022693bde3f12c47690f6c7d33c1d065', '022727dac2e857e376d3ef2c818bdfbb', '02274e3666ae11d3e7c4beae82c5fefa', '0227ac48833b5ba6de51d7e2fb7b8167', '0227fb6cd27c8b38bbb974af7867c0cb', '0228773bfb33c6f5c3ff04e451eca84b', '0228c73f563ddd379da3821c443cc8cd', '022a42281b549c5e6dd9ce7096dd6bb4', '022a4e2a08e22ee158398f38348bd96b', '022b1bd18f7c36bf8cafd7b634d0e9b2', '022c447552e86693abf268c010743c8c', '022dfb9d806f6eb7e6b97a09592f7e3f', '022e30211dd325b719e6a797d5577840', '022e9139b79f831f97f3a777b29419c1', '0232037b76b50eba80e10b6359875121', '02324440065c1913e7be16ae2f01aa51', '0232ebe5b38eb2feded3372dc07f4130', '0232f705778e9a26040bc533ac481b58', '02331be3751e3cff7e37cb55757ab6d3', '02339eb0c6214fb507b16ec83541ee43', '0233ad50690281e91ec0405de6cf4b8e', '0233cd407fc0b5d04c4b7d9ed8dc7468', '0233facfb022fba3122060867d6f512e', '0236cda4855bfa24c43979dfda2cca27', '0236eea8c70679c5f8de83da98917a33', '0237930c89d4c0405a510fa45ab19591', '02382f38b0bffff35ee4aae54c9ef057', '02385cf690c8b060b03cbf0fabf3c647', '02391189e98ba468210a27666ef2cb21', '02397f7846b9ffe73356c2552b19130a', '02398a45fbfdeeed6215edaa0ea246a1', '023a92e4654bb7479196ae1dfc1909db', '023dfed3013d239d888c6d1eb6227c31', '023ec496fa0deac83b42a0f2a63b990a', '023f0fda9ac59d9aeb1d19bfc4aa3e72', '02409ce27dd5b63aa0cd47d510685c2c', '02409d605e18215e7c67cdda8534826a', '024240b00b082223a6e61e3e01f104ea', '02424827fdf4e16f10c89e47505ccfc7', '02424ed9cf3f89c3b8289206ba364f06', '0242a915ef0a80fe20deba950ff0f8e3', '0243f153dbe215431f83c6b667ce8d85', '02440c4a1a6722a3f4e73bc8b4ab11fb', '02447c947a632801f5e30d581f8f32ec', '0244a7329df20c6a6070ddadd84eb0f6', '0247029f78aad1913332d621c7ce3aa7', '02470dcb431556c8cb95d313bdfc74c7', '0247164b8d8311430b9aa02e04c04c35', '0247d42b5c9048c1db025c5d11cfcbdd', '02496b8c3f82681d20d3a6f247168a3a', '024a4f41707a651ff44ca2cabc57e9a8', '024c2f9d3d2be5172255b2f2ae8bd3ff', '024c9448b9bb51235e96a74a3a7a2cdd', '024e7a31bc1d4741162fbe569a1ed16c', '024ec33c45d540629dccfa4f3f52d961', '024f03a5ae84dd1ea1cb4b40b2815960', '024f5e81c8a884a700c8ad69642e5c21', '024f96e0e8ec980cc0c9e193e7b13575', '025019773085b29fc1b845b9c0993408', '025141535e043d252ba010d7dfbf88ed', '0251e9b3b3ff84920169c0655652132a', '0253a2e94fd54362a9ec5130b8e215da', '025441c6a3eab890418ae119ad5cc1d4', '02545aab0081b818b604e153179d0933', '0255a8a306b08754246cb8ea5f07727f', '02564771b73fa2b764ac13b05792748f', '02564e6c4483ed667c32004e1c02576f', '0256711e7e8dabcee8ffe18622bef124', '0257520e8c7f5ae0a33fc3779fe098ee', '025a2ea508a5416d4342427bef8ad182', '025a7e49becd56f341a143b4901b8b7b', '025aa533cf758abdee016c91c0d5e9cb', '025d0df662ed8b8c884e87d4c6822b27', '025d79f8b5830f6cbd82807005fa62c5', '025d9eaa4734acde1f76b77994e5feba', '025dec4297ba28db0fb8deb9206d5110', '025f5a43318ac52ac7d160756c309795', '025ff9dc8d1ed624894101bfcce4745c', '0260492fc48216c4a659266dbbe65777', '0260c9cee76cfe4bb5c5b918e98ee342', '0260e6fcb44480cde5aa0e539843786f', '0261050269f52a11cf28a026ae39de1f', '026180c1eecab3bd57c11a421e1c3e6a', '0261b7cf4398ecbd5541c65e376757d7', '026228d06358b54292ca0241ddfaa3eb', '0262587ee0678a37a8f0d40a63757c41', '0262f85f3dae120f38e753b43f510d03', '026323261ce09a162ec27563c3cceac3', '026359a160b8d844c6d7a7d0104dc071', '0264ae1e1fd0789f25ab9ee1fdea30dd', '0264f555b3426b21f6d60a3200e19342', '026649200d12ad7525ba72cbf8870818', '0266f12de63738eaa96b72541d7dec08', '026799862ddd21188234fba4b76165e6', '0267c4ca94da793b6295c803af0152fd', '02689a1028e1dcd39e45753038b5adaa', '026953bffa6d2d9212dceafa3ce9d7cc', '02696cc34c1afa7fac21ea85c3f3ee9e', '026b3f251a0c49aa8f121613705fdaac', '026b683ba6c178e633d43e1806df8219', '026c2881901f9effba8cbe3bb7f0052d', '026d12f0098f9f6c10b1536ba4ba0eed', '026d66bd28ba7fe502263654b703ec5a', '026ddf5a8f0310a1cac6a3e3d45db8e1', '026e3eadccdbd47dc843309b375f9f51', '026ed9d57cbbd74d565e3bb66a345893', '026f0faa5b5da31f7687ec53a1021e49', '0270a6f5ef2c108fc282293863d01053', '02717d66872579cbffd7e24de685222b', '02725489524cad0eaa9b241a0dddb647', '0272a14f05d58ac406636a341ac4f474', '027304bb293b9eb2042cd5d0a8a67953', '02741fba0e7360a45576b0099b753e45', '027480ba7ee1a003f5070aabc14bb986', '0274b2cd182cd549e3c61e56008247ad', '027581fa95d96eafbb080e4f1a6ec582', '0275b5d1b64ceb15b462e1439fa004d2', '0275c09fa2f33c9228e48da8cccab2b4', '0276449a9ed8ff2b3708f4eda4dcccba', '0276df60d0db9aa8632aa38e033ec15a', '027796e52ca5ead08393b7aca3b53451', '0277affb536b31d1c7388c41e23e7780', '027840aedf422ade401832369f5f2687', '027a1a2e7943ea545cbae03dd6ab2ef6', '027abfe42164a8fced59eeb5ab8630be', '027b7b3cd5398ad06d22aff86b13aa0b', '027bf871cd5a4f69f7a90f074f9c7a28', '027c03c95682012e167919bc1f64e7c0', '027c832e3e4f5884e7580d4a1f494f44', '027c901339fd7056ae09a9968999c920', '027cc674028f8403a78801fa83a5eb77', '027d54bec870c104fb226575f5398ee3', '027d8054554aa77a8752e972b23032df', '027d94955fe59831ad62b8fc001714c0', '027ecab6021b157ba870d4ddcd3c415b', '027f5cc2e83bf615d059b4004cf31a62', '027f91b22b9ef921fe57e916232415d3', '02806cf599865a707adc5fb0685be150', '0280aa26f9826d810e06c00bdf61e189', '0280de0c47c286287ecfdf7e48c07abf', '028178bc1977a22c653d390ba9c58f14', '0281e28e1d978061cad9ae136e51b62d', '0282ce4fcd67e4db441407a429d6a26c', '0284755923c1fdc4a85acf2133fb242d', '0284845c553cd1e922c2fadb75d84edf', '0286d116d408f626fda60b42ab6b447e', '02872a527f73510e1f1e6465f01a4030', '02877ad637c71cb0ac5d43be1ff98af9', '02887f677ab8ff7474cba331f438c88b', '0288d90de573653d9771866340f4633c', '02898f9611b52771d5a9a5c7c15e0b73', '0289b8626d521318164faceee70e1a17', '028a01e885c179aa344ab1c186473550', '028a1f4fedf5dc0616270c7f0f1d4794', '028a2e3ae1b415588733324eb43bf4ab', '028a942a5a93a156eabaf08a192e92ac', '028afc21b49e563d84757fc41083c884', '028b1708cc6cb81cdcc3b0a3cc6cf4cd', '028b37cd20fe5afe08d5c279ccb2c445', '028bca33a60281b9c95f521a0156d5a0', '028ee50d530fb102b17fdc51f1fb31da', '028fba7ebdd5bd8cef3e36aa74afe738', '028fd5e9447df2a1ff846cb3c49a6b15', '028ff73bffbcf88b919408e31d161ff0', '029048f1610387eade57de7d324f3bdd', '0290c56cec16fdf4f540c1a7cca52c6a', '0290e6b5c59ae304fbe7bfbdb634f112', '0291042e46f6ceff6414c7b28500cfed', '02922240de0ea119c39b3f163971ed60', '0294f8d157d1ec1e3cc1ce4959f40383', '02963609095940fc358dfd0e6322c34d', '0296e7bd10ed22daa45c4d0e2ceb90bd', '02975213fd63a8a2faae8971c940e664', '0297645680d0f2374e576a8fa0c71b42', '02981611e30ee0799ba4f3ebe5ede8bd', '0298cf0f613c24078197754227aea193', '029978027f7b9e9c271b936abb6de528', '0299e72c1dca6f14655440eea66566eb', '029b6778134b319fa0a7615fe3b65b52', '029d788bbddec01b8f1eecbf1d1c1a0b', '029ed02a40996b2a02584d1220b04283', '029fcb072ab3819ccc59fb42192b8aef', '02a06e235f091083696d80bd8e48b8b8', '02a0fb25ea918e299c99114e6e1356ff', '02a10740dc8df7f5910863a45c8c5bec', '02a125d5822b158af1791a5e80a796f8', '02a266de283517b2a85c6ece63f88a52', '02a2abb492e7ea29400f74bbed90871c', '02a344a12a36864e0f7e8b2b584cef0b', '02a3ab4ca61b2101a6d84ebfa0708787', '02a423eb2729b6d60a48c1bee649fbdd', '02a49a758645551b4cc8cc334e0aa832', '02a4a02cf03dbb571c849ae25a98b175', '02a5209b20ef39730ddc7cdf6ec7c71e', '02a539120e383a85ec9b2e8b71149bdc', '02a5710f4280c99c7474a18cea905e3a', '02a5b48b2a663d98b666d6544871e8e6', '02a67275516fbfb1a707f2c250956381', '02a67cfb6335df924cf22ce4ef0af351', '02a73bbf5af5dbc698c18ca3677ff43c', '02a7b204c708ff2f98bb88e6ff0f68e3', '02a7dddcee3f2c3544589ea289f2f7f6', '02a8086a498c7835bdf9d8317c6807f4', '02a875ff3aa7ab2959c979f9e5dc769e', '02a902ed1ad92bc9b419f4d3c9c45050', '02a99c71d9964d79bbada94751609d04', '02a9a33da124ba6c6ad90f3fc5d432b2', '02aa91b38a44431c184ab670956f848e', '02ab2a0b073bf159d33258ecc9abb4f0', '02abc2f9e6b4dbb38ea4c5ab3947489e', '02abd8296a3874e6d1ee0df2f9c953d3', '02ac4cf0213ffb899cb9473df6e67f7b', '02ac4fe9caee0ef9c9210c3b3d133ef4', '02ad4f3ff20b559219fae1d21c4c6e01', '02afb956884846d6bcc3ac1addf67882', '02b05de563570cb0b63fa5545468d46f', '02b0c12a84e8eb5acc69a7826647e272', '02b1362c92101e5518c7173c2f303444', '02b192cc16d820ce0bcab4574a025c9e', '02b2b16644cbf0d2e762aa71da9595c4', '02b33b0a103130c34c8a52c5296ef6b3', '02b396e78fe34d708605eed435421548', '02b564e3b893bf344a341467a0d2caaf', '02b6c7cad765de8289adc6cc0b1aa5de', '02b7be140d465cf3b310f52926fbdc14', '02b7c62f53321acab469e5185af60dc7', '02b977a7da6792dd0716967a60e7aa42', '02ba63a036f26b2a963c87bb5418b527', '02bc2f3b1b3ae8a72c2c5986059f4e89', '02bc3deef02c9835d9a77a439ff5f70f', '02bc99158fac889dbe7fe9e40d89f493', '02bdf848b01db67355ed1793bd59c47a', '02be30274a708e03729d905821563bf8', '02bfb8c04247b9466ed49a166a270f83', '02c0b9c33bebabee429621c389cfb8d8', '02c0ebd26d4f91ba765e6bac67d7b2ed', '02c11d9ac3aff3286feb96410256637e', '02c2a7166b48026e89c8735a07980205', '02c480b3374ba3028a6ac8abb9d3593b', '02c4e0a69ce502f6766caa6a72382a63', '02c6e0ad1572d9c31cc7214e58b5d2b3', '02c81f774ee599a0c2fabe913403edf5', '02c8b0c2ed53b392d79d38fd955e94a6', '02c96dcdfd6a847a08fb0cd4adbeb2f2', '02c9bbb8c5ed225a7c746d79b0559f72', '02ca3e33a36e2806d7c0958e9870730a', '02ca5ce5e5ac408c16cc1fbcd6744d19', '02cab364dab7d386196b9bf869fe5f51', '02cb8d5a2bf0fc8ce43475a31ba8686e', '02cc7c5d500a861727269e4c4a0175d9', '02cc7f4ca6896f20708bdaface60c811', '02ccdb5cf1eb39e7155e6a0a82aa61f6', '02ccfac497f9d8805152ce1024aeb677', '02cd1fe6ee5306029eb107b712684c7b', '02cec0ca0b3c574708aa09e25378b6d7', '02cf4243c03783f0c0eec4bdb35cdc0a', '02cf453e71482dc334b275eb69fe4865', '02cf8f4aa7eb75bfa97e3cdaae9335ab', '02cfe35fbf9e5204679eec61c625fcba', '02d103d94b000773780cd3c6418a9221', '02d2e83c4520de068c27d2043e3d4608', '02d59debc0bad36c0e8d046aeeada050', '02d5fdb233c53f644a7b1648322ad512', '02d6a77cf8868d34f95126e24564b97a', '02d6b09f84ca155110df422386d88327', '02d72dd4ddf21e88de61c243ffa5b144', '02d79a29f6d7ca2a4b0dff0d620f348a', '02d85f5965dca5116501fbd893544c9c', '02d86cc66561c1801a7da438cfccd980', '02d8d2b94fc86a31a1b8dafda345a1c5', '02d9d902ca2f8fbf4fe43b289dbba7b5', '02dad622efd1a8dee1209620f9a45d08', '02daf1c1d9d1cb5f20193da352422ed2', '02db517b5be9107677b1c4681b68699a', '02db7ed6a4252b3adde632cf43846ade', '02dbd6f386b7ddcbbea69e7731aa5202', '02de60b396673ebd441bfaf701501e7b', '02de889633e92f95d978529a54ae0fdf', '02e02e937637ddb16a38f6500674dbb6', '02e04eca14d98022a6b89e4653d6ebe6', '02e0c259cc32b233f3352880684c05bf', '02e0f2c64319272d306aeb4c6ea4bc24', '02e0f5e9004ab6a4235f295fbae47186', '02e23e9f7505d4774f4132e880f5d689', '02e23f5ad4f004317997529af5f2787f', '02e2db15f4d361f6349ec2f0f06d16a9', '02e8fe1f8dc84f75ec1d8b01300147ba', '02e91090efbbb955b5cd9cf164e18172', '02e9182b94dde07814718f3925e7664a', '02e91e4e352cd7cac77eea65465bb206', '02e9602b05bd3d233c75b4ca3e525406', '02e9eac359f47cb7248bf90368cb3fe6', '02eb05d95e65217163a89f4a80a58183', '02eb3a94b6d7cd96dd91f6e35856d72d', '02ebdfe2df9d452e86e471a764fe95f7', '02ecfddc415cbd5477f078f77f753166', '02ed07bff3a2f457189f135089e848f0', '02ee070c24dd49feac402001b375cb23', '02ee234993d01ab52d1d3cfabb9923b8', '02ee63a7a07c9a9ed6401645046221e5', '02efae6c823421ac249032256ea3991d', '02efeb2aaed1c60fb35f5f2cb0ab38d3', '02eff41be4dd2720421453f716653d1d', '02f0eff95ed0089f7e8f611d16545450', '02f160e42a039db42f32af30e63c658a', '02f2adbc07d5e3b1e3a64c7dd460bc95', '02f44147f8f6971b5c302a3cd7055d91', '02f5255ff17d6e8ed73a65e53c69e10c', '02f5fe797d883389f2a7d01407644b6f', '02f86d27eb7d8a224cdd0f869b010eee', '02f87148f2606b8ae667acbef3c0c53e', '02f9f7aea7e09dfd1a166be63d101560', '02fa02e92913c1f694aef121b67ae30b', '02fb99b1dc608b58dd2953792192d57a', '02fc2e24b6e129ddf150361c1cc9d1af', '02fc41f109e3dfbfcf3dbe484e6272dd', '02fc4cd191fa47137845b9389b52b8a4', '02fd3d45fb7e2f38ea07d7536801bf09', '02fe9b242fc1794ce05e8954726f20bb', '02ff1ec9c200e9290b01ce7c751e6f42', '030240a26662a783ba9667e7d0836a47', '030250e9b35945cab5c93423c822c99e', '03025d5e9304648d6cb88a0253649cf9', '03034650f3b05de539dc79aef72eb036', '03064f11d28b10e726db7bb2d6413e48', '030881674d2e3d4edc09524b64c911a4', '03088d1a0566fdea491c27b539a0ced3', '03090ffce065e42346e4641e3191140c', '03098c69d7d1f5ff727a79373efeac1b', '0309be455054cf3c77a7cd71ff5e49d6', '030bdf3c45f49722f13833f55f807bd9', '030c4bb4c99f9cffaeb5d3983b40119a', '030d484147c5432b89bc0c0af007bf25', '030e0b4d5075d80ad16d780b796bbccf', '030ee3168ea00aba539a420c836c5ece', '030fbe3f40a7fe9427bfb4edc3a90800', '0311638f16fb9729bbf2814f82124a18', '03127081b7fcf6e9674d95e71052e1cf', '031377a22ce5e0ce5bed7bfa7a68ae08', '0314bcc2b6e9897a9f2a72cd583d83b7', '03161f8d671dcb9314722c6488be4bd3', '03182791b31f1b1fd6a5739ec77b9741', '0319f0787df685104e421cb75b797b1c', '031a5d3984cefc1e1d1e2d48b9f18d65', '031a772e205573d1fb5fd74bc421d628', '031ad1561025ebc7700d3546ee509499', '031b7afede19a01deaff86a71e413efc', '031f246cff5f459b1ffaf2f38d9b68ed', '031f498e8ce6f18cf1a065f56c0e53f0', '031f689e97dbd8012e881b2ae9b2ee89', '031fc87d64b32e71a133baeea161c5b0', '0321563c92ecbf852223d66c95d09c03', '0321eb85ef25859350d865b09269816c', '0321ed77bc256516d9866491f4088d17', '03259791938afc94eedc99f0530a55c5', '0325bcc0b7a0fe93abe7a86dee94ac4c', '032616a4e948b954cb7b5d364df2f73f', '032842811fbc4a006c290015ee0d68fd', '0328a31b4cb0e6dbd9caa05284f89712', '032912110b742e189445654d4f46672d', '03296e020d8d76b17bb79c979a5a7d76', '0329ca90d2604a49c6f335f93564b3f1', '0329f81a92598d3583da480f3222be63', '032b50a1d3318ac8ed26780b4626e555', '032c3b148bc06b622120928d6b7a5fa3', '032c44f12b03377f4531951af1810a84', '032c7ae1e04bfc1ff7327dcf6d4a2607', '032d2a91e824a3a151ee5ba572dd2c95', '032d4226a5e67f8d300116c8c6f4b0b0', '032da66f067e94208a961b94eee533ff', '032dcbbab4768f6418a42af05316f9a8', '032fa7067a142bfa9202274dac4a5327', '032fae75be307907cee1e4fa82dda191', '03301fd22ad900e5923cb170af252cdd', '033060dfc3f4df98ade6adcbfbc90d75', '03306c1552fa663207c90d359c87e35b', '033079db9f471a4b122fb21b85cdec3b', '03308f49102317571bfa587ce1790bd7', '03313ad80cf3358209e2adc080c06286', '0332b13ada6d342716ac76fe17ac5e4f', '0332f07fd74bffca44bcb5066532c877', '0335d093c950f2b2123e6ae563c228a0', '0336396602af18513a089a4e7cf9324b', '033691f69abb853446e733c8527fb26d', '03377d22e15289c51a7d6b6de83cfdb5', '03379b245671525f01c7db1f28acaf3b', '0337d7789521442dee8f6a1b820819b1', '033b546bad2b690c3b651cfc54f43aa5', '033cfcc029171369fa1f5591dd8053e4', '033eb4f09d88829b615763dccdf7df53', '033f8e994d1ab9ac4e105f79eb17a4f9', '03406a3211f0dd00340da06f9cb41df2', '0341158fc616b505cf65b4b2d2d7ce49', '0341685e6762364d0a132ac2720481e0', '03416e33f3447e2201e6bab339302b3a', '034296bf9edd44b4af02e01c354c2e80', '0343e8e746d88f336cca4ab28fc6e322', '03441e31c2fc74cce4ce2b23c365b201', '03444c82b13e77ce7a8e321dbd6ebdd0', '0345237597c356de4f647c4fb9f78102', '0346f825af68923b30a29d7a78adff39', '0347b5b784647eb5789d4725b8d2c6ea', '034986df86b982517cc92f42a5a9166a', '034ba1d74147889af01db40b05c2a718', '034c0fbb727e59d9849307411492bbb4', '034dae78fc0e4b0e1b42e32830299960', '034e9b97c838ea69f26cd1b9a7433e7f', '034f349fbf4514ec4e68a4bb05721556', '034f5afd64acee7f8cbe3602ebdd39c1', '034fd067a8324649bc7bf798678b7db9', '034fe87c3c242a78f2b8aad8fc8eaff6', '03501e1ecd43fe155d8b7db49d6a0551', '03506a2e634f3c5039489a244be658d9', '03515bea176b6e11321b45c4355290a3', '035162a216ae732ad15b106651ae6bff', '035256fba46fb37375f1b0b93d0e96d2', '035304631fabcdbfc7f0eb0d3f293355', '0355844733f8a6420c945c5b8628af44', '035618d0c0203cf801882ab7c058bea9', '035779fc23aa22d250ffda7ee39fb373', '0357936805531e543d9b7b3367790d01', '0357d4a24d6443fe0141d7eb96883c4b', '0359316a826dbaad7cb63d50ad1e36d4', '0359494f956eb69eafd8017e02483442', '0359fd82cda7db43aef20b2937a9cdb4', '035a11bc54f0f79e71008f055edb8a22', '035a18fce79b867e467c0973749cd553', '035b3ceca81b4f86d05ffe0b61a9fd12', '035b931ce8978e1213855c31520dfb8c', '035cc0abf1b190e4a49e3c1e7f1018ed', '035deac8c0869fd59a5e37be0aa94f8c', '035dfec85c01912d9494c4bdf23c1634', '035fc1ae48285fbc32c11932a510328d', '0360363be3f0164bcac890fc85f4726e', '0360e4445765411ec5462648fbea103f', '03614e60e7f24e3e83ad08d24cdb1c7b', '03622158f4615de0117f75bc98241c33', '036291479afaabab40c32862bcbf630c', '0363086054ef91e46e1c50c92dfcaf0b', '03633bbe89f16139b8d0d1f2b03f3279', '03638efd8ae2c7db27465f00168a99a7', '0364310d12e29b851ec4066a05058f6c', '036565ec74314398ee8b198558887e64', '036660bbf8c2a5d06abc6dfff4c1602c', '03678d019344f93210685fea473dbe50', '036a02f91c8a726463cdda392d47d2b5', '036a90de44cfb1db250e94a57d27212c', '036cb8a6a43366153dd5c39a11f18474', '036db60edb94b1d7143439e4852c8336', '036ddabc2bd0f41aa39efe38dcdb296f', '036dfdfc5c7577ec0673e5628cc3063f', '036f2a0351a93647f723fa36f5e9db78', '036f5d0d17e547583b15e5eddb1bef09', '0370388807332a8c86f83d4a523e16f3', '0371bd89746b48dfed784d52de0fccf4', '0371ef4bb5da47077b786193918d6049', '03722aa6c12fc57d9cd074b39d5a2287', '0375329555371f75299a61f08ddb7026', '0375726dea55510f97955784c8df62fe', '0375b46d48f4bb58674531216bdd27f4', '0375da64591ea9e44aadfa9946d7208d', '037856c59529f9dd120f9b7f4f7a44ac', '0379fda9fafff9629fe8dced3f5d43dd', '037b173866e4748c828d31ea66762a28', '037b4320c066a62927ba1e4f108b2f87', '037b493bf9f943b85812e220a3e1e824', '037c04db969bf13edd034937edcd0fb3', '037cd2c2b03425ffd456ba47c1012650', '037d0fc5bd04de296a3f0b963a89802d', '037ecf9a8792b79e1558dcdb7712e7ca', '037ee5c0180cc98a73307426611d48a1', '037f0a8c5440f154e701a8d4d44cf578', '03802e139b2d3253d5e9e78a39188b70', '03818976645f56fff42ceee560556f53', '03828bc56e7a8f8cf3513a60a8e25bc4', '038322c0a18cb969d95c2174bd0eff0e', '0384555d32b2e64625a54f8ac7d5d13f', '03847849ce57e6ddf76e424fbdf4e4a8', '03858ccbb695fb869f415d5a7eaec4df', '0386554d55a9c6e31c4d627e3c542653', '0386aa545803cfbe0b5d383d73caef52', '0386c8f455d7b6e8665afdfe0bff9c11', '0387772f6ffcededcb216b0d8aa0d916', '038839a7c01d2129c56f1ede78a31a66', '038957c0354e87dfc7f22b7357b176b8', '03895e92626aa40233e560c5fcb71057', '038a08710e5cef12a296dfdaa5324286', '038d1ee05ed644b98ce236cff119e282', '038d9adc3e5e4aa2229d53e90caf4f56', '038edea99781173ae2b97ff55793d5b9', '038f64cc5c75e03f2bc78f842613075e', '03907a745c7297d284a50a416299052a', '039101a3a14cb5e293b302f9998126b8', '03913a530019419f940e1de047ede0a4', '039231d395dd0df42abf095d02e7450e', '03925c09a3ceef03cffec6804ac408e6', '039262de31162149173a94a1dc671aed', '03930eef6c5488e599ea77499e00d61f', '03934d1a13af00f2067e1c575fd16b4f', '03940f299ab72ea90bb75e660caccdb3', '03942953b9ff83c74729e3780a327bd4', '03960ab5d16317d7b9f5a9f5a137461e', '03961201273a58f80a122e3de6de3b11', '039714556956b83bef15caec09b8c26e', '0398581e3037d69efb9d0e1c86df4340', '03986130bc575a00cc016070b907f271', '0398f82c4d34dbf2dd47ed5fae3a6a31', '03998a7705012f0aadf956fd7b971bda', '0399d313979ac9a26b3dc38f3749c046', '039a0f255c88958aa608a588b65b5c3c', '039a24dd5c656e962eb700936639a860', '039a4c8065e69b0a333d9531f04f2dd9', '039af58ca6552551d6c1bb511b0121c0', '039cfc8b7624d7fafb0f4e8c85088851', '039d20a583e50fea266d03147e397875', '039da660c8f04a3251cb162e9cff51a5', '039f98d12ae3fc980bc36a2727c8feda', '039fdfe4bee4fb6ad7f150f97c818aa6', '03a0602380804db44cbc2ed0da7d7644', '03a1f1e0681cac08c5f49a58f021f54e', '03a212c7d44792e63642bb5fbc328b0b', '03a3385c3d6c20b31f6cb0b4bce684ef', '03a3836dc75be6fc3b1e7d0f214a1b35', '03a41a8b4c4add012c1fbd81117c3050', '03a447dbdaa2bd8a896574d711839623', '03a5a48da783e805b18032233ec103b4', '03a5e3a440cf9abe6d682e7f8919dc9e', '03a786baa0921bfae260818146b68a97', '03a7f99ac9ae6a6efb3beb69fdfb5856', '03a86a9779c24ede6e768ec4d6c14046', '03a8af29293df28ddb13028b38a37952', '03a9644a569b375a7c3ad9a97325c237', '03aacd20b1d8977a06bedfa537629c6f', '03ab7677a941ffd1d2ead752effb2820', '03aba8754ed28b8b61ab6a188b655eb3', '03abf1da1a6de55a43e33c270e528bd8', '03ac2173e2214f1c0f64ea580b5d2276', '03ac7a9359d86ef1f89a5b5d3d29847f', '03ad67e614506eba88478bd3466e2aba', '03adb4c69046cee6f9bf1652c4ccc53b', '03adfbd80793e6672116f435b9e924ad', '03ae8ad3768e396bbe21ec281a0a92ea', '03b08a1c1f8a34a8b03b9e2c918d1053', '03b0eca2f97e150a633cc6f409ae0e8b', '03b18990be885ff9416c8de9cc6b5e6f', '03b26ad0727f0ade7bc86c7bfad4b8ed', '03b36e7c5994a560e81eabe382e21bea', '03b3ba41fe15173e03e53f5d79292310', '03b3da46cc49beff19f57eef81529545', '03b55d4a47afab4d9a2c3e639f1fa63f', '03b5bc15d0225a30167d588a437db702', '03b60eb36c2a5b16ecb19bb54fd44ab4', '03b9083653f5d87eb88d6359f74a52ba', '03b93b2200509feebed9177a8e6d7861', '03ba57593ebaa6e8f18836963654bfd4', '03ba6af436123c2a594575f57fdb3a97'])\n"
          ],
          "name": "stdout"
        }
      ]
    },
    {
      "cell_type": "code",
      "metadata": {
        "id": "X5IwZ6CxSqaJ",
        "outputId": "4c393e21-e462-4ab3-a8ed-f8887c50a3e3",
        "colab": {
          "base_uri": "https://localhost:8080/",
          "height": 1000
        }
      },
      "source": [
        "clients_dict['0000d48a8891cd462fdf01ea861ec53e']"
      ],
      "execution_count": null,
      "outputs": [
        {
          "output_type": "execute_result",
          "data": {
            "text/plain": [
              "{'272d955e9fa15e17c0f9089bdf6283cd': {'chq_date': '2017-08-31',\n",
              "  'is_promo': 0,\n",
              "  'material': 'c5b4dfc37695199f02ec0218175e9c23',\n",
              "  'plant': '6858fb45a3d3aef7c29322d3b68dffd1',\n",
              "  'sales_count': 2.0,\n",
              "  'sales_sum': 27.98},\n",
              " '2977068f5533ac900f577fc571e9464b': {'chq_date': '2017-06-21',\n",
              "  'is_promo': 0,\n",
              "  'material': 'da163f4dfbea1578d9b64616e35bf66d',\n",
              "  'plant': '7f8bb0fe8b33780a08fe6b60ced14529',\n",
              "  'sales_count': 1.0,\n",
              "  'sales_sum': 76.09},\n",
              " '2a4f1975d20e88b7a49a121a89d2a109': {'chq_date': '2016-12-13',\n",
              "  'is_promo': 1,\n",
              "  'material': '24122642f6b2b34296825cff981cf959',\n",
              "  'plant': '6858fb45a3d3aef7c29322d3b68dffd1',\n",
              "  'sales_count': 1.0,\n",
              "  'sales_sum': 49.99},\n",
              " '36fc5b66638cd6882db5484148855aad': {'chq_date': '2017-08-11',\n",
              "  'is_promo': 0,\n",
              "  'material': '1907a86ec2794b04a0edfd1875e5ed0c',\n",
              "  'plant': '6858fb45a3d3aef7c29322d3b68dffd1',\n",
              "  'sales_count': 1.0,\n",
              "  'sales_sum': 134.99},\n",
              " '436c322f5ec688c68c87b47aebee8d9c': {'chq_date': '2017-07-20',\n",
              "  'is_promo': 1,\n",
              "  'material': 'cc03c49ceb845d88b9fa170526ae083e',\n",
              "  'plant': '6858fb45a3d3aef7c29322d3b68dffd1',\n",
              "  'sales_count': 3.0,\n",
              "  'sales_sum': 177.0},\n",
              " '50b662f8dc3d49588b12a9a3c529cf74': {'chq_date': '2017-04-29',\n",
              "  'is_promo': 1,\n",
              "  'material': 'e266f4685b015e0f3f70bfa53b2bfdfa',\n",
              "  'plant': '7f8bb0fe8b33780a08fe6b60ced14529',\n",
              "  'sales_count': 1.0,\n",
              "  'sales_sum': 36.89},\n",
              " '5cad89bca4f84f15a0964bb801772c35': {'chq_date': '2017-07-11',\n",
              "  'is_promo': 0,\n",
              "  'material': '9f30a2a717a8c463249346c63110eb0d',\n",
              "  'plant': '7f8bb0fe8b33780a08fe6b60ced14529',\n",
              "  'sales_count': 2.0,\n",
              "  'sales_sum': 98.78},\n",
              " '5e58f7ad4e48291073ee4807d952dd62': {'chq_date': '2016-10-31',\n",
              "  'is_promo': 1,\n",
              "  'material': 'ca61896690c61fd3aec9e068ab27a086',\n",
              "  'plant': '6858fb45a3d3aef7c29322d3b68dffd1',\n",
              "  'sales_count': 1.0,\n",
              "  'sales_sum': 56.99},\n",
              " '5f3dffc33e579cfce95c989e7a2853d3': {'chq_date': '2017-03-11',\n",
              "  'is_promo': 0,\n",
              "  'material': 'c8360c69412cccd193751f246e3beb79',\n",
              "  'plant': '6858fb45a3d3aef7c29322d3b68dffd1',\n",
              "  'sales_count': 1.218,\n",
              "  'sales_sum': 85.61},\n",
              " '7fe8aeee4114a557a42c604c23132dd0': {'chq_date': '2017-03-16',\n",
              "  'is_promo': 1,\n",
              "  'material': '254f1eba1181248807d128842b566bf9',\n",
              "  'plant': '6858fb45a3d3aef7c29322d3b68dffd1',\n",
              "  'sales_count': 4.0,\n",
              "  'sales_sum': 159.16},\n",
              " '8d9b38d9a8fb90def7fbf8cca2d8d83b': {'chq_date': '2017-03-24',\n",
              "  'is_promo': 0,\n",
              "  'material': '145c305f66c8a92bba8f6c6eeb6722c4',\n",
              "  'plant': '7f8bb0fe8b33780a08fe6b60ced14529',\n",
              "  'sales_count': 0.15,\n",
              "  'sales_sum': 30.0},\n",
              " '905d1530fb707387e46ca3e03f81f3c9': {'chq_date': '2017-02-26',\n",
              "  'is_promo': 0,\n",
              "  'material': '37f12e67e097891c11b17a69d5f21087',\n",
              "  'plant': '6858fb45a3d3aef7c29322d3b68dffd1',\n",
              "  'sales_count': 1.0,\n",
              "  'sales_sum': 117.99},\n",
              " '9adea9f2af6b7e81ec81ba0bd1102b0b': {'chq_date': '2017-06-10',\n",
              "  'is_promo': 0,\n",
              "  'material': 'fc7f7ca55cff92f42cea5185cec53632',\n",
              "  'plant': '6858fb45a3d3aef7c29322d3b68dffd1',\n",
              "  'sales_count': 1.0,\n",
              "  'sales_sum': 249.0},\n",
              " 'a3fabe1e22677e5c182ce51b7c32dc87': {'chq_date': '2017-05-06',\n",
              "  'is_promo': 0,\n",
              "  'material': 'ccfa8d7f71c05f0642023562134cc154',\n",
              "  'plant': '7f8bb0fe8b33780a08fe6b60ced14529',\n",
              "  'sales_count': 1.0,\n",
              "  'sales_sum': 47.49},\n",
              " 'c46237e2bdafa2e56c317f30d6b8eb8f': {'chq_date': '2017-04-07',\n",
              "  'is_promo': 0,\n",
              "  'material': '9c067980d1aac37238e8c27fb1a14023',\n",
              "  'plant': '7f8bb0fe8b33780a08fe6b60ced14529',\n",
              "  'sales_count': 1.0,\n",
              "  'sales_sum': 109.99},\n",
              " 'ccde7a7ff20aeb4e0e16f7ceb0c4a7e2': {'chq_date': '2016-12-10',\n",
              "  'is_promo': 0,\n",
              "  'material': '441f83db20dab8cbdd080b53307836e2',\n",
              "  'plant': '7f8bb0fe8b33780a08fe6b60ced14529',\n",
              "  'sales_count': 1.0,\n",
              "  'sales_sum': 159.99},\n",
              " 'd9eec49e8fbb1f1b92c98036f83e4e47': {'chq_date': '2017-05-27',\n",
              "  'is_promo': 1,\n",
              "  'material': '0db4ab6fac1f9f0fa617451add892871',\n",
              "  'plant': '7f8bb0fe8b33780a08fe6b60ced14529',\n",
              "  'sales_count': 1.0,\n",
              "  'sales_sum': 599.8},\n",
              " 'e995a409e52625f0e02e8f6b6c380b6a': {'chq_date': '2017-06-03',\n",
              "  'is_promo': 1,\n",
              "  'material': '511e56d19f8ebacd0fc181e4d131cae0',\n",
              "  'plant': '7f8bb0fe8b33780a08fe6b60ced14529',\n",
              "  'sales_count': 1.0,\n",
              "  'sales_sum': 41.89},\n",
              " 'ea1d6f54160416a73374909c1e4a5c53': {'chq_date': '2017-06-16',\n",
              "  'is_promo': 0,\n",
              "  'material': '852594cf7a31209afaca8caa96eba91f',\n",
              "  'plant': '6858fb45a3d3aef7c29322d3b68dffd1',\n",
              "  'sales_count': 2.0,\n",
              "  'sales_sum': 59.98},\n",
              " 'f8681159f0a10bed6e8247cd46084fbb': {'chq_date': '2017-07-29',\n",
              "  'is_promo': 1,\n",
              "  'material': 'ba02089940741339300b82e24e91197d',\n",
              "  'plant': '6858fb45a3d3aef7c29322d3b68dffd1',\n",
              "  'sales_count': 1.0,\n",
              "  'sales_sum': 99.89}}"
            ]
          },
          "metadata": {
            "tags": []
          },
          "execution_count": 21
        }
      ]
    },
    {
      "cell_type": "code",
      "metadata": {
        "id": "bBE7ZNnwPv8F"
      },
      "source": [
        "with open('trans.pickle', 'wb') as handle:\n",
        "    pickle.dump(clients_dict, handle, protocol=pickle.HIGHEST_PROTOCOL)"
      ],
      "execution_count": null,
      "outputs": []
    },
    {
      "cell_type": "code",
      "metadata": {
        "id": "vsp6w2ayRhH9"
      },
      "source": [
        "with open('trans.pickle', 'rb') as handle:\n",
        "    b = pickle.load(handle)"
      ],
      "execution_count": null,
      "outputs": []
    },
    {
      "cell_type": "code",
      "metadata": {
        "id": "SGjyiDU-Rn_n",
        "outputId": "e0ebfe68-7b68-4936-e8db-b33d813c473b",
        "colab": {
          "base_uri": "https://localhost:8080/",
          "height": 55
        }
      },
      "source": [
        "b.keys()"
      ],
      "execution_count": null,
      "outputs": [
        {
          "output_type": "execute_result",
          "data": {
            "text/plain": [
              "dict_keys(['0000d48a8891cd462fdf01ea861ec53e', '00028a1dcb30863404a386961a69300e', '0004274683494a9eca5e70ef97299d55', '00072f81efcb3481861f7300c5e2a88a', '00076596eb749cf10c2e984621dffe95', '00076dd9aa78642b7254fef37a1cdb3e', '0008322584b6781d656d7299e80c47f8', '00084b0b8d2649ed19e7a4df5062349b', '0008755f60606b6f8f8ea75ab98a9570', '0008cb44b4f40b04132d6dad44ea0d2c', '0008d7ebeb88886c8da5df07ac2d075f', '0009dae8ad7e1989054a19df18375134', '000a16b7265576e37c076f1423fa45fb', '000ac33e8990a55ba1ddd33b6300e4d3', '000b3314b6b5b91bc91a13ee9a87da25', '000bd6b9beffa9a3fca11224fe36cf2d', '000dab8b2c08ebd7f60d3782d9a4a500', '000df145bc1b56b3c028932d6173e9e6', '000e77c27e3910bdb783165635a05fdd', '000eb74fd036f9bd8b87a1d94e8b9e1b', '000f4f8196b582e33bd0aa594b59fb53', '000ff71a020b2e94076c4883341fc3dd', '001129b9d9e02f30510f6596033d2b99', '0012e4f89351ccba136aa25bfa7a9b18', '00135062b7f1c95750a3da3b5f788283', '0013ea6bf0c02f52cc4de45b8431f47e', '0013f409ab5a0a37aa999e6dc335710e', '001446e6bb2cc2e5d235da1635d21677', '001589e4ffaccda07d9395ec5bfe90d5', '001671469281668d1d5f046d3f8e2f78', '0016dbfcf19967752c7038e9d3345831', '0016fd19df546d40debd36eaf0b6b339', '00170751a94af85ce4b6eb24dd6f2bc9', '00170d04003f4126443216f26dcf6b23', '001750c44aa71f3b904a3324828dbdd8', '0017625e34ece8ecb7f8ecaa5a3716a1', '0017b0d73a5e4567db2dc76b2190de63', '0017c075e9a1c4d0afb49d55fb786b53', '0017fc4bd5cd39cdabf1346058878432', '0018de30771b29a80f7fecd47460492a', '0019a23c817521ef7099b074ed04f4c4', '001d542d2b6115762c513b15c48f991d', '001e30d6689fb2fd7e975fceeb2f955c', '001e411fb3b311c604a0cbf862cd03fe', '001edaf0fff8d0ab78525454140373bb', '001f740375fd6c1a2d2743a38ac654a4', '001fe3052eb78fec982d5e97c469750a', '0022d7c1543583f558888f8bce3763d7', '0022e5d190f3bf0f825061658d0f07a9', '0024949c35788a00d9965572bc2a3bea', '0024c939752a4caa815970baeb052707', '0024f25e8f88400e91bbf8564c2483ce', '002580f71f454870b67b714378434ec6', '00266196b75d2fae4c0ab623fba4dacd', '002766ad51ac9d8044deb25159a3ab3f', '0027d083803ad249acaf3aeac8423f7f', '0027d0c2cc3eb17ada4946364e00181c', '00282178dece219fc1f0c59ab4fdfb54', '00282180bbd5a4f737d30e7c5a4531ce', '00284697ac7fac3c44c79bf1c4769d81', '0028806a8900fa2b55da9393c7592038', '0029843160f17ae149fbf7e56c0c4885', '002a1acf0a67d7d9a6f83955b15bc8b5', '002ab5d5b7172630b137c8441f2e36dc', '002ad33e74052c9adf7d162b81b40216', '002afd1757d3c85bd428f091ccaa7f59', '002b24bfbc29cb4c8b8d081a1491b087', '002c2dde436d6e92ac29aadead5daf39', '002c77f47d56382d2a18cf981c88ebe0', '002cf5849878fc4cea1dde5f65c6007d', '002cf7c9673c341750743a0ed04297e3', '002eb4937945b65ecc5607003ada8b2f', '002f2c379de279ac03d849222a40748b', '002f95b66a4d0d0bb85a7b4c6b4d4cda', '00302cda8f429a38844f899a4196b6c6', '00329782bc43d535ec14db31478ba115', '0033e274f11691c7079c5ae81210a468', '0035e41210d1f5c817ee798fa8b96548', '00367004762c44657031e14b1b12fd8b', '0036b2549de690a438994454923f18b7', '0036bebd045da1230731004c14a9a3b9', '0037a3b4f719bc3ccf21a40e500d46fd', '0038bbf52a3dc31ed8fa791aa6865824', '003b758ff8392c4c0e41ec51bc66e2a2', '003c08e22f0ae7e8db9340de0a7ed78b', '003ca86df9b560a6581de2ccaf9870fd', '003cbb6dca1f96550340cac762205c0b', '003d09a9e4ce6a83b2d2edc00b87cadf', '003d0c93fd47243a247e2c8b63831dfa', '003de60a28633ae0a8e59d7e03c651b8', '003e65fdc7431f7ce90a65d8cf6e5918', '003f76148ddcbb92716ca1d56b7a5ba8', '003faabf0a4f7007485bf66ff3d63465', '004132bf430fb49fdcfcdda440ac4e0e', '0042e82362893c1db1b4bc99d0de0e1d', '00432f35c5e84677ee3be7bbb0abaf31', '0043a8604192c405e1382b43992e1cc7', '0043e5fe909aa114def1fe3f8dddeab4', '0044146e47baa3c9be1d6d3e88aa7cd3', '0044380ebcf7d4565f5f4357fe2ffd98', '0044cf973e8a533de3ec474c58f70a7c', '0046119567d0f438091a3aedfef90659', '00469afa9d10e36d425b652eb9382d0a', '00481f1bc01702b9044f2b0baefa7800', '0049305141c0adbb4340a374048f0de5', '004975e307571ff53ecdcd7397cf04bb', '0049b94fc0ed5efc4fc408c2bbb9a738', '004a314a70cb0366a111285dd052feb9', '004a5e467ec1a2f2416e81e0eb4cb5db', '004a8467e2235be08a274fd699c56ea3', '004ac4e97e605ff696374cf8e21c0a7a', '004b8894d577b86f27cf66fa2c0838a8', '004c84c8216cd3a78d3aaa0c7a323f6e', '004d4b4c30ca77236dbc934db7b21471', '004e7c48b0195bf0f42f4390720494ad', '004f10dfda1e699b7a1ce0a417e8ab16', '004f6cc02e33c824424aa1e19d175fc6', '0050fa0c25e170f03cf82c554cff8048', '0051251cc5a9a3723cc40c4c19d1e5e6', '0051537c3831161be77d34e4db164f83', '0051cf635a78cdeb55e653f299500243', '0051e346b4cdf8c1d7a320262f1913d0', '005339c4d509c2891c3e16bab82a59cd', '005383ca39ed5f347d60f4403ce686dd', '0054527d158eb41ee674ed31ffe17735', '0054eb9c742044759da64982ca1ee8c8', '0054f6e864669fab2d6d4b154fa49734', '00558e633c6b614063765b84e5764e24', '0055f48f56b73d92e70aa8e0999af624', '00560387b08f6d3d1d51de686a84ad2b', '0056c352a2d9b47dd5f30e4628028494', '005743b9bc0ece4027a8b60010fea399', '0057f0d0ccfdc0f261b8efcde5f9da8c', '00581b3c6a0e33c78ad89fb19ed612be', '0059a5fc176e5a26990c9927fb703638', '005a2458bac02c76a3bfb2aefa5e5a95', '005ac344eed6d18bd53d299f689545ce', '005ac6a2568588c8c031507c55cb9863', '005d127402382d15f3bc1559f7dd1d0c', '005e14a14b2e451365c61b0b6e39401f', '005e6cf34a299fdafe2d9dfb8ac5de92', '005ebf6542349858d981e17473ce66e1', '005f73bb7d55be21a43a79a6e0c6f9ae', '005f9f9e0a1d04675ed8de78ba2884a8', '00613e6c782f7b581744697a0a1efc19', '0061fe9a93bdd64ac2861101c81327c8', '0062196248b5f36ebc6a946ddbbaebe6', '0063bc049aecf6f654c3312d9ac10fad', '00653e781ddae94ab544dde689c45662', '006579a310f5d94d9e5f34389f217579', '006612f4c88067776a6f4060f72bae44', '006628754b2def9ae61814979a766542', '00681c21a63ee767ec33aa3ab21f9fd2', '00695b267477f85eb5e0bb78b46fdebc', '006998c2576a535248e6934c474ff105', '006a34388552e5198334fb3fb37a850c', '006b071f6a0600a423d7bb67c278ede1', '006b0df007014e34dc1e2c06efe6855f', '006c66c4d7bed1d9e8a98952a423d228', '006ce88de10a5095b7e6c553d3e9cc9d', '006d9197e17b8f6b7f25d0ccc6d2d694', '006e5279ee83765107bafb921f9957b0', '006e8eb082732c85d1afe9666c24589c', '006edffb1721ee835281c61e6837bc90', '006eff7fa057bd841eda0ea32ae1f52b', '00700fb153c79090668e86c719b80e82', '00701c434d3725dac3cb6705bb16eb75', '0070980b2e4fabf7f8d0defb44a87df8', '0072e0ccdb6aa9e1b98035dbed454b24', '00734dde76be32d47c224c668099e79e', '007359d50ac57792350172a4ba6a1c29', '0073cfaa838f7320d79cfc26076e350a', '00754137b3c76fd498a04f66d8b02e9d', '0075d76dbf4235a39bfdca095cc33844', '0078c68d0e35b9036490ef861c991d7d', '00795b63daf785e7732beb887d6dc534', '007ab906107a0c404de5a8f047f1ec58', '007afebb881d802203c181a2eb68ad73', '007b28729db27db1a140763db93b99d5', '007c430c0ac2885b15450537ab4007b9', '007c79176ec855d14b0625974a59485b', '007c89ffcda68b29efda65b11345cdc5', '007d449f88a2afa383344fcffff6c0da', '007d8fd0f225b1ebf907c3cad34cbafa', '007e6a15ead0d855304b6d60cc2f77f8', '007fa89b5a1f5b4a95b9f528ce166661', '007fd319436c521ec44ca52670eedef1', '0080061d39089282510cb8295aa1736b', '0080ad22d89210f29e26f5af536decde', '0083e9d87fb3fad41c30a7d2d57311d0', '0086928c375996d181cc27b3f6887287', '0087f41867ed090cd8cfe55a5e0b625d', '008887254200b8a128e164ea5b69c924', '0088d34360bf88b7852cf81b9f3c556b', '0089389ded3b078f79ee789bd10acf3e', '008bf3c90b5fea940c2174296f96fd2f', '008c943078cd00420a7b8b5742826a5e', '008db1f3ff17ef20b901f5c358880cf8', '008ea51ad394d582fb67671c052f8534', '008ed1432d3cc218726622fedba019a9', '008ee2d6a664810ede4964ad5dcd13f3', '00920f1c281e9ab5bdb31fff8c9d1196', '0092b3813de514e10d8077731ed78e10', '0094381bcc6c1816aee9916ac15996c9', '00946a6f4da52adf1add083901cf7cb1', '0094cd689e15e865f277b3ceb5df984e', '0094fb4d662f6aeb178d9c0247b10db3', '00952beb35d07dc1f5ef1810e2b6d41e', '009549ab7cdb2ccd476a9e708a7f7660', '0096a58cb82e3d2a18db1b60bd25fbba', '0096b0cb10877c766dc70f2d6d6126e9', '0097d5129a27890b36dc5799f5c3492f', '0097dc0a33cca2bfb9324cc3edcf08f5', '0098058925bfc3cde1bc6f9d27a7eb35', '0098127623f5fd2c764b8c4c30599a69', '009816d182d495a1df8e743cead4b1e8', '0098d813ab44d2a0387ea6fced6af6fc', '009990f87bfe25b0c343114282c53b10', '00999a83c376dee09e33d1ad31be9a14', '0099a26e2fa076cd3a8fd891e87bb6fb', '0099e39d791f82863cb06aefed0c1d77', '009aaa8a9202082d23e69325dce3cb20', '009b3817d15d1298ad33868d757e0ac6', '009e3639eaaab49af8847bb3b55a1005', '009f5ec59600e50af3817d5dfb41f873', '009fc76bfdfa600839c74451b0e2ec79', '009fccbce9c4041fad6c79f95a9a1034', '00a0acb60e56b9753975782cdcefb1bc', '00a131cb05543e664e43aac90a90c8cc', '00a16d54571ac59a4c07446d28b81fff', '00a17c88341ad1cc04cee542d91942bf', '00a316facb0a52bd073800a3cc076a4a', '00a37c18dece2f529e3a93414b053214', '00a482453661a63e31274e127cb15ed8', '00a52210e3ef0f0186ccb89007d1e9b8', '00a5e509ed10b07ce08d7bd4058db5e2', '00a69feb80e170b687f0d778e240b9da', '00a88edcb50f10df87a3473c5645b1ef', '00a937c43fbc3a901428c822910e26ad', '00aa26b60f2583d4febb41aedc9d1ccf', '00ab80444a75cd8fe80742bb953bd74c', '00ac09484ccd7f4ca7251af23665becd', '00ae43326e40319f44ff8fbe07d36b26', '00aeb92cfc153bac45aecf9e460e673a', '00afb14b0ba443aadc5cc8844ba48f72', '00b117f1e5bde9507db342a8d9b32d45', '00b1e6c7946b09361a63f7d4e178143e', '00b28449d135326ea43de1a574a8f8d0', '00b2a215059bcf8ea32128e05602ad6c', '00b533324216827d73e957267cb77393', '00b5d99f5ec25173c4d491d351eda693', '00b6427fad5b1a74fbdb1847a3035868', '00b68010a407b1bf424e2e54977e4b94', '00b763eab95f1cd2bbad0849deff3ad6', '00b79c6a35cda090a176702b8d363538', '00b7cb92598d96fede14bf47d2dd3510', '00b83c90a99624a9b6f06810d86d2442', '00b9102ca912c1bbc935d6d548c7ce1f', '00b9390ab1cef42721035d680290e460', '00b96498f87e77c1ac6db16c02a4091c', '00b98f04512ec7815ff16d5d409b0e5c', '00ba8ba2801cef8f3bcc901dad4a1ff7', '00bdd4f8a2029d974aa08caf728a88e4', '00be7c85916d073cd883af69387590ad', '00c04993e5f2d23b81af8c27ee50eac9', '00c31f5b9bc7b2744bec44291442c453', '00c3f4b25362d67e9f99ad5bbf9bca67', '00c4b1e929236f7f0add3df234556d21', '00c4be76daf9c6fbddf334fa6661497f', '00c4d85133086947893e8c05c9249fd9', '00c548356a0a075a3ead809066988416', '00c590f04e1254548fa8b28a2e7ece62', '00c5b2d5eb38cc941d10a539a8fa66cf', '00c720a60dafa540841fe2be16e63e33', '00c8b55c5226a9c0b2716930b1365a99', '00c8c8a5bdce5ac11809f4d21c3d2274', '00c97f4a8c008466d31940c2cf96db47', '00cafd0861a0a41608de56cd4beb0509', '00cb3cc5a220082fd307aa655d953c41', '00cbebba5597e2d1de6f7abf62267e97', '00ccbf339726ed1f60ea1e556c513e87', '00cdb18facd1885aaddfcbf1ccd9fcc0', '00cdb9975ee6f1b2cd7cd2e2f88a0c68', '00cdfb3d5726f89bfed52c1a8591d006', '00ceaccf322f90b32c9292c601a2ab7b', '00cedf1756890919e5007141e64d2805', '00cf5dfc82ad70263ec10f6438d7b2f3', '00cf7ae7867fa3cbc2bb072d2cb6ffcc', '00d047c8c80788f366b684389e5ea6f5', '00d18c5fdb3ba51b76aa7103c0ffe92f', '00d1d656447413b210824723c3be4a6c', '00d31a8c042403d4ede1fb0bda64e008', '00d32c0e2c7273fee5d7983976562979', '00d3e6d090be83138854362df1fd9e13', '00d43e9ea3e21830d1b8e8542c4f05f8', '00d66ce207a423729cdbadade44d2a8d', '00d8381ac97aac45c4c00c16d3013755', '00d8a7813b74a5215c2d20701c6d767f', '00d90df410580dc7b89f35100eae7773', '00d9f2c401564c0d60fde35ed468a394', '00dc796ed8e562e26c8c03c4d1f5436f', '00dca212c8a487b96f7a23a7c172a7f9', '00dcc7a415af3e308024dd1792d9b2e5', '00dd60ac8bf67918e1acc2df95a1e23e', '00de9c2cc06f8d3c591755451dcb16f7', '00df0b238a7cdb822042748f4199b6dc', '00e093bed587ba459742800a6036ce3d', '00e10f3532594bf433f4284eb13acb09', '00e23cfca3cd754e8a033cedcbe21414', '00e24d29710ca1a0a330fbf0ee01d258', '00e296a45a9ff05d71e9b7923ec04b80', '00e32a550fae1685b2e50c01358e5cf8', '00e448b27a58ebdb0a64ea8479fdd379', '00e49245f461e15f32bb888bea497c75', '00e6e86233620b96f4f7afacc998dab2', '00e6ee90d45e35d775348a95be9b9d5d', '00e7169c9728f050d65e0e0600a85255', '00e718a64152fea762db921f7d27c499', '00e7cf1411faedf713d47066b12cf1cd', '00e7f648d912f9a668284aca03c5b097', '00e8495455bf282b2b1b0f0637e22248', '00e9254bcd446fcda18c66dcb355c90c', '00ec2304b9f0c58a4fa5e18e7eea5030', '00ec5dced1dcda800b145e06ce211317', '00f037f60578a07b59bf95bdda2b5ceb', '00f0f5f57a6cedd9f5e8a05af1eeb8d4', '00f152c1b39d4dd1e57093991fcc0234', '00f19c1aa3f69898728ac2b9f8baa323', '00f205a08b0227ccbf5220fb01d46a9e', '00f3e8eeba103e62b8b5eb9c6c15698b', '00f4410e210662b7628217bb8e15ce09', '00f4b741e7d4d4c98b672f08341698fd', '00f5452c33aa52f22478e3f3fcdc7ba4', '00f569656fa2347177642c59d5e71ede', '00f582aeeb1fd9e8566d4b5a2a5c3c87', '00f665838e90b46d4c5bdc33d1558e32', '00f6d3230ee6e3d43bd5c96a593548ba', '00f70c08c8b1b9f3a24be76e080d1f2d', '00f8d06a07c01d9865f2342d09861c88', '00f974cd1ba887bb7b273d30fc9518e7', '00fa0bb463d5799b0306621b9fa7e3eb', '00fbf69b5153186b5fe4b2ff2f48569e', '00fc09c07869c71e347fc64a9ada1bee', '0100a3c8b14c8be7a6be23a4cc7522f1', '0101ea1490df5058d5ff3810709d4001', '01032073e898374dc30d41f1612890bc', '010346fe0c330efc2d6f83ec9063837b', '01044de95b62d1604e0e61212a430949', '0104cb57c5bd5c0a8123be1dad6eeb64', '0106356b51504ca7db4aaeb8f5aa7318', '0106450a5a3dd81188f0b1c7929e00d8', '010787362746b6d0f388434330527595', '01084363ed3df9ad416cc528c8679bc0', '01084c615e6d9272230fb8ea680cbe1f', '0108d9470546e3101d05a8ff852ac95c', '010930a79a47b016cc98f6b4502a1de0', '01095dc1990b41b7c0166de7bc61e745', '010997d4658cf06b73d1fcfe7473ceee', '010a00537df38f328ec3d4d9ab6cb71a', '010b16311147ff450aed350e04ed41c0', '010ba2b39f2cdec4136648ac661e0f54', '010bf373b2a8ef1a78d717e54c77e173', '010cee48fed367345492807568d57528', '010dd7254f9b5198b70c5676f9baa798', '010f34d063a57fdc9868e8c753e3c8cb', '0110d7e28fd08315fafea72eb7668b84', '0111261ed0d91f92b8c11627570a7eed', '0112762f4b5efb9d092556f5ef1194d4', '01183eb7716d8e9f95e8ba1514549867', '0119dbc85d63e01f6dd89ae4368ef8e6', '011ada9146d8355eed4ff056456f8201', '011afb922ac2425ebbc2f14b42af8a50', '011be37c87d450ae4a355d4be5dcf2aa', '011c29c00f10a53fbf5fc408bd6c446f', '011c3d6aca131c7ceb0b94a1ca520f3a', '011cdabcc381d1b4ccc98f7c4ccfb07a', '011d9109531a2121461b32e7bb066d1d', '011dac15853e5c6f3c91bf745dbad9e6', '011dda43f07a5bdcabf3bc3003cbae02', '011df484b833a6c32ff8df7aefd261f6', '011f71ed22470a194ff6cbe67d6ed6cb', '011fcccb65c23af5e40e408f14f9dffa', '012197c2630da96b12bb9ff66674519b', '0125de1ab3e1cd2d38308286a9472d73', '0125f0fbce2a8ce7e379d5110a9bab8a', '0126a3734675b3631efd9e02c6257f19', '0126b39220dd9106609a8c07708e2836', '0128e9ddf83a828a5c0a69c1eca36d32', '01295fc1e00fd77fbe6a8a3984d36ee7', '012979130a3d9931efc0749e58061d8a', '012aa720a6511db36da300536507ed3d', '012b3446072795583b371b723dc079b6', '012bce05efa71c52119271dc09e684e2', '012c069edd7aa11c7315cee135727cfe', '012c6d8a97dd8acc47544f2d2ab69f09', '012dca5c223db61de8dc762f0048bfaa', '012dfc42bf51aab879a2b53da171390e', '012f9c279b5c3323d0c9d4f5a218c5db', '012fd1146906be33cf7fc96d73f3a7d1', '012fed2058f466d5ca5aa477ab5b5b0d', '0130d2a191c4512c5a5d1a162b700e01', '0130f3c34b617389936ebabd47981b4d', '01323ae915c65b29e26a31e478292e58', '0132524a1a746d8efaedc3609e8badd7', '0132a34250d43d9e4ea5bad2860cb7f8', '0133b561e7958f2dd13f937a1a0822fa', '0133ecea9856535d2e3349fc3f318c0b', '0133f2e01c7842812d40b7551a0e1050', '0134bc53e5c4394aa5aecd3312991f3d', '01368454e8310bc70485073048a25a26', '0137048f442f53dfe97303dba61a5ae9', '0138c4ca2c4cfea10a75536cfc25f026', '01391daa651d8c1b911c2d81424f8eee', '01398231b96a86edd1e37ba70fc76bcb', '0139936ed35773c89afd6079dfeace7b', '0139dcd69cb00b00fef2d730a697acb9', '013bc638a6ac238f3291b320c61edf23', '013c79a815f8b4d3f7dfb42371698989', '013cf67cbc0357cb5d7ad8eb0140474b', '013d236cfe3d5cc14a00217d14f045ed', '013df91b423dfa85ea426f115fcac52f', '013e1e427f047cb6496b2d48a191fb86', '013ecf18a2268459014178f4036c84d8', '013f6edb56ca7645097b1a398f5d8219', '01412d79cca2e0bcd2c096447b00a4bf', '0142135793d2a83b2ba4e37206b4b612', '0142a6d28a936c0f19aaf63cbde234df', '01430b6f9aeff51c75ec9e0bd142a6f1', '014499fcb3836e57a43f89165477303b', '0146f55c7fcbbe7140418f8fa42db8d7', '01475e64dad5e8fc38731088af84f045', '01481f651397a1b1a4a88b2986b7974d', '01482ee87cce5345a45e640092b891f4', '01498e78eb246a71d0d5074a79879962', '0149a50ef38eb89cdc2ec0c61aba413a', '0149d40cf85c66c8df87aadfaf9a959e', '0149e74a7ff0a8db38d8023da248934b', '014a1932050ec11ade96e8970a8426e9', '014a2bdcd69105724aeaebe7fedfbd37', '014af2f7a3c0d2bbc891bd1f6936efa6', '014b6f04a372fe8fd4cb8a70cfaa4b55', '014c2cb44ea6925465a48a34636475ea', '014d54732075a2d5979c191ecd38b558', '014d94f66b18e1ffbb346f78a93f7a52', '014d98773bb683ee9cd19f783b707d93', '014fc563e8e63b672ce846f130a08fbb', '0151b3e19903bb0ce5fe7510e017d1fd', '0151b7d9a40915fdfed616ab807157b8', '01525c6efe3bffa5d93c5e649ab889bd', '0152b22d660172286f9931fd82dea9c3', '0152fea95e83b506fbcd1e657754f4e2', '015420e2e68877fa6e5fc2c00b7902d3', '015456364dc49ffc9317658750b45c8c', '0154abe567c46d2968128586b76e77c5', '01550d5f3581c778d66b37b4174f513d', '0155394f8bef23824fd79f4c22705882', '01555936b6ed0c6d3f6148e5753d5c51', '0155e49fd111a7bd7c673fc2921f6c39', '01571395843726fe53675b75700e8f5f', '015823c721292fa0c478b0214ac9dfd8', '015859cc08ecf3563f34efde8b3a8417', '01588b2e0502eb05ae7a4b5657e4c85b', '0159ec8d6e81a89d40ccd2c73cb5c005', '015b29ca1e482799a7555ca7c5bce4ee', '015b95f12dbb503ccfb4ddcd3a000143', '015d68beb257c62b12b99551355e7e90', '015d6ef7700445a989583e35901d8709', '015e4d3531ebf12a3c5cd69e41037f9e', '0161047d274a4e570930612e321af999', '01612354471769c4f9eb210c95550607', '0161e34e53cffa8334e9537be3a1bb72', '0161e4e37ef07bedf2da09f7f28d97e7', '0163187a392b8e2f686e00efb0234ef4', '01636a0dcd83b132602fba80fbe566c8', '01641bf0806de0e9a67c9a5c7757b8e5', '0164a0104f239d1c8dbc71263fe580d5', '01650849734cf23498faebbf767ab23b', '01669c933f7d47fab5d77e51cd8b7520', '0166e09aa1dfaa8c446fd2881f058839', '016777a29516d00036d62924888809c7', '0168046170e8a53eee70228d95fa63fa', '016811f2677b45ae11b534cd2c5e9910', '0168920c7011efe703aa28dc294db511', '0169543f7c1cf045b1c0ae91f463bd5b', '0169fc6c681868b94a313028f3f544aa', '016a0fb54bbcda80caba439e69b1c6f6', '016a77b1bf66913103e44ca8964732ac', '016a98a11dd3835c17a4cd6fca554061', '016c2415b48ac11514059ff355f1d3f0', '016ce065bf687ea7775fa174cc7b9dd2', '016cfcc495491ec2e9ebd8c89e4b94cb', '016d4fd3c0aba8267b39e8454b655a3a', '016e02145ca278d685c8c09fd47f711f', '016eab30f45641da0b950d3fb207dfbf', '016f42474c71da4244c5e7826cca15c2', '016feaddf9f0354c3390e42ef921b413', '0170862d1ca68b0d94204749e658148c', '0171284b094d2bc1053f16a786e59ff9', '017190fb59e228cf0e52ddf35a1cfb48', '0172c6140220e42809476a8637777e6b', '0172ebafc64e16706589e62044285fad', '01733074be0bfc89f995939426e3a940', '01742ebdb1ceea185feceadcd8adcee7', '01745178f85fa6bcfaa6d3faea464f69', '0176568399dcae33899691b2e941304a', '0176914f65f4a1efe7a021a894d1652b', '017928664d014b2f211cd08db8e210dc', '01795a0c0550b2c715d5470d8b497bac', '0179b1dcad23ac0d31f7db685b40aa5b', '017b0b043afbb3fafb6eb2575de08e3a', '017b3a83399ba8c41fccef73537f3fd8', '017be56fc1f2ff895f8f18dcc05df4e0', '017cab46616557c2145e7c0066a79c46', '017cace7af153a4e7744ee59288c346f', '017f41ed5944bfff370cc18387b9869a', '018147cbbc0909ce062f340ffb8ddf2d', '0181ba8dd7984df824a6a30d5ac50a6b', '0181ebc2bc010219e69fdce878ffbe8f', '01830f74e97e98b21e5dac8cf846eb06', '0183b37d756d03150e0cdc81d5794b03', '018465311883d23b386af5b1df54fd04', '0185d28377415ac8659d6867502f0ad0', '018701f3cd141872489c89665db90776', '0187ab82ee2fdbe9a6bb1d9b2fdc2523', '0188a227008573842c7f352324fd4709', '0188e0135f2d3b290389821c0755e128', '018a23c50a89a77050f0841c1d4355e4', '018afb7d3d0b19e879af68c8a61dde2c', '018baa0a310c1e6f48c2d8294b7a7dd7', '018c6d961f8e745980e15716d7813db6', '018da84fef2e95ad110248e080782e14', '018e0000cd76e6ada347f36e6faa01af', '018e5edd1609e0bc7bc37faacf2aa379', '018f5770ee28b0aed8a9168a0e5754bf', '018f63be95feffb9b4ae29827c965d42', '018f6b883072fd7358dee022fe4f79b5', '019046372d23785149df6846b5c80667', '0190e9e1871277bf4208548b98df64d2', '01915da34179d5791d2da7e8540b97ea', '0191e000b91df40faf89530cc1f38ebc', '019278c876472c3082b5907b58f00446', '0192ae00502eae805f5197095d4f97f7', '0192f13a65cbf0f505169419aa9c11d0', '01931eb9e2c3f3f6db7b187315bd6dca', '0193ee4bb5e702d32297d9f37ffddf61', '019594c022a87f0a4491fcf6d7096d52', '01964a460a6b242ef4e54a46136afd91', '01964d55b106e4b09aedbdba3be6d0d6', '01995c9cb12721f462252b4ab06bd20f', '019a58537212d9cd5253217dc394b8db', '019aa3f0aa82ce9012f0bd410dbf4a7d', '019ae4dd8cb4ae31d5897449759b7377', '019cef30ff5a836e0e7dd06b88453a53', '019fbd92d32188f2441f40f6e6ca62b0', '01a007fa287b7181220c101f0ce05b59', '01a0620fec93f632682da2cf50f45d6e', '01a139d8ab898f517208cbd9f25ceaa3', '01a1761c1fbbc9c6bf192c26875faa26', '01a1c9068148c0dc13b282cb904c743a', '01a31f8c12118c5d74a3fc58659f8183', '01a4612baf97b9554b4fde7017ff7202', '01a4d58eac45c1cda6614bfd7bbbbd9b', '01a4fa3a8ea949c76bf43c750046944a', '01a57b2728d6dbfaf85306761b54cd3e', '01a57c107660a3c4ba981d12c2e39db3', '01a5f97711b89f5408538ec83cfba56a', '01a69345c8b3d9dfb64d22c39ae8da52', '01a6a8ec5d35db1a5a67c81c6dc268bf', '01a71175f458cba203d790d43d38dba1', '01a7660f75c52337c48f343b7c67b19a', '01a79eb4b684f00e2104e18d93405ded', '01a7e1cb7ae6c9ea4a93741828e05c28', '01a86474e00df003b8075d056db2c063', '01aa3c8f1875868c2b622f0210f6836b', '01aa5c2ca133d8b232ddee24a506f3bf', '01ab01dee6ec00ce572e10510137c5f6', '01acb8c5a275b0f4f6fbdf3564c6f246', '01ad40b09cfa6adc23cc16424ea76186', '01adb239df73afcc7faca28e76275c7d', '01adb70539c6da5f313a724997a29384', '01adc257e9e98d57f333bba4778c1844', '01ae550333e5074e067e9e0bb7582ea3', '01aef1032db33c9df8fc9caa01dbc25b', '01b02f433752914150c4988a34155fd9', '01b0fcb682086801004ad59227f0c1fa', '01b132bdb56b24f73a5f8cec81c986a4', '01b1d726ca9511ae57aad04c88cb2b2c', '01b29aa7aa7ffd94fb7ac460ba62b64b', '01b366a3b91453706f6f7a18b2556e03', '01b3781a4ff79777fb87be2b81aedcdd', '01b3a15ce7eb246f5d916e7bbc573a31', '01b48d3e703ef15ab4c85b5e20296619', '01b67b2e74bdf81c928cbfe776df0ad1', '01b6d1ba95fcf202adfb99c9f362ae2d', '01b795acdfe40d9a7016f7f279a7c574', '01b8525d1bd9eff8e5f26694322db699', '01b85a89cf2d7a374e86ee72e5386482', '01b998334e433ff38e0975c416002532', '01bb0b8571039f108eddbb748018b2c8', '01bb28ca1b75a832f3742c905a1d6edf', '01bb6dabfea9da9d4ad067154fb460f2', '01bbae6c27c1f755434b7b30995e11b7', '01bc19880fe23adffe0b1e92a2897b1c', '01bcae06e740d0a7b725eb32434ffe4f', '01bcd68d2511600994ef28db62db47e9', '01be48d41d1bf4b9e45c48d86314b522', '01be5cafc1427d89b095803b71af69e8', '01bf36d1273c8b9933bfd059484cb5f1', '01bfe5d19d2759df016de8c94d5e3fe0', '01bfee026ac55594f9d042f3896196ee', '01c16b0637f3b6f07e32bed5ead9e433', '01c2043b0569d463c6e0db34a7103e43', '01c4731e9791e3656d96b3a75104a349', '01c49686509eca0b42f5a78e787d99cd', '01c52e500c947f66351bb79bc43b21d2', '01c540852aaa449e561a1a9afd95d308', '01c6472dcb8231b156856e7d5f18db49', '01c7439fc73f04e92c86a4859a8654ee', '01c75b7bdfe68e3576762c7910588231', '01c790487fb8822ed4c73e3e575404ed', '01c8fb9cf24900a32c43697e2ad72752', '01c97331902fa0bad96922736906f0ac', '01ca043da0add96300000aa0e746432b', '01ca7ee11890300f7f2452609488421a', '01ca9c4e3be7146f0bd189f7a98af5b2', '01cd7855b5cfbcaca658e9f7fca0b201', '01cd7ece82e8c62bb7e93858ca80e1e3', '01ceb8e3dd5d002ab16a3aa842d6cf7f', '01d11dabd68c86827337564a650814e8', '01d12eb67c6932a49c7099e4e8a2fdaf', '01d19696f0383d3f75290bba79a0dfa4', '01d1bca4a9374108780a848b27ecf03a', '01d1cd8e3bd281ea3986214b8f3ec058', '01d1f198c39ffcc5e8d886a2d409a487', '01d34166d8d70df708291ab1886a3fc9', '01d34bb43c6d48459b59b2c5e780fe5c', '01d3bdbfa40f4d5eb987f1fd3ec87163', '01d408cd16c797af472c48cabd841aa1', '01d4b99eb1f81c1d73755f9923c6b0eb', '01d53775afdb787130355374d49d3bf2', '01d5e228cd6c152a258df27e00e990b4', '01d656b45de9e672a7aa026d63395aa7', '01d689fb4aa924cc8d298c062fbe9578', '01d6c75f9a33fbc95702ead0996df41e', '01d77922ed3893ea2258434a02d91682', '01d9b243393ffae03cb17b9d54f6ae03', '01dafc315fb6c4ac3f2c7cfb50ee8424', '01db0ce33faf4f0a7cc635a753b64cef', '01db42d14f1042b1ca5cec9e7848d1f2', '01db542a57451928082dd4c15e0eff6d', '01dd26d99d878846560cd24e462cda95', '01de1417bcca3ad86414fecfd4d37135', '01df157b31760839e788e369cf3e6127', '01df39f1ce8de5c5d7fcbf47dbfd3d73', '01e02cf7cfaf202f685184f2d18b87f5', '01e127ce0c2041fc81e3feed1cd06a9f', '01e3b0d0f75af9b0d2779b22cfb54507', '01e463c19da32737c249ddb1b1ea5036', '01e4c3b760bd2593457ba51dcace4fde', '01e5c4c2dcc757c9c04c2b97dfda0a29', '01e712c2acb82353b8e8002348adba99', '01e7725ccb11f7a8591041d147269add', '01e78269030a4e4c0ce900085100840a', '01e88fb71b4867d898c8ed625fba9f1c', '01e8cd4eb52cdf8937588142c0f80b9e', '01e9291fc360d054d1119b898a9e4c7a', '01e9360506d91f0679a20e51d87024f1', '01e9766af27cfeed7324a074864cff06', '01eb3bbd156a43645f6efba0eb8d5a8e', '01eba410f5bffbc9dd2173ed9aa8d524', '01ebc6bcff896f47f499102dd2b60a6a', '01eceba06064fecc391765f0735642aa', '01eefd510228915effa43712b3d3732c', '01ef067f63c56d7f36c244774d32687f', '01ef1c3a0edafd383f0c0d202c78c51d', '01f02bc2341992fa95bb433e05e80385', '01f0f0b0d515856cc9a6ee743c9558a9', '01f1376d5abcdbb6477177ba6177f02f', '01f17a09bca09f4813e07abecfcd7722', '01f23efb290190a7d7d360f12436c782', '01f4999d44e386f1d37ebb9640fb50df', '01f5f6812b6f295faf8c2954d5b33e8d', '01f6871fdc6ca734938bbff87cdf7c86', '01f688c434e277d2eff14645e48f5f89', '01f8b24dbfa26b911975a13a0df07d7c', '01fa0e888e844df24a86a6a1e624c04f', '01fa923518c9cd9eadbcd0d89d81cf7c', '01fa9b6cd9e033ee5e9dce203a6d47b7', '01fad01305eb23141cfd2f4c5a0aac3e', '01fb2d915069cbe688f5183547d08bcf', '01fba89b013d93a7ce644535807ba95e', '01fc3855fdafcd5df4e72348b98e535f', '01fc4b5324c992a714c9d1fa77daf810', '01fd124710ed81395a8305aee8c4cf89', '01fd43d81a5b80e022e65a419642facb', '01fd7768cad3fbdc0d9079095976c4f6', '01fe21edf110e315a52da5c383126e05', '01ff6f963ed09c3a9c430bac85332808', '02000677ef1c88b56980be0d9c659ea1', '0201ad6a938e66efb5b5b9461744f97d', '02029c6a60fa112e6a1124ceffd9fec6', '0202ab493afe35ff7db66216eb4b97bf', '020331cd4d4ba18dd5ac3f6c69eec7dd', '0203c92fab8bfcf598f9ff1ff078e775', '02041719b7a832bb022c7b37bffaefa3', '0204b0ed09c4fcace152f600ee258c43', '02052a5cc918ceefb2853e8e6e763a1d', '0205483ff52301be48654ab6f29c776e', '0205f8b29a9b32cec79b84ccffab2159', '020643ac065279a57304adb49c3fa649', '02076f26665255e7599d0e54b1ae5d4d', '0209dc03459ac4902b7255b98fb63495', '020b6aed45a3c3aa37849e5cef2df9ae', '020d3a4229af93c77386459f075558c0', '020d677151f23747c3802b4b9ccc6cdb', '020df7c2ed6cf2c0d0a1fbea5ab2dc6d', '020e14e8a464b2b6f47b9cf4691990f7', '020e2554bfa65e9d3526466352bdec8e', '020ecb3314f677091354b8b51d2dd732', '020f08c48a7d5043b2e8cb4e8488ed9a', '020f6130fa526ecc6aa7a5fa23f8541c', '020fc235f3646f7e43552f1ffd26bed5', '0210f7e3e84d31064255cbf12f61f683', '02110f702b61cb8b8347f7e4160bd38a', '02120b252b923e4eb1acb7dbb222d5f6', '02120f071b2cd101ba4220b73bf5157b', '02123adfabd11c64d8517fb066613fe6', '0213191eecc43de883a92c98dab4c638', '021561b77141d8b34145e5591c0fde57', '0215edf2258c04959b6c42d2c46cf165', '0216a42fa45cb0a17c19e98d26bcf14d', '0216dba630ec77737796c5ca2d12e786', '02180c4fc7ad1d2d1749e6fecb6cc4f8', '021ba6043f9d00e240cba5fcf2b96853', '021bc3c16202c3481a797ba474d54bc8', '021bf6a9f5cb874aef34fc682c2cd789', '021c57dc7ed93cca95feb7129fb9bd0d', '021d1d1fb43d16eaeee5b4101c2f2f1f', '021f5f885fb8486ea2007fec51c435bb', '02208acb2c3fd0ae732d9c08b7c0535d', '0222278c792851a030b5094e25fe2b7e', '02224cd46162f41f0b70fc9fe0919fa7', '0222943f22c95b90ab0ea699732dc16f', '0222bf80f9ba2fffbd04bf3ce2eac74c', '0222d4db51e620f3874ec043b5c8f68e', '022459356cae312c1591cd157e457077', '0224e7d145145776f6ec8332cf25650c', '0225e71174a1fb32e85088da221d6b39', '02260b9302f9eb10a3acb467daa82d4e', '022617ede9f91de85b311a122baaf8dd', '0226248d881152e8b3cf4b12076df238', '022693bde3f12c47690f6c7d33c1d065', '022727dac2e857e376d3ef2c818bdfbb', '02274e3666ae11d3e7c4beae82c5fefa', '0227ac48833b5ba6de51d7e2fb7b8167', '0227fb6cd27c8b38bbb974af7867c0cb', '0228773bfb33c6f5c3ff04e451eca84b', '0228c73f563ddd379da3821c443cc8cd', '022a42281b549c5e6dd9ce7096dd6bb4', '022a4e2a08e22ee158398f38348bd96b', '022b1bd18f7c36bf8cafd7b634d0e9b2', '022c447552e86693abf268c010743c8c', '022dfb9d806f6eb7e6b97a09592f7e3f', '022e30211dd325b719e6a797d5577840', '022e9139b79f831f97f3a777b29419c1', '0232037b76b50eba80e10b6359875121', '02324440065c1913e7be16ae2f01aa51', '0232ebe5b38eb2feded3372dc07f4130', '0232f705778e9a26040bc533ac481b58', '02331be3751e3cff7e37cb55757ab6d3', '02339eb0c6214fb507b16ec83541ee43', '0233ad50690281e91ec0405de6cf4b8e', '0233cd407fc0b5d04c4b7d9ed8dc7468', '0233facfb022fba3122060867d6f512e', '0236cda4855bfa24c43979dfda2cca27', '0236eea8c70679c5f8de83da98917a33', '0237930c89d4c0405a510fa45ab19591', '02382f38b0bffff35ee4aae54c9ef057', '02385cf690c8b060b03cbf0fabf3c647', '02391189e98ba468210a27666ef2cb21', '02397f7846b9ffe73356c2552b19130a', '02398a45fbfdeeed6215edaa0ea246a1', '023a92e4654bb7479196ae1dfc1909db', '023dfed3013d239d888c6d1eb6227c31', '023ec496fa0deac83b42a0f2a63b990a', '023f0fda9ac59d9aeb1d19bfc4aa3e72', '02409ce27dd5b63aa0cd47d510685c2c', '02409d605e18215e7c67cdda8534826a', '024240b00b082223a6e61e3e01f104ea', '02424827fdf4e16f10c89e47505ccfc7', '02424ed9cf3f89c3b8289206ba364f06', '0242a915ef0a80fe20deba950ff0f8e3', '0243f153dbe215431f83c6b667ce8d85', '02440c4a1a6722a3f4e73bc8b4ab11fb', '02447c947a632801f5e30d581f8f32ec', '0244a7329df20c6a6070ddadd84eb0f6', '0247029f78aad1913332d621c7ce3aa7', '02470dcb431556c8cb95d313bdfc74c7', '0247164b8d8311430b9aa02e04c04c35', '0247d42b5c9048c1db025c5d11cfcbdd', '02496b8c3f82681d20d3a6f247168a3a', '024a4f41707a651ff44ca2cabc57e9a8', '024c2f9d3d2be5172255b2f2ae8bd3ff', '024c9448b9bb51235e96a74a3a7a2cdd', '024e7a31bc1d4741162fbe569a1ed16c', '024ec33c45d540629dccfa4f3f52d961', '024f03a5ae84dd1ea1cb4b40b2815960', '024f5e81c8a884a700c8ad69642e5c21', '024f96e0e8ec980cc0c9e193e7b13575', '025019773085b29fc1b845b9c0993408', '025141535e043d252ba010d7dfbf88ed', '0251e9b3b3ff84920169c0655652132a', '0253a2e94fd54362a9ec5130b8e215da', '025441c6a3eab890418ae119ad5cc1d4', '02545aab0081b818b604e153179d0933', '0255a8a306b08754246cb8ea5f07727f', '02564771b73fa2b764ac13b05792748f', '02564e6c4483ed667c32004e1c02576f', '0256711e7e8dabcee8ffe18622bef124', '0257520e8c7f5ae0a33fc3779fe098ee', '025a2ea508a5416d4342427bef8ad182', '025a7e49becd56f341a143b4901b8b7b', '025aa533cf758abdee016c91c0d5e9cb', '025d0df662ed8b8c884e87d4c6822b27', '025d79f8b5830f6cbd82807005fa62c5', '025d9eaa4734acde1f76b77994e5feba', '025dec4297ba28db0fb8deb9206d5110', '025f5a43318ac52ac7d160756c309795', '025ff9dc8d1ed624894101bfcce4745c', '0260492fc48216c4a659266dbbe65777', '0260c9cee76cfe4bb5c5b918e98ee342', '0260e6fcb44480cde5aa0e539843786f', '0261050269f52a11cf28a026ae39de1f', '026180c1eecab3bd57c11a421e1c3e6a', '0261b7cf4398ecbd5541c65e376757d7', '026228d06358b54292ca0241ddfaa3eb', '0262587ee0678a37a8f0d40a63757c41', '0262f85f3dae120f38e753b43f510d03', '026323261ce09a162ec27563c3cceac3', '026359a160b8d844c6d7a7d0104dc071', '0264ae1e1fd0789f25ab9ee1fdea30dd', '0264f555b3426b21f6d60a3200e19342', '026649200d12ad7525ba72cbf8870818', '0266f12de63738eaa96b72541d7dec08', '026799862ddd21188234fba4b76165e6', '0267c4ca94da793b6295c803af0152fd', '02689a1028e1dcd39e45753038b5adaa', '026953bffa6d2d9212dceafa3ce9d7cc', '02696cc34c1afa7fac21ea85c3f3ee9e', '026b3f251a0c49aa8f121613705fdaac', '026b683ba6c178e633d43e1806df8219', '026c2881901f9effba8cbe3bb7f0052d', '026d12f0098f9f6c10b1536ba4ba0eed', '026d66bd28ba7fe502263654b703ec5a', '026ddf5a8f0310a1cac6a3e3d45db8e1', '026e3eadccdbd47dc843309b375f9f51', '026ed9d57cbbd74d565e3bb66a345893', '026f0faa5b5da31f7687ec53a1021e49', '0270a6f5ef2c108fc282293863d01053', '02717d66872579cbffd7e24de685222b', '02725489524cad0eaa9b241a0dddb647', '0272a14f05d58ac406636a341ac4f474', '027304bb293b9eb2042cd5d0a8a67953', '02741fba0e7360a45576b0099b753e45', '027480ba7ee1a003f5070aabc14bb986', '0274b2cd182cd549e3c61e56008247ad', '027581fa95d96eafbb080e4f1a6ec582', '0275b5d1b64ceb15b462e1439fa004d2', '0275c09fa2f33c9228e48da8cccab2b4', '0276449a9ed8ff2b3708f4eda4dcccba', '0276df60d0db9aa8632aa38e033ec15a', '027796e52ca5ead08393b7aca3b53451', '0277affb536b31d1c7388c41e23e7780', '027840aedf422ade401832369f5f2687', '027a1a2e7943ea545cbae03dd6ab2ef6', '027abfe42164a8fced59eeb5ab8630be', '027b7b3cd5398ad06d22aff86b13aa0b', '027bf871cd5a4f69f7a90f074f9c7a28', '027c03c95682012e167919bc1f64e7c0', '027c832e3e4f5884e7580d4a1f494f44', '027c901339fd7056ae09a9968999c920', '027cc674028f8403a78801fa83a5eb77', '027d54bec870c104fb226575f5398ee3', '027d8054554aa77a8752e972b23032df', '027d94955fe59831ad62b8fc001714c0', '027ecab6021b157ba870d4ddcd3c415b', '027f5cc2e83bf615d059b4004cf31a62', '027f91b22b9ef921fe57e916232415d3', '02806cf599865a707adc5fb0685be150', '0280aa26f9826d810e06c00bdf61e189', '0280de0c47c286287ecfdf7e48c07abf', '028178bc1977a22c653d390ba9c58f14', '0281e28e1d978061cad9ae136e51b62d', '0282ce4fcd67e4db441407a429d6a26c', '0284755923c1fdc4a85acf2133fb242d', '0284845c553cd1e922c2fadb75d84edf', '0286d116d408f626fda60b42ab6b447e', '02872a527f73510e1f1e6465f01a4030', '02877ad637c71cb0ac5d43be1ff98af9', '02887f677ab8ff7474cba331f438c88b', '0288d90de573653d9771866340f4633c', '02898f9611b52771d5a9a5c7c15e0b73', '0289b8626d521318164faceee70e1a17', '028a01e885c179aa344ab1c186473550', '028a1f4fedf5dc0616270c7f0f1d4794', '028a2e3ae1b415588733324eb43bf4ab', '028a942a5a93a156eabaf08a192e92ac', '028afc21b49e563d84757fc41083c884', '028b1708cc6cb81cdcc3b0a3cc6cf4cd', '028b37cd20fe5afe08d5c279ccb2c445', '028bca33a60281b9c95f521a0156d5a0', '028ee50d530fb102b17fdc51f1fb31da', '028fba7ebdd5bd8cef3e36aa74afe738', '028fd5e9447df2a1ff846cb3c49a6b15', '028ff73bffbcf88b919408e31d161ff0', '029048f1610387eade57de7d324f3bdd', '0290c56cec16fdf4f540c1a7cca52c6a', '0290e6b5c59ae304fbe7bfbdb634f112', '0291042e46f6ceff6414c7b28500cfed', '02922240de0ea119c39b3f163971ed60', '0294f8d157d1ec1e3cc1ce4959f40383', '02963609095940fc358dfd0e6322c34d', '0296e7bd10ed22daa45c4d0e2ceb90bd', '02975213fd63a8a2faae8971c940e664', '0297645680d0f2374e576a8fa0c71b42', '02981611e30ee0799ba4f3ebe5ede8bd', '0298cf0f613c24078197754227aea193', '029978027f7b9e9c271b936abb6de528', '0299e72c1dca6f14655440eea66566eb', '029b6778134b319fa0a7615fe3b65b52', '029d788bbddec01b8f1eecbf1d1c1a0b', '029ed02a40996b2a02584d1220b04283', '029fcb072ab3819ccc59fb42192b8aef', '02a06e235f091083696d80bd8e48b8b8', '02a0fb25ea918e299c99114e6e1356ff', '02a10740dc8df7f5910863a45c8c5bec', '02a125d5822b158af1791a5e80a796f8', '02a266de283517b2a85c6ece63f88a52', '02a2abb492e7ea29400f74bbed90871c', '02a344a12a36864e0f7e8b2b584cef0b', '02a3ab4ca61b2101a6d84ebfa0708787', '02a423eb2729b6d60a48c1bee649fbdd', '02a49a758645551b4cc8cc334e0aa832', '02a4a02cf03dbb571c849ae25a98b175', '02a5209b20ef39730ddc7cdf6ec7c71e', '02a539120e383a85ec9b2e8b71149bdc', '02a5710f4280c99c7474a18cea905e3a', '02a5b48b2a663d98b666d6544871e8e6', '02a67275516fbfb1a707f2c250956381', '02a67cfb6335df924cf22ce4ef0af351', '02a73bbf5af5dbc698c18ca3677ff43c', '02a7b204c708ff2f98bb88e6ff0f68e3', '02a7dddcee3f2c3544589ea289f2f7f6', '02a8086a498c7835bdf9d8317c6807f4', '02a875ff3aa7ab2959c979f9e5dc769e', '02a902ed1ad92bc9b419f4d3c9c45050', '02a99c71d9964d79bbada94751609d04', '02a9a33da124ba6c6ad90f3fc5d432b2', '02aa91b38a44431c184ab670956f848e', '02ab2a0b073bf159d33258ecc9abb4f0', '02abc2f9e6b4dbb38ea4c5ab3947489e', '02abd8296a3874e6d1ee0df2f9c953d3', '02ac4cf0213ffb899cb9473df6e67f7b', '02ac4fe9caee0ef9c9210c3b3d133ef4', '02ad4f3ff20b559219fae1d21c4c6e01', '02afb956884846d6bcc3ac1addf67882', '02b05de563570cb0b63fa5545468d46f', '02b0c12a84e8eb5acc69a7826647e272', '02b1362c92101e5518c7173c2f303444', '02b192cc16d820ce0bcab4574a025c9e', '02b2b16644cbf0d2e762aa71da9595c4', '02b33b0a103130c34c8a52c5296ef6b3', '02b396e78fe34d708605eed435421548', '02b564e3b893bf344a341467a0d2caaf', '02b6c7cad765de8289adc6cc0b1aa5de', '02b7be140d465cf3b310f52926fbdc14', '02b7c62f53321acab469e5185af60dc7', '02b977a7da6792dd0716967a60e7aa42', '02ba63a036f26b2a963c87bb5418b527', '02bc2f3b1b3ae8a72c2c5986059f4e89', '02bc3deef02c9835d9a77a439ff5f70f', '02bc99158fac889dbe7fe9e40d89f493', '02bdf848b01db67355ed1793bd59c47a', '02be30274a708e03729d905821563bf8', '02bfb8c04247b9466ed49a166a270f83', '02c0b9c33bebabee429621c389cfb8d8', '02c0ebd26d4f91ba765e6bac67d7b2ed', '02c11d9ac3aff3286feb96410256637e', '02c2a7166b48026e89c8735a07980205', '02c480b3374ba3028a6ac8abb9d3593b', '02c4e0a69ce502f6766caa6a72382a63', '02c6e0ad1572d9c31cc7214e58b5d2b3', '02c81f774ee599a0c2fabe913403edf5', '02c8b0c2ed53b392d79d38fd955e94a6', '02c96dcdfd6a847a08fb0cd4adbeb2f2', '02c9bbb8c5ed225a7c746d79b0559f72', '02ca3e33a36e2806d7c0958e9870730a', '02ca5ce5e5ac408c16cc1fbcd6744d19', '02cab364dab7d386196b9bf869fe5f51', '02cb8d5a2bf0fc8ce43475a31ba8686e', '02cc7c5d500a861727269e4c4a0175d9', '02cc7f4ca6896f20708bdaface60c811', '02ccdb5cf1eb39e7155e6a0a82aa61f6', '02ccfac497f9d8805152ce1024aeb677', '02cd1fe6ee5306029eb107b712684c7b', '02cec0ca0b3c574708aa09e25378b6d7', '02cf4243c03783f0c0eec4bdb35cdc0a', '02cf453e71482dc334b275eb69fe4865', '02cf8f4aa7eb75bfa97e3cdaae9335ab', '02cfe35fbf9e5204679eec61c625fcba', '02d103d94b000773780cd3c6418a9221'])"
            ]
          },
          "metadata": {
            "tags": []
          },
          "execution_count": 11
        }
      ]
    },
    {
      "cell_type": "code",
      "metadata": {
        "id": "e4keYQkVRpVf",
        "outputId": "815b1c3b-6642-4500-d60a-6e99120caf9d",
        "colab": {
          "base_uri": "https://localhost:8080/",
          "height": 384
        }
      },
      "source": [
        "b['0000d48a8891cd462fdf01ea861ec53e']"
      ],
      "execution_count": null,
      "outputs": [
        {
          "output_type": "execute_result",
          "data": {
            "text/plain": [
              "{'272d955e9fa15e17c0f9089bdf6283cd': {'plant': '6858fb45a3d3aef7c29322d3b68dffd1'},\n",
              " '2977068f5533ac900f577fc571e9464b': {'plant': '7f8bb0fe8b33780a08fe6b60ced14529'},\n",
              " '2a4f1975d20e88b7a49a121a89d2a109': {'plant': '6858fb45a3d3aef7c29322d3b68dffd1'},\n",
              " '36fc5b66638cd6882db5484148855aad': {'plant': '6858fb45a3d3aef7c29322d3b68dffd1'},\n",
              " '436c322f5ec688c68c87b47aebee8d9c': {'plant': '6858fb45a3d3aef7c29322d3b68dffd1'},\n",
              " '50b662f8dc3d49588b12a9a3c529cf74': {'plant': '7f8bb0fe8b33780a08fe6b60ced14529'},\n",
              " '5cad89bca4f84f15a0964bb801772c35': {'plant': '7f8bb0fe8b33780a08fe6b60ced14529'},\n",
              " '5e58f7ad4e48291073ee4807d952dd62': {'plant': '6858fb45a3d3aef7c29322d3b68dffd1'},\n",
              " '5f3dffc33e579cfce95c989e7a2853d3': {'plant': '6858fb45a3d3aef7c29322d3b68dffd1'},\n",
              " '7fe8aeee4114a557a42c604c23132dd0': {'plant': '6858fb45a3d3aef7c29322d3b68dffd1'},\n",
              " '8d9b38d9a8fb90def7fbf8cca2d8d83b': {'plant': '7f8bb0fe8b33780a08fe6b60ced14529'},\n",
              " '905d1530fb707387e46ca3e03f81f3c9': {'plant': '6858fb45a3d3aef7c29322d3b68dffd1'},\n",
              " '9adea9f2af6b7e81ec81ba0bd1102b0b': {'plant': '6858fb45a3d3aef7c29322d3b68dffd1'},\n",
              " 'a3fabe1e22677e5c182ce51b7c32dc87': {'plant': '7f8bb0fe8b33780a08fe6b60ced14529'},\n",
              " 'c46237e2bdafa2e56c317f30d6b8eb8f': {'plant': '7f8bb0fe8b33780a08fe6b60ced14529'},\n",
              " 'ccde7a7ff20aeb4e0e16f7ceb0c4a7e2': {'plant': '7f8bb0fe8b33780a08fe6b60ced14529'},\n",
              " 'd9eec49e8fbb1f1b92c98036f83e4e47': {'plant': '7f8bb0fe8b33780a08fe6b60ced14529'},\n",
              " 'e995a409e52625f0e02e8f6b6c380b6a': {'plant': '7f8bb0fe8b33780a08fe6b60ced14529'},\n",
              " 'ea1d6f54160416a73374909c1e4a5c53': {'plant': '6858fb45a3d3aef7c29322d3b68dffd1'},\n",
              " 'f8681159f0a10bed6e8247cd46084fbb': {'plant': '6858fb45a3d3aef7c29322d3b68dffd1'}}"
            ]
          },
          "metadata": {
            "tags": []
          },
          "execution_count": 15
        }
      ]
    },
    {
      "cell_type": "code",
      "metadata": {
        "id": "VQMrG0f-Rskd"
      },
      "source": [
        ""
      ],
      "execution_count": null,
      "outputs": []
    }
  ]
}